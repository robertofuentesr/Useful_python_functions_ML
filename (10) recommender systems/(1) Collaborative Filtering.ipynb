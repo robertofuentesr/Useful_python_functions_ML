{
 "cells": [
  {
   "cell_type": "markdown",
   "id": "82e871f3",
   "metadata": {},
   "source": [
    "# Recomender Systems\n",
    "\n",
    "I always look for Kaggle analysis before doing my own analysis in whatever domain. I think get some ideas before starting is very important, I also like to read the comments to get a grasp of some complication that the code could have had or things that might not be well explain in the code itself. I will add something to the Kaggle analysis or reduce certains part to make the code understandable.\n",
    "The Kaggle that I was reading for this Notebook is this one:\n",
    "\n",
    "https://www.kaggle.com/code/rounakbanik/movie-recommender-systems\n",
    "\n",
    "Also I highly recommend these resources: \n",
    "\n",
    "https://surprise.readthedocs.io/en/stable/matrix_factorization.html#surprise.prediction_algorithms.matrix_factorization.SVD\n",
    "\n",
    "https://sifter.org/~simon/journal/20061211.html  "
   ]
  },
  {
   "cell_type": "code",
   "execution_count": 1,
   "id": "183ad89f",
   "metadata": {},
   "outputs": [],
   "source": [
    "# pip install scikit-surprise"
   ]
  },
  {
   "cell_type": "code",
   "execution_count": 2,
   "id": "adfb7f25",
   "metadata": {},
   "outputs": [],
   "source": [
    "%matplotlib inline\n",
    "import pandas as pd\n",
    "import numpy as np\n",
    "import matplotlib.pyplot as plt\n",
    "import seaborn as sns\n",
    "\n",
    "from ast import literal_eval\n",
    "from surprise import Reader, Dataset, SVD\n",
    "from surprise.model_selection import cross_validate\n",
    "import warnings; warnings.simplefilter('ignore')\n",
    "\n",
    "from sklearn.preprocessing import normalize\n"
   ]
  },
  {
   "cell_type": "code",
   "execution_count": 3,
   "id": "24353171",
   "metadata": {},
   "outputs": [],
   "source": [
    "pd.set_option('display.max_columns', None)\n",
    "pd.set_option('display.max_rows', None)"
   ]
  },
  {
   "cell_type": "markdown",
   "id": "4e26d6ac",
   "metadata": {},
   "source": [
    "# Movie information metadata\n",
    "\n",
    "This is the information for the movies, it gives genres, description, overall ratings and other important metrics. Here we will create a Collaborative Filtering, so this metrics we will not use it, in this notebook. But We will explore them in the future when we create a hibrid model."
   ]
  },
  {
   "cell_type": "code",
   "execution_count": 4,
   "id": "19345da3",
   "metadata": {},
   "outputs": [
    {
     "data": {
      "text/html": [
       "<div>\n",
       "<style scoped>\n",
       "    .dataframe tbody tr th:only-of-type {\n",
       "        vertical-align: middle;\n",
       "    }\n",
       "\n",
       "    .dataframe tbody tr th {\n",
       "        vertical-align: top;\n",
       "    }\n",
       "\n",
       "    .dataframe thead th {\n",
       "        text-align: right;\n",
       "    }\n",
       "</style>\n",
       "<table border=\"1\" class=\"dataframe\">\n",
       "  <thead>\n",
       "    <tr style=\"text-align: right;\">\n",
       "      <th></th>\n",
       "      <th>adult</th>\n",
       "      <th>belongs_to_collection</th>\n",
       "      <th>budget</th>\n",
       "      <th>genres</th>\n",
       "      <th>homepage</th>\n",
       "      <th>id</th>\n",
       "      <th>imdb_id</th>\n",
       "      <th>original_language</th>\n",
       "      <th>original_title</th>\n",
       "      <th>overview</th>\n",
       "      <th>popularity</th>\n",
       "      <th>poster_path</th>\n",
       "      <th>production_companies</th>\n",
       "      <th>production_countries</th>\n",
       "      <th>release_date</th>\n",
       "      <th>revenue</th>\n",
       "      <th>runtime</th>\n",
       "      <th>spoken_languages</th>\n",
       "      <th>status</th>\n",
       "      <th>tagline</th>\n",
       "      <th>title</th>\n",
       "      <th>video</th>\n",
       "      <th>vote_average</th>\n",
       "      <th>vote_count</th>\n",
       "    </tr>\n",
       "  </thead>\n",
       "  <tbody>\n",
       "    <tr>\n",
       "      <th>0</th>\n",
       "      <td>False</td>\n",
       "      <td>{'id': 10194, 'name': 'Toy Story Collection', ...</td>\n",
       "      <td>30000000</td>\n",
       "      <td>[{'id': 16, 'name': 'Animation'}, {'id': 35, '...</td>\n",
       "      <td>http://toystory.disney.com/toy-story</td>\n",
       "      <td>862</td>\n",
       "      <td>tt0114709</td>\n",
       "      <td>en</td>\n",
       "      <td>Toy Story</td>\n",
       "      <td>Led by Woody, Andy's toys live happily in his ...</td>\n",
       "      <td>21.946943</td>\n",
       "      <td>/rhIRbceoE9lR4veEXuwCC2wARtG.jpg</td>\n",
       "      <td>[{'name': 'Pixar Animation Studios', 'id': 3}]</td>\n",
       "      <td>[{'iso_3166_1': 'US', 'name': 'United States o...</td>\n",
       "      <td>1995-10-30</td>\n",
       "      <td>373554033.0</td>\n",
       "      <td>81.0</td>\n",
       "      <td>[{'iso_639_1': 'en', 'name': 'English'}]</td>\n",
       "      <td>Released</td>\n",
       "      <td>NaN</td>\n",
       "      <td>Toy Story</td>\n",
       "      <td>False</td>\n",
       "      <td>7.7</td>\n",
       "      <td>5415.0</td>\n",
       "    </tr>\n",
       "  </tbody>\n",
       "</table>\n",
       "</div>"
      ],
      "text/plain": [
       "   adult                              belongs_to_collection    budget  \\\n",
       "0  False  {'id': 10194, 'name': 'Toy Story Collection', ...  30000000   \n",
       "\n",
       "                                              genres  \\\n",
       "0  [{'id': 16, 'name': 'Animation'}, {'id': 35, '...   \n",
       "\n",
       "                               homepage   id    imdb_id original_language  \\\n",
       "0  http://toystory.disney.com/toy-story  862  tt0114709                en   \n",
       "\n",
       "  original_title                                           overview  \\\n",
       "0      Toy Story  Led by Woody, Andy's toys live happily in his ...   \n",
       "\n",
       "  popularity                       poster_path  \\\n",
       "0  21.946943  /rhIRbceoE9lR4veEXuwCC2wARtG.jpg   \n",
       "\n",
       "                             production_companies  \\\n",
       "0  [{'name': 'Pixar Animation Studios', 'id': 3}]   \n",
       "\n",
       "                                production_countries release_date  \\\n",
       "0  [{'iso_3166_1': 'US', 'name': 'United States o...   1995-10-30   \n",
       "\n",
       "       revenue  runtime                          spoken_languages    status  \\\n",
       "0  373554033.0     81.0  [{'iso_639_1': 'en', 'name': 'English'}]  Released   \n",
       "\n",
       "  tagline      title  video  vote_average  vote_count  \n",
       "0     NaN  Toy Story  False           7.7      5415.0  "
      ]
     },
     "execution_count": 4,
     "metadata": {},
     "output_type": "execute_result"
    }
   ],
   "source": [
    "# Read the data\n",
    "\n",
    "X_full = pd.read_csv('movies_metadata.csv')\n",
    "\n",
    "X_full.head(1)"
   ]
  },
  {
   "cell_type": "code",
   "execution_count": 5,
   "id": "89e6b3fd",
   "metadata": {},
   "outputs": [
    {
     "data": {
      "text/html": [
       "<div>\n",
       "<style scoped>\n",
       "    .dataframe tbody tr th:only-of-type {\n",
       "        vertical-align: middle;\n",
       "    }\n",
       "\n",
       "    .dataframe tbody tr th {\n",
       "        vertical-align: top;\n",
       "    }\n",
       "\n",
       "    .dataframe thead th {\n",
       "        text-align: right;\n",
       "    }\n",
       "</style>\n",
       "<table border=\"1\" class=\"dataframe\">\n",
       "  <thead>\n",
       "    <tr style=\"text-align: right;\">\n",
       "      <th></th>\n",
       "      <th>adult</th>\n",
       "      <th>belongs_to_collection</th>\n",
       "      <th>budget</th>\n",
       "      <th>genres</th>\n",
       "      <th>homepage</th>\n",
       "      <th>id</th>\n",
       "      <th>imdb_id</th>\n",
       "      <th>original_language</th>\n",
       "      <th>original_title</th>\n",
       "      <th>overview</th>\n",
       "      <th>popularity</th>\n",
       "      <th>poster_path</th>\n",
       "      <th>production_companies</th>\n",
       "      <th>production_countries</th>\n",
       "      <th>release_date</th>\n",
       "      <th>revenue</th>\n",
       "      <th>runtime</th>\n",
       "      <th>spoken_languages</th>\n",
       "      <th>status</th>\n",
       "      <th>tagline</th>\n",
       "      <th>title</th>\n",
       "      <th>video</th>\n",
       "      <th>vote_average</th>\n",
       "      <th>vote_count</th>\n",
       "      <th>year</th>\n",
       "    </tr>\n",
       "  </thead>\n",
       "  <tbody>\n",
       "    <tr>\n",
       "      <th>0</th>\n",
       "      <td>False</td>\n",
       "      <td>{'id': 10194, 'name': 'Toy Story Collection', ...</td>\n",
       "      <td>30000000</td>\n",
       "      <td>[Animation, Comedy, Family]</td>\n",
       "      <td>http://toystory.disney.com/toy-story</td>\n",
       "      <td>862</td>\n",
       "      <td>tt0114709</td>\n",
       "      <td>en</td>\n",
       "      <td>Toy Story</td>\n",
       "      <td>Led by Woody, Andy's toys live happily in his ...</td>\n",
       "      <td>21.946943</td>\n",
       "      <td>/rhIRbceoE9lR4veEXuwCC2wARtG.jpg</td>\n",
       "      <td>[{'name': 'Pixar Animation Studios', 'id': 3}]</td>\n",
       "      <td>[{'iso_3166_1': 'US', 'name': 'United States o...</td>\n",
       "      <td>1995-10-30</td>\n",
       "      <td>373554033.0</td>\n",
       "      <td>81.0</td>\n",
       "      <td>[{'iso_639_1': 'en', 'name': 'English'}]</td>\n",
       "      <td>Released</td>\n",
       "      <td>NaN</td>\n",
       "      <td>Toy Story</td>\n",
       "      <td>False</td>\n",
       "      <td>7.7</td>\n",
       "      <td>5415.0</td>\n",
       "      <td>1995</td>\n",
       "    </tr>\n",
       "    <tr>\n",
       "      <th>1</th>\n",
       "      <td>False</td>\n",
       "      <td>NaN</td>\n",
       "      <td>65000000</td>\n",
       "      <td>[Adventure, Fantasy, Family]</td>\n",
       "      <td>NaN</td>\n",
       "      <td>8844</td>\n",
       "      <td>tt0113497</td>\n",
       "      <td>en</td>\n",
       "      <td>Jumanji</td>\n",
       "      <td>When siblings Judy and Peter discover an encha...</td>\n",
       "      <td>17.015539</td>\n",
       "      <td>/vzmL6fP7aPKNKPRTFnZmiUfciyV.jpg</td>\n",
       "      <td>[{'name': 'TriStar Pictures', 'id': 559}, {'na...</td>\n",
       "      <td>[{'iso_3166_1': 'US', 'name': 'United States o...</td>\n",
       "      <td>1995-12-15</td>\n",
       "      <td>262797249.0</td>\n",
       "      <td>104.0</td>\n",
       "      <td>[{'iso_639_1': 'en', 'name': 'English'}, {'iso...</td>\n",
       "      <td>Released</td>\n",
       "      <td>Roll the dice and unleash the excitement!</td>\n",
       "      <td>Jumanji</td>\n",
       "      <td>False</td>\n",
       "      <td>6.9</td>\n",
       "      <td>2413.0</td>\n",
       "      <td>1995</td>\n",
       "    </tr>\n",
       "  </tbody>\n",
       "</table>\n",
       "</div>"
      ],
      "text/plain": [
       "   adult                              belongs_to_collection    budget  \\\n",
       "0  False  {'id': 10194, 'name': 'Toy Story Collection', ...  30000000   \n",
       "1  False                                                NaN  65000000   \n",
       "\n",
       "                         genres                              homepage    id  \\\n",
       "0   [Animation, Comedy, Family]  http://toystory.disney.com/toy-story   862   \n",
       "1  [Adventure, Fantasy, Family]                                   NaN  8844   \n",
       "\n",
       "     imdb_id original_language original_title  \\\n",
       "0  tt0114709                en      Toy Story   \n",
       "1  tt0113497                en        Jumanji   \n",
       "\n",
       "                                            overview popularity  \\\n",
       "0  Led by Woody, Andy's toys live happily in his ...  21.946943   \n",
       "1  When siblings Judy and Peter discover an encha...  17.015539   \n",
       "\n",
       "                        poster_path  \\\n",
       "0  /rhIRbceoE9lR4veEXuwCC2wARtG.jpg   \n",
       "1  /vzmL6fP7aPKNKPRTFnZmiUfciyV.jpg   \n",
       "\n",
       "                                production_companies  \\\n",
       "0     [{'name': 'Pixar Animation Studios', 'id': 3}]   \n",
       "1  [{'name': 'TriStar Pictures', 'id': 559}, {'na...   \n",
       "\n",
       "                                production_countries release_date  \\\n",
       "0  [{'iso_3166_1': 'US', 'name': 'United States o...   1995-10-30   \n",
       "1  [{'iso_3166_1': 'US', 'name': 'United States o...   1995-12-15   \n",
       "\n",
       "       revenue  runtime                                   spoken_languages  \\\n",
       "0  373554033.0     81.0           [{'iso_639_1': 'en', 'name': 'English'}]   \n",
       "1  262797249.0    104.0  [{'iso_639_1': 'en', 'name': 'English'}, {'iso...   \n",
       "\n",
       "     status                                    tagline      title  video  \\\n",
       "0  Released                                        NaN  Toy Story  False   \n",
       "1  Released  Roll the dice and unleash the excitement!    Jumanji  False   \n",
       "\n",
       "   vote_average  vote_count  year  \n",
       "0           7.7      5415.0  1995  \n",
       "1           6.9      2413.0  1995  "
      ]
     },
     "execution_count": 5,
     "metadata": {},
     "output_type": "execute_result"
    }
   ],
   "source": [
    "# We will use the same cleaning process as the kaggle code provided above :) \n",
    "X_full['genres'] = X_full['genres'].fillna('[]').apply(literal_eval).apply(lambda x: [i['name'] for i in x] if isinstance(x, list) else [])\n",
    "X_full['year'] = pd.to_datetime(X_full['release_date'], errors='coerce').apply(lambda x: str(x).split('-')[0] if x != np.nan else np.nan)\n",
    "X_full.head(2)"
   ]
  },
  {
   "cell_type": "code",
   "execution_count": 6,
   "id": "0820e4c3",
   "metadata": {},
   "outputs": [
    {
     "data": {
      "text/plain": [
       "45436"
      ]
     },
     "execution_count": 6,
     "metadata": {},
     "output_type": "execute_result"
    }
   ],
   "source": [
    "len(X_full.id.unique()) # how many movies"
   ]
  },
  {
   "cell_type": "code",
   "execution_count": 7,
   "id": "bdacd4fc",
   "metadata": {},
   "outputs": [
    {
     "data": {
      "text/plain": [
       "\"Led by Woody, Andy's toys live happily in his room until Andy's birthday brings Buzz Lightyear onto the scene. Afraid of losing his place in Andy's heart, Woody plots against Buzz. But when circumstances separate Buzz and Woody from their owner, the duo eventually learns to put aside their differences.\""
      ]
     },
     "execution_count": 7,
     "metadata": {},
     "output_type": "execute_result"
    }
   ],
   "source": [
    "str(X_full['overview'][0])"
   ]
  },
  {
   "cell_type": "code",
   "execution_count": 8,
   "id": "aa7349c1",
   "metadata": {},
   "outputs": [
    {
     "data": {
      "text/plain": [
       "\"[{'name': 'Pixar Animation Studios', 'id': 3}]\""
      ]
     },
     "execution_count": 8,
     "metadata": {},
     "output_type": "execute_result"
    }
   ],
   "source": [
    "str(X_full['production_companies'][0])"
   ]
  },
  {
   "cell_type": "markdown",
   "id": "eb8b5c57",
   "metadata": {},
   "source": [
    "# Analysing Previous Kaggles and Understanding what is possible\n",
    "\n",
    "(Here I continue to use the notebook of ROUNAK BANIK presented above)\n",
    "So in the Kaggle presented there are differents way to recommend that I would like to mentioned:\n",
    "\n",
    "- Recommend just based on populary and \"general taste\": this is base in recommend movies that are really like for a lot of people, let us say that those are \"good movies\". The columns that they use are: vote_count,\tvote_average,\tpopularity and a new column created called wr.\n",
    "here is a extract of the Kaggle:\n",
    "\n",
    "\"\"\"\n",
    "\n",
    "I use the TMDB Ratings to come up with our **Top Movies Chart.** I will use IMDB's *weighted rating* formula to construct my chart. Mathematically, it is represented as follows:\n",
    "\n",
    "Weighted Rating (WR) = $(\\frac{v}{v + m} . R) + (\\frac{m}{v + m} . C)$\n",
    "\n",
    "where,\n",
    "* *v* is the number of votes for the movie\n",
    "* *m* is the minimum votes required to be listed in the chart\n",
    "* *R* is the average rating of the movie\n",
    "* *C* is the mean vote across the whole report\n",
    "\n",
    "\"\"\"\n",
    "- The other one is the content based one: The idea here is to see similarities in movies based on description and actors/directors in it. Columns to use: genres,overview,tagline. And I would add: adult and production_companies.\n",
    "\n",
    "- Collaborative Filtering: Here we use ratings giving by other users to make predictions. This is the model we will build!!"
   ]
  },
  {
   "cell_type": "markdown",
   "id": "4d9c6243",
   "metadata": {},
   "source": [
    "# Collaborative Filtering"
   ]
  },
  {
   "cell_type": "code",
   "execution_count": 9,
   "id": "752e3b8f",
   "metadata": {},
   "outputs": [
    {
     "data": {
      "text/html": [
       "<div>\n",
       "<style scoped>\n",
       "    .dataframe tbody tr th:only-of-type {\n",
       "        vertical-align: middle;\n",
       "    }\n",
       "\n",
       "    .dataframe tbody tr th {\n",
       "        vertical-align: top;\n",
       "    }\n",
       "\n",
       "    .dataframe thead th {\n",
       "        text-align: right;\n",
       "    }\n",
       "</style>\n",
       "<table border=\"1\" class=\"dataframe\">\n",
       "  <thead>\n",
       "    <tr style=\"text-align: right;\">\n",
       "      <th></th>\n",
       "      <th>userId</th>\n",
       "      <th>movieId</th>\n",
       "      <th>rating</th>\n",
       "      <th>timestamp</th>\n",
       "    </tr>\n",
       "  </thead>\n",
       "  <tbody>\n",
       "    <tr>\n",
       "      <th>0</th>\n",
       "      <td>68</td>\n",
       "      <td>1</td>\n",
       "      <td>4.0</td>\n",
       "      <td>1194741818</td>\n",
       "    </tr>\n",
       "    <tr>\n",
       "      <th>1</th>\n",
       "      <td>261</td>\n",
       "      <td>1</td>\n",
       "      <td>1.5</td>\n",
       "      <td>1101665532</td>\n",
       "    </tr>\n",
       "    <tr>\n",
       "      <th>2</th>\n",
       "      <td>383</td>\n",
       "      <td>1</td>\n",
       "      <td>5.0</td>\n",
       "      <td>852806429</td>\n",
       "    </tr>\n",
       "  </tbody>\n",
       "</table>\n",
       "</div>"
      ],
      "text/plain": [
       "   userId  movieId  rating   timestamp\n",
       "0      68        1     4.0  1194741818\n",
       "1     261        1     1.5  1101665532\n",
       "2     383        1     5.0   852806429"
      ]
     },
     "execution_count": 9,
     "metadata": {},
     "output_type": "execute_result"
    }
   ],
   "source": [
    "# Read the data\n",
    "\n",
    "X = pd.read_csv('ratings_small.csv').sort_values(by=['movieId']).reset_index(drop=True)\n",
    "\n",
    "X.head(3)"
   ]
  },
  {
   "cell_type": "code",
   "execution_count": 10,
   "id": "2d84845c",
   "metadata": {},
   "outputs": [
    {
     "data": {
      "text/plain": [
       "(100004, 4)"
      ]
     },
     "execution_count": 10,
     "metadata": {},
     "output_type": "execute_result"
    }
   ],
   "source": [
    "X.shape"
   ]
  },
  {
   "cell_type": "code",
   "execution_count": 11,
   "id": "a9f9e6b2",
   "metadata": {},
   "outputs": [
    {
     "data": {
      "text/plain": [
       "9066"
      ]
     },
     "execution_count": 11,
     "metadata": {},
     "output_type": "execute_result"
    }
   ],
   "source": [
    "len(X.movieId.unique())"
   ]
  },
  {
   "cell_type": "code",
   "execution_count": 12,
   "id": "4640e219",
   "metadata": {},
   "outputs": [
    {
     "data": {
      "text/plain": [
       "671"
      ]
     },
     "execution_count": 12,
     "metadata": {},
     "output_type": "execute_result"
    }
   ],
   "source": [
    "len(X.userId.unique())"
   ]
  },
  {
   "cell_type": "code",
   "execution_count": 13,
   "id": "68b0f711",
   "metadata": {},
   "outputs": [],
   "source": [
    "reader = Reader()"
   ]
  },
  {
   "cell_type": "code",
   "execution_count": 14,
   "id": "b2be65ad",
   "metadata": {},
   "outputs": [],
   "source": [
    "data = Dataset.load_from_df(X[['userId', 'movieId', 'rating']], reader)"
   ]
  },
  {
   "cell_type": "code",
   "execution_count": 15,
   "id": "cd17f040",
   "metadata": {},
   "outputs": [
    {
     "name": "stdout",
     "output_type": "stream",
     "text": [
      "Evaluating RMSE, MAE of algorithm SVD on 5 split(s).\n",
      "\n",
      "                  Fold 1  Fold 2  Fold 3  Fold 4  Fold 5  Mean    Std     \n",
      "RMSE (testset)    0.8918  0.8988  0.8897  0.8974  0.9054  0.8966  0.0055  \n",
      "MAE (testset)     0.6884  0.6916  0.6871  0.6911  0.6960  0.6908  0.0031  \n",
      "Fit time          0.71    0.73    0.92    1.27    1.29    0.98    0.25    \n",
      "Test time         0.08    0.16    0.17    0.28    0.16    0.17    0.06    \n"
     ]
    },
    {
     "data": {
      "text/plain": [
       "{'test_rmse': array([0.8917999 , 0.89884245, 0.88973435, 0.89740401, 0.90540752]),\n",
       " 'test_mae': array([0.68837034, 0.69159241, 0.68714005, 0.69112121, 0.69600936]),\n",
       " 'fit_time': (0.7128250598907471,\n",
       "  0.7275521755218506,\n",
       "  0.9187402725219727,\n",
       "  1.2729270458221436,\n",
       "  1.2922124862670898),\n",
       " 'test_time': (0.07535076141357422,\n",
       "  0.1579151153564453,\n",
       "  0.16622066497802734,\n",
       "  0.27763795852661133,\n",
       "  0.16309690475463867)}"
      ]
     },
     "execution_count": 15,
     "metadata": {},
     "output_type": "execute_result"
    }
   ],
   "source": [
    "# We'll use the famous SVD algorithm.\n",
    "svd = SVD(biased= True)\n",
    "\n",
    "# Run 5-fold cross-validation and print results\n",
    "cross_validate(svd, data, measures=[\"RMSE\", \"MAE\"], cv=5, verbose=True)"
   ]
  },
  {
   "cell_type": "markdown",
   "id": "096c187e",
   "metadata": {},
   "source": [
    "So what we got is that generally we make an error of less than 1 point in the ratings for user rating a movie that they haven't seen yet!"
   ]
  },
  {
   "cell_type": "code",
   "execution_count": 16,
   "id": "55a65fdf",
   "metadata": {},
   "outputs": [
    {
     "data": {
      "text/plain": [
       "Prediction(uid=1, iid=302, r_ui=2, est=2.990491638708688, details={'was_impossible': False})"
      ]
     },
     "execution_count": 16,
     "metadata": {},
     "output_type": "execute_result"
    }
   ],
   "source": [
    "dont_print = str(\"\"\"\n",
    "uid – The (raw) user id. See this note.\n",
    "iid – The (raw) item id. See this note.\n",
    "r_ui (float) – The true rating \n",
    "est (float) – The estimated rating \n",
    "\"\"\")\n",
    "svd.predict(1, 302,2) "
   ]
  },
  {
   "cell_type": "markdown",
   "id": "8cff0192",
   "metadata": {},
   "source": [
    "# What movies are similar?\n",
    "\n",
    "Maybe this question will sound a little weird to answer with the model we created. How would we know which movies are similar if we do a collaborative filter instead of a content base model?\n",
    "\n",
    "As it turns out the model creates two matrices one is the user matrix and the other one is the movie matrix. Let us explore this a little more.."
   ]
  },
  {
   "cell_type": "code",
   "execution_count": 17,
   "id": "d475c734",
   "metadata": {},
   "outputs": [
    {
     "data": {
      "text/plain": [
       "<surprise.prediction_algorithms.matrix_factorization.SVD at 0x2113c398810>"
      ]
     },
     "execution_count": 17,
     "metadata": {},
     "output_type": "execute_result"
    }
   ],
   "source": [
    "# Firsly let us use the whole Dataset\n",
    "data = Dataset.load_from_df(X[['userId', 'movieId', 'rating']], reader)\n",
    "trainset = data.build_full_trainset()\n",
    "svd = SVD(n_factors=100,biased = True)\n",
    "svd.fit(trainset)"
   ]
  },
  {
   "cell_type": "code",
   "execution_count": 18,
   "id": "74636fb7",
   "metadata": {},
   "outputs": [
    {
     "data": {
      "text/plain": [
       "100"
      ]
     },
     "execution_count": 18,
     "metadata": {},
     "output_type": "execute_result"
    }
   ],
   "source": [
    "# movie matrix\n",
    "movie_matrix_temp = svd.qi\n",
    "movie_matrix = normalize(movie_matrix_temp, axis=0, norm='l1')\n",
    "len(movie_matrix[8])"
   ]
  },
  {
   "cell_type": "code",
   "execution_count": 19,
   "id": "a08fce85",
   "metadata": {},
   "outputs": [
    {
     "data": {
      "text/plain": [
       "0.0022739700403727847"
      ]
     },
     "execution_count": 19,
     "metadata": {},
     "output_type": "execute_result"
    }
   ],
   "source": [
    "sum(movie_matrix[0])"
   ]
  },
  {
   "cell_type": "code",
   "execution_count": 20,
   "id": "a9e4ddea",
   "metadata": {},
   "outputs": [
    {
     "data": {
      "text/plain": [
       "(671, 100)"
      ]
     },
     "execution_count": 20,
     "metadata": {},
     "output_type": "execute_result"
    }
   ],
   "source": [
    "# users matrix\n",
    "svd.pu.shape"
   ]
  },
  {
   "cell_type": "code",
   "execution_count": 21,
   "id": "c8db7b76",
   "metadata": {},
   "outputs": [
    {
     "data": {
      "text/html": [
       "<div>\n",
       "<style scoped>\n",
       "    .dataframe tbody tr th:only-of-type {\n",
       "        vertical-align: middle;\n",
       "    }\n",
       "\n",
       "    .dataframe tbody tr th {\n",
       "        vertical-align: top;\n",
       "    }\n",
       "\n",
       "    .dataframe thead th {\n",
       "        text-align: right;\n",
       "    }\n",
       "</style>\n",
       "<table border=\"1\" class=\"dataframe\">\n",
       "  <thead>\n",
       "    <tr style=\"text-align: right;\">\n",
       "      <th></th>\n",
       "      <th>id</th>\n",
       "      <th>original_title</th>\n",
       "      <th>vote_count</th>\n",
       "    </tr>\n",
       "  </thead>\n",
       "  <tbody>\n",
       "    <tr>\n",
       "      <th>15480</th>\n",
       "      <td>27205</td>\n",
       "      <td>Inception</td>\n",
       "      <td>14075.0</td>\n",
       "    </tr>\n",
       "    <tr>\n",
       "      <th>12481</th>\n",
       "      <td>155</td>\n",
       "      <td>The Dark Knight</td>\n",
       "      <td>12269.0</td>\n",
       "    </tr>\n",
       "    <tr>\n",
       "      <th>14551</th>\n",
       "      <td>19995</td>\n",
       "      <td>Avatar</td>\n",
       "      <td>12114.0</td>\n",
       "    </tr>\n",
       "    <tr>\n",
       "      <th>17818</th>\n",
       "      <td>24428</td>\n",
       "      <td>The Avengers</td>\n",
       "      <td>12000.0</td>\n",
       "    </tr>\n",
       "    <tr>\n",
       "      <th>26564</th>\n",
       "      <td>293660</td>\n",
       "      <td>Deadpool</td>\n",
       "      <td>11444.0</td>\n",
       "    </tr>\n",
       "    <tr>\n",
       "      <th>22879</th>\n",
       "      <td>157336</td>\n",
       "      <td>Interstellar</td>\n",
       "      <td>11187.0</td>\n",
       "    </tr>\n",
       "    <tr>\n",
       "      <th>20051</th>\n",
       "      <td>68718</td>\n",
       "      <td>Django Unchained</td>\n",
       "      <td>10297.0</td>\n",
       "    </tr>\n",
       "    <tr>\n",
       "      <th>23753</th>\n",
       "      <td>118340</td>\n",
       "      <td>Guardians of the Galaxy</td>\n",
       "      <td>10014.0</td>\n",
       "    </tr>\n",
       "    <tr>\n",
       "      <th>2843</th>\n",
       "      <td>550</td>\n",
       "      <td>Fight Club</td>\n",
       "      <td>9678.0</td>\n",
       "    </tr>\n",
       "    <tr>\n",
       "      <th>18244</th>\n",
       "      <td>70160</td>\n",
       "      <td>The Hunger Games</td>\n",
       "      <td>9634.0</td>\n",
       "    </tr>\n",
       "  </tbody>\n",
       "</table>\n",
       "</div>"
      ],
      "text/plain": [
       "           id           original_title  vote_count\n",
       "15480   27205                Inception     14075.0\n",
       "12481     155          The Dark Knight     12269.0\n",
       "14551   19995                   Avatar     12114.0\n",
       "17818   24428             The Avengers     12000.0\n",
       "26564  293660                 Deadpool     11444.0\n",
       "22879  157336             Interstellar     11187.0\n",
       "20051   68718         Django Unchained     10297.0\n",
       "23753  118340  Guardians of the Galaxy     10014.0\n",
       "2843      550               Fight Club      9678.0\n",
       "18244   70160         The Hunger Games      9634.0"
      ]
     },
     "execution_count": 21,
     "metadata": {},
     "output_type": "execute_result"
    }
   ],
   "source": [
    "# finding some popular movie to see what the model \"sees\" as similar\n",
    "X_full['vote_count'] = X_full['vote_count'].apply(lambda x: float(x))\n",
    "X_full[['id','original_title','vote_count']].sort_values(by='vote_count',ascending=False).head(10)"
   ]
  },
  {
   "cell_type": "code",
   "execution_count": 22,
   "id": "c90bb42f",
   "metadata": {},
   "outputs": [
    {
     "data": {
      "text/html": [
       "<div>\n",
       "<style scoped>\n",
       "    .dataframe tbody tr th:only-of-type {\n",
       "        vertical-align: middle;\n",
       "    }\n",
       "\n",
       "    .dataframe tbody tr th {\n",
       "        vertical-align: top;\n",
       "    }\n",
       "\n",
       "    .dataframe thead th {\n",
       "        text-align: right;\n",
       "    }\n",
       "</style>\n",
       "<table border=\"1\" class=\"dataframe\">\n",
       "  <thead>\n",
       "    <tr style=\"text-align: right;\">\n",
       "      <th></th>\n",
       "      <th>id</th>\n",
       "      <th>appearance</th>\n",
       "    </tr>\n",
       "  </thead>\n",
       "  <tbody>\n",
       "    <tr>\n",
       "      <th>0</th>\n",
       "      <td>1</td>\n",
       "      <td>247</td>\n",
       "    </tr>\n",
       "    <tr>\n",
       "      <th>1</th>\n",
       "      <td>2</td>\n",
       "      <td>107</td>\n",
       "    </tr>\n",
       "  </tbody>\n",
       "</table>\n",
       "</div>"
      ],
      "text/plain": [
       "   id  appearance\n",
       "0   1         247\n",
       "1   2         107"
      ]
     },
     "execution_count": 22,
     "metadata": {},
     "output_type": "execute_result"
    }
   ],
   "source": [
    "# let us see how many times each movie apears on X so that we know how many chances they got to get evaluated\n",
    "count_appearance = X[['userId', 'movieId']].groupby('movieId').count().reset_index(drop=False)\n",
    "count_appearance['id'] = count_appearance['movieId']\n",
    "count_appearance['appearance'] = count_appearance['userId']\n",
    "del count_appearance['userId']\n",
    "del count_appearance['movieId']\n",
    "count_appearance.head(2)"
   ]
  },
  {
   "cell_type": "markdown",
   "id": "496d9be2",
   "metadata": {},
   "source": [
    "Let us take the second movie: The Dark Knight"
   ]
  },
  {
   "cell_type": "code",
   "execution_count": 23,
   "id": "7151f44b",
   "metadata": {},
   "outputs": [],
   "source": [
    "def get_similar_movies(index_movie,movie_matrix,X_full,X,count_appearance):\n",
    "    # we have this\n",
    "    movies_id = list(X.movieId.unique())\n",
    "    # this are the id of the user ratings, we have to find in which position the id 155 is, is not necesarily position 154 because in can be \"jump\"\n",
    "    tuple_index_movies = list(enumerate(movies_id))\n",
    "    position_in_X = [item for item in tuple_index_movies if item[1] == index_movie][0][0]\n",
    "    # interting movie to analyse\n",
    "    movie = movie_matrix[position_in_X].reshape(1,-1)    \n",
    "    similarities_temp = np.dot(movie,movie_matrix.T)\n",
    "    similarities = list(similarities_temp.flatten())\n",
    "    df_similarities_temp = pd.DataFrame({'id':movies_id,'similarities':similarities}).sort_values(by='similarities',ascending=False)\n",
    "    df_similarities_temp['id']=df_similarities_temp['id'].astype(str)\n",
    "    X_full['id']=X_full['id'].astype(str)\n",
    "    count_appearance['id']=count_appearance['id'].astype(str)\n",
    "    df_similarities = df_similarities_temp.merge(X_full[['id','title','year','genres','vote_average']] ,on='id',how='inner')\n",
    "    df_similarities = df_similarities.merge(count_appearance[['id','appearance']] ,on='id',how='left')\n",
    "    return df_similarities"
   ]
  },
  {
   "cell_type": "code",
   "execution_count": 24,
   "id": "b4e4421f",
   "metadata": {},
   "outputs": [
    {
     "data": {
      "text/html": [
       "<div>\n",
       "<style scoped>\n",
       "    .dataframe tbody tr th:only-of-type {\n",
       "        vertical-align: middle;\n",
       "    }\n",
       "\n",
       "    .dataframe tbody tr th {\n",
       "        vertical-align: top;\n",
       "    }\n",
       "\n",
       "    .dataframe thead th {\n",
       "        text-align: right;\n",
       "    }\n",
       "</style>\n",
       "<table border=\"1\" class=\"dataframe\">\n",
       "  <thead>\n",
       "    <tr style=\"text-align: right;\">\n",
       "      <th></th>\n",
       "      <th>id</th>\n",
       "      <th>similarities</th>\n",
       "      <th>title</th>\n",
       "      <th>year</th>\n",
       "      <th>genres</th>\n",
       "      <th>vote_average</th>\n",
       "      <th>appearance</th>\n",
       "    </tr>\n",
       "  </thead>\n",
       "  <tbody>\n",
       "    <tr>\n",
       "      <th>0</th>\n",
       "      <td>592</td>\n",
       "      <td>1.323164e-06</td>\n",
       "      <td>The Conversation</td>\n",
       "      <td>1974</td>\n",
       "      <td>[Crime, Drama, Mystery]</td>\n",
       "      <td>7.5</td>\n",
       "      <td>196</td>\n",
       "    </tr>\n",
       "    <tr>\n",
       "      <th>1</th>\n",
       "      <td>3114</td>\n",
       "      <td>1.309119e-06</td>\n",
       "      <td>The Searchers</td>\n",
       "      <td>1956</td>\n",
       "      <td>[Western]</td>\n",
       "      <td>7.7</td>\n",
       "      <td>125</td>\n",
       "    </tr>\n",
       "    <tr>\n",
       "      <th>2</th>\n",
       "      <td>159</td>\n",
       "      <td>9.608834e-07</td>\n",
       "      <td>Maybe... Maybe Not</td>\n",
       "      <td>1994</td>\n",
       "      <td>[Comedy, Drama]</td>\n",
       "      <td>6.1</td>\n",
       "      <td>8</td>\n",
       "    </tr>\n",
       "    <tr>\n",
       "      <th>3</th>\n",
       "      <td>364</td>\n",
       "      <td>9.073717e-07</td>\n",
       "      <td>Batman Returns</td>\n",
       "      <td>1992</td>\n",
       "      <td>[Action, Fantasy]</td>\n",
       "      <td>6.6</td>\n",
       "      <td>200</td>\n",
       "    </tr>\n",
       "    <tr>\n",
       "      <th>4</th>\n",
       "      <td>480</td>\n",
       "      <td>9.059263e-07</td>\n",
       "      <td>Monsoon Wedding</td>\n",
       "      <td>2001</td>\n",
       "      <td>[Comedy, Drama, Romance]</td>\n",
       "      <td>6.8</td>\n",
       "      <td>274</td>\n",
       "    </tr>\n",
       "    <tr>\n",
       "      <th>5</th>\n",
       "      <td>754</td>\n",
       "      <td>9.032211e-07</td>\n",
       "      <td>Face/Off</td>\n",
       "      <td>1997</td>\n",
       "      <td>[Action, Crime, Science Fiction, Thriller]</td>\n",
       "      <td>6.8</td>\n",
       "      <td>3</td>\n",
       "    </tr>\n",
       "    <tr>\n",
       "      <th>6</th>\n",
       "      <td>593</td>\n",
       "      <td>8.870982e-07</td>\n",
       "      <td>Solaris</td>\n",
       "      <td>1972</td>\n",
       "      <td>[Drama, Science Fiction, Adventure, Mystery]</td>\n",
       "      <td>7.7</td>\n",
       "      <td>304</td>\n",
       "    </tr>\n",
       "    <tr>\n",
       "      <th>7</th>\n",
       "      <td>22</td>\n",
       "      <td>7.868560e-07</td>\n",
       "      <td>Pirates of the Caribbean: The Curse of the Bla...</td>\n",
       "      <td>2003</td>\n",
       "      <td>[Adventure, Fantasy, Action]</td>\n",
       "      <td>7.5</td>\n",
       "      <td>38</td>\n",
       "    </tr>\n",
       "    <tr>\n",
       "      <th>8</th>\n",
       "      <td>1721</td>\n",
       "      <td>7.836153e-07</td>\n",
       "      <td>All the Way Boys</td>\n",
       "      <td>1972</td>\n",
       "      <td>[Adventure, Action, Comedy]</td>\n",
       "      <td>6.5</td>\n",
       "      <td>164</td>\n",
       "    </tr>\n",
       "    <tr>\n",
       "      <th>9</th>\n",
       "      <td>2671</td>\n",
       "      <td>7.827346e-07</td>\n",
       "      <td>Ringu</td>\n",
       "      <td>1998</td>\n",
       "      <td>[Horror, Thriller]</td>\n",
       "      <td>6.9</td>\n",
       "      <td>64</td>\n",
       "    </tr>\n",
       "    <tr>\n",
       "      <th>10</th>\n",
       "      <td>506</td>\n",
       "      <td>7.663271e-07</td>\n",
       "      <td>Marnie</td>\n",
       "      <td>1964</td>\n",
       "      <td>[Crime, Drama, Mystery, Thriller]</td>\n",
       "      <td>7.2</td>\n",
       "      <td>9</td>\n",
       "    </tr>\n",
       "    <tr>\n",
       "      <th>11</th>\n",
       "      <td>1701</td>\n",
       "      <td>7.654040e-07</td>\n",
       "      <td>Con Air</td>\n",
       "      <td>1997</td>\n",
       "      <td>[Action, Thriller, Crime]</td>\n",
       "      <td>6.5</td>\n",
       "      <td>16</td>\n",
       "    </tr>\n",
       "    <tr>\n",
       "      <th>12</th>\n",
       "      <td>58559</td>\n",
       "      <td>7.649306e-07</td>\n",
       "      <td>Confession of a Child of the Century</td>\n",
       "      <td>2012</td>\n",
       "      <td>[Drama]</td>\n",
       "      <td>4.9</td>\n",
       "      <td>121</td>\n",
       "    </tr>\n",
       "    <tr>\n",
       "      <th>13</th>\n",
       "      <td>64501</td>\n",
       "      <td>7.614835e-07</td>\n",
       "      <td>Naughty @ 40</td>\n",
       "      <td>2011</td>\n",
       "      <td>[Comedy, Drama]</td>\n",
       "      <td>0.0</td>\n",
       "      <td>2</td>\n",
       "    </tr>\n",
       "    <tr>\n",
       "      <th>14</th>\n",
       "      <td>1633</td>\n",
       "      <td>7.614113e-07</td>\n",
       "      <td>Fried Green Tomatoes</td>\n",
       "      <td>1991</td>\n",
       "      <td>[Drama, Comedy]</td>\n",
       "      <td>7.6</td>\n",
       "      <td>8</td>\n",
       "    </tr>\n",
       "    <tr>\n",
       "      <th>15</th>\n",
       "      <td>43391</td>\n",
       "      <td>7.586901e-07</td>\n",
       "      <td>The Flying Saucer</td>\n",
       "      <td>1950</td>\n",
       "      <td>[Thriller, Science Fiction]</td>\n",
       "      <td>2.7</td>\n",
       "      <td>1</td>\n",
       "    </tr>\n",
       "    <tr>\n",
       "      <th>16</th>\n",
       "      <td>8814</td>\n",
       "      <td>7.455824e-07</td>\n",
       "      <td>Doom</td>\n",
       "      <td>2005</td>\n",
       "      <td>[Adventure, Action, Horror]</td>\n",
       "      <td>5.0</td>\n",
       "      <td>1</td>\n",
       "    </tr>\n",
       "    <tr>\n",
       "      <th>17</th>\n",
       "      <td>501</td>\n",
       "      <td>7.443293e-07</td>\n",
       "      <td>Grizzly Man</td>\n",
       "      <td>2005</td>\n",
       "      <td>[Documentary]</td>\n",
       "      <td>7.3</td>\n",
       "      <td>15</td>\n",
       "    </tr>\n",
       "    <tr>\n",
       "      <th>18</th>\n",
       "      <td>6936</td>\n",
       "      <td>7.292436e-07</td>\n",
       "      <td>Ben X</td>\n",
       "      <td>2007</td>\n",
       "      <td>[Drama]</td>\n",
       "      <td>7.0</td>\n",
       "      <td>27</td>\n",
       "    </tr>\n",
       "    <tr>\n",
       "      <th>19</th>\n",
       "      <td>252</td>\n",
       "      <td>7.263292e-07</td>\n",
       "      <td>Willy Wonka &amp; the Chocolate Factory</td>\n",
       "      <td>1971</td>\n",
       "      <td>[Family, Fantasy]</td>\n",
       "      <td>7.4</td>\n",
       "      <td>41</td>\n",
       "    </tr>\n",
       "  </tbody>\n",
       "</table>\n",
       "</div>"
      ],
      "text/plain": [
       "       id  similarities                                              title  \\\n",
       "0     592  1.323164e-06                                   The Conversation   \n",
       "1    3114  1.309119e-06                                      The Searchers   \n",
       "2     159  9.608834e-07                                 Maybe... Maybe Not   \n",
       "3     364  9.073717e-07                                     Batman Returns   \n",
       "4     480  9.059263e-07                                    Monsoon Wedding   \n",
       "5     754  9.032211e-07                                           Face/Off   \n",
       "6     593  8.870982e-07                                            Solaris   \n",
       "7      22  7.868560e-07  Pirates of the Caribbean: The Curse of the Bla...   \n",
       "8    1721  7.836153e-07                                   All the Way Boys   \n",
       "9    2671  7.827346e-07                                              Ringu   \n",
       "10    506  7.663271e-07                                             Marnie   \n",
       "11   1701  7.654040e-07                                            Con Air   \n",
       "12  58559  7.649306e-07               Confession of a Child of the Century   \n",
       "13  64501  7.614835e-07                                       Naughty @ 40   \n",
       "14   1633  7.614113e-07                               Fried Green Tomatoes   \n",
       "15  43391  7.586901e-07                                  The Flying Saucer   \n",
       "16   8814  7.455824e-07                                               Doom   \n",
       "17    501  7.443293e-07                                        Grizzly Man   \n",
       "18   6936  7.292436e-07                                              Ben X   \n",
       "19    252  7.263292e-07                Willy Wonka & the Chocolate Factory   \n",
       "\n",
       "    year                                        genres  vote_average  \\\n",
       "0   1974                       [Crime, Drama, Mystery]           7.5   \n",
       "1   1956                                     [Western]           7.7   \n",
       "2   1994                               [Comedy, Drama]           6.1   \n",
       "3   1992                             [Action, Fantasy]           6.6   \n",
       "4   2001                      [Comedy, Drama, Romance]           6.8   \n",
       "5   1997    [Action, Crime, Science Fiction, Thriller]           6.8   \n",
       "6   1972  [Drama, Science Fiction, Adventure, Mystery]           7.7   \n",
       "7   2003                  [Adventure, Fantasy, Action]           7.5   \n",
       "8   1972                   [Adventure, Action, Comedy]           6.5   \n",
       "9   1998                            [Horror, Thriller]           6.9   \n",
       "10  1964             [Crime, Drama, Mystery, Thriller]           7.2   \n",
       "11  1997                     [Action, Thriller, Crime]           6.5   \n",
       "12  2012                                       [Drama]           4.9   \n",
       "13  2011                               [Comedy, Drama]           0.0   \n",
       "14  1991                               [Drama, Comedy]           7.6   \n",
       "15  1950                   [Thriller, Science Fiction]           2.7   \n",
       "16  2005                   [Adventure, Action, Horror]           5.0   \n",
       "17  2005                                 [Documentary]           7.3   \n",
       "18  2007                                       [Drama]           7.0   \n",
       "19  1971                             [Family, Fantasy]           7.4   \n",
       "\n",
       "    appearance  \n",
       "0          196  \n",
       "1          125  \n",
       "2            8  \n",
       "3          200  \n",
       "4          274  \n",
       "5            3  \n",
       "6          304  \n",
       "7           38  \n",
       "8          164  \n",
       "9           64  \n",
       "10           9  \n",
       "11          16  \n",
       "12         121  \n",
       "13           2  \n",
       "14           8  \n",
       "15           1  \n",
       "16           1  \n",
       "17          15  \n",
       "18          27  \n",
       "19          41  "
      ]
     },
     "execution_count": 24,
     "metadata": {},
     "output_type": "execute_result"
    }
   ],
   "source": [
    "df_similarities = get_similar_movies(1,movie_matrix,X_full,X,count_appearance)\n",
    "df_similarities.head(20)"
   ]
  },
  {
   "cell_type": "markdown",
   "id": "d33eb193",
   "metadata": {},
   "source": [
    "Do these movies look similar? Well for the model they are similar even if for us are not. They are similar in a sense that similar users will rate them similarly.\n",
    "\n",
    "Here I added more information about the movies, you can play changing the index and see if the movies that are similar in the context of collaborative filter makes sense to you :)\n"
   ]
  },
  {
   "cell_type": "code",
   "execution_count": null,
   "id": "7183bd35",
   "metadata": {},
   "outputs": [],
   "source": []
  },
  {
   "cell_type": "code",
   "execution_count": null,
   "id": "68e1b64b",
   "metadata": {},
   "outputs": [],
   "source": []
  }
 ],
 "metadata": {
  "kernelspec": {
   "display_name": "Python 3 (ipykernel)",
   "language": "python",
   "name": "python3"
  },
  "language_info": {
   "codemirror_mode": {
    "name": "ipython",
    "version": 3
   },
   "file_extension": ".py",
   "mimetype": "text/x-python",
   "name": "python",
   "nbconvert_exporter": "python",
   "pygments_lexer": "ipython3",
   "version": "3.11.4"
  }
 },
 "nbformat": 4,
 "nbformat_minor": 5
}
