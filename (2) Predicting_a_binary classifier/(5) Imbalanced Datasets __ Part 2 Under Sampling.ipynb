{
 "cells": [
  {
   "cell_type": "markdown",
   "id": "281aab7a",
   "metadata": {},
   "source": [
    "# Introduction\n",
    "\n",
    "One problem we can have when dealing with categorical target is to have one category that represents over 90%. Maybe you are wondering why is this a problem? Imagine we are using accuracy as a metric, a model that just put every sample in the biggest category will always yield a 90% accuracy even though the model is not learning. \n",
    "\n",
    "We will see the importance\n",
    "\n",
    "In a nutshell, what can we do?\n",
    "- Check if our data is indeed imbalanced (done in the previous notebook)\n",
    "- Don't use accuracy as the only metric try using F1-score (done in the previous notebook)\n",
    "- Use confusion matrix to check weather the model is even trying to predict the small categories (done in the previous notebook)\n",
    "- Try oversampling or undersampling (what we are going to do here!). \n",
    "\n",
    "Some nice reference:\n",
    "\n",
    "- https://www.kaggle.com/code/janiobachmann/credit-fraud-dealing-with-imbalanced-datasets\n",
    "- https://www.youtube.com/watch?v=iTxzRVLoTQ0&ab_channel=StatQuestwithJoshStarmer\n",
    "- https://www.kaggle.com/code/tanmay111999/fraud-detection-smote-f1-score-90-5-models"
   ]
  },
  {
   "cell_type": "code",
   "execution_count": 1,
   "id": "189f85d1",
   "metadata": {},
   "outputs": [],
   "source": [
    "# import \n",
    "import numpy as np\n",
    "import pandas as pd\n",
    "from sklearn.model_selection import train_test_split\n",
    "\n",
    "from sklearn.compose import ColumnTransformer\n",
    "from sklearn.impute import SimpleImputer\n",
    "from sklearn.pipeline import Pipeline\n",
    "from sklearn.preprocessing import OneHotEncoder\n",
    "from sklearn.model_selection import cross_val_score\n",
    "from sklearn.model_selection import RandomizedSearchCV\n",
    "from scipy.stats import randint\n",
    "\n",
    "from sklearn.preprocessing import StandardScaler\n",
    "from sklearn.impute import KNNImputer\n",
    "from sklearn.ensemble import RandomForestClassifier\n",
    "from sklearn.metrics import accuracy_score\n",
    "\n",
    "from sklearn.metrics import roc_curve\n",
    "from sklearn.metrics import classification_report\n",
    "from sklearn.metrics import roc_auc_score\n",
    "from sklearn.metrics import f1_score\n",
    "import scikitplot as skplt\n",
    "\n",
    "\n",
    "# Let us have a clearer code\n",
    "from utils import cleaning_data"
   ]
  },
  {
   "cell_type": "code",
   "execution_count": 2,
   "id": "e397663b",
   "metadata": {},
   "outputs": [],
   "source": [
    "import plotly.io as pio\n",
    "import plotly.express as px\n",
    "\n",
    "pio.renderers.default = \"svg\"\n",
    "\n",
    "import os"
   ]
  },
  {
   "cell_type": "markdown",
   "id": "584c083f",
   "metadata": {},
   "source": [
    "**Quick words the following dataset are data relating to transaction of credit cards. The minory group are fraud transaction and the big group are the \"normal transaction\".**"
   ]
  },
  {
   "cell_type": "code",
   "execution_count": 3,
   "id": "95807914",
   "metadata": {},
   "outputs": [],
   "source": [
    "# Here is the data: https://www.kaggle.com/code/janiobachmann/credit-fraud-dealing-with-imbalanced-datasets/input\n",
    "\n",
    "X_full = pd.read_csv('creditcard.csv')\n",
    "\n",
    "# This is the real test, but we are going to use a test created by us to use easily ROC-AUC\n",
    "\n",
    "# X_test_full = pd.read_csv('test.csv', index_col='PassengerId')\n",
    "\n",
    "# Transported is the target, if there is no target eliminate row associated with it\n",
    "column_to_predict = \"Class\"\n",
    "X_full.dropna(axis=0, subset=[column_to_predict], inplace=True)\n",
    "\n",
    "y = X_full[column_to_predict]\n",
    "X = X_full.copy()\n",
    "X.drop([column_to_predict], axis=1, inplace=True)\n",
    "\n",
    "# notice we use stratify\n",
    "X_train_full, X_test, y_train_full, y_test = train_test_split(X, y, train_size=0.8, test_size=0.2,\n",
    "                                                random_state=0,stratify=y) \n",
    "\n",
    "###################### this step is to simplify life later on ########################\n",
    "# we do this because we shouldn't ever play with the testing set. We do the just undersampling on the\n",
    "# train data\n",
    "new_X_full_train = pd.concat([X_train_full,y_train_full],axis=1)\n",
    "#new_X_full_train"
   ]
  },
  {
   "cell_type": "code",
   "execution_count": 4,
   "id": "03fc6783",
   "metadata": {},
   "outputs": [],
   "source": [
    "def is_imba(y):\n",
    "    df = pd.DataFrame({'categories':list(y.value_counts().index),\n",
    "                    'counts':list(y.value_counts().values)})\n",
    "    percentage_biggest_class = (df['counts'].max()/df['counts'].sum())*100\n",
    "    print(f\"we have {y.size} elements\")\n",
    "    print(\"\")\n",
    "    print(f\"the biggest class has a {round(percentage_biggest_class,2)}% of all the samples in this dataset\")\n",
    "    fig = px.pie(df, values='counts', names='categories', title='Categories in the target values')\n",
    "    fig.show()\n",
    "    if percentage_biggest_class>90:\n",
    "        return print(\"This class is clearly imbalanced\")\n",
    "    else: \n",
    "        return print(\"This class doesn't look like imbalanced, please make sure looking the graph\")\n",
    "    "
   ]
  },
  {
   "cell_type": "markdown",
   "id": "48e2f09c",
   "metadata": {},
   "source": [
    "# Undersampling"
   ]
  },
  {
   "cell_type": "code",
   "execution_count": 5,
   "id": "fd6153f2",
   "metadata": {},
   "outputs": [],
   "source": [
    "# For shuffle the data we use df.sample(frac=1) \n",
    "def undersampling(X_full,biggest_class,smallest_class,Category):\n",
    "    X_full = X_full.sample(frac=1, random_state=0)\n",
    "    # SC: smallest_class\n",
    "    # BC: biggest_class\n",
    "    X_SC = X_full[X_full[Category]==smallest_class]\n",
    "    number_elements_SC = X_SC.shape[0]\n",
    "    X_BC = X_full[X_full[Category]==biggest_class][0:number_elements_SC]\n",
    "\n",
    "    new_X = pd.concat([X_SC,X_BC],axis=0)\n",
    "    new_X = new_X.sample(frac=1,random_state=0).reset_index(drop=True)\n",
    "\n",
    "    y = new_X[column_to_predict]\n",
    "    X = new_X.copy()\n",
    "    X.drop([column_to_predict], axis=1, inplace=True)\n",
    "    return X,y\n"
   ]
  },
  {
   "cell_type": "code",
   "execution_count": 6,
   "id": "2ecd10da",
   "metadata": {},
   "outputs": [],
   "source": [
    "biggest_class = 0\n",
    "smallest_class = 1\n",
    "Category = 'Class'\n",
    "X,y = undersampling(new_X_full_train,biggest_class,smallest_class,Category)\n",
    "all_columns = X.columns"
   ]
  },
  {
   "cell_type": "code",
   "execution_count": 7,
   "id": "b20b6ef2",
   "metadata": {},
   "outputs": [
    {
     "name": "stdout",
     "output_type": "stream",
     "text": [
      "we have 788 elements\n",
      "\n",
      "the biggest class has a 50.0% of all the samples in this dataset\n"
     ]
    },
    {
     "data": {
      "image/svg+xml": [
       "<svg class=\"main-svg\" xmlns=\"http://www.w3.org/2000/svg\" xmlns:xlink=\"http://www.w3.org/1999/xlink\" width=\"700\" height=\"500\" style=\"\" viewBox=\"0 0 700 500\"><rect x=\"0\" y=\"0\" width=\"700\" height=\"500\" style=\"fill: rgb(255, 255, 255); fill-opacity: 1;\"/><defs id=\"defs-5ead58\"><g class=\"clips\"/><g class=\"gradients\"/><g class=\"patterns\"/></defs><g class=\"bglayer\"/><g class=\"layer-below\"><g class=\"imagelayer\"/><g class=\"shapelayer\"/></g><g class=\"cartesianlayer\"/><g class=\"polarlayer\"/><g class=\"smithlayer\"/><g class=\"ternarylayer\"/><g class=\"geolayer\"/><g class=\"funnelarealayer\"/><g class=\"pielayer\"><g class=\"trace\" stroke-linejoin=\"round\" style=\"opacity: 1;\"><g class=\"slice\"><path class=\"surface\" d=\"M350,260l0,-160a160,160 0 0 1 9.064862236236767e-14,320Z\" style=\"pointer-events: all; stroke-width: 0; fill: rgb(99, 110, 250); fill-opacity: 1; stroke: rgb(68, 68, 68); stroke-opacity: 1;\"/><g class=\"slicetext\"><text data-notex=\"1\" class=\"slicetext\" transform=\"translate(429.9609375,264.5)\" text-anchor=\"middle\" x=\"0\" y=\"0\" style=\"font-family: 'Open Sans', verdana, arial, sans-serif; font-size: 12px; fill: rgb(255, 255, 255); fill-opacity: 1; white-space: pre;\">50%</text></g></g><g class=\"slice\"><path class=\"surface\" d=\"M350,260l-9.064862236236767e-14,160a160,160 0 0 1 9.064862236236767e-14,-320Z\" style=\"pointer-events: all; stroke-width: 0; fill: rgb(239, 85, 59); fill-opacity: 1; stroke: rgb(68, 68, 68); stroke-opacity: 1;\"/><g class=\"slicetext\"><text data-notex=\"1\" class=\"slicetext\" transform=\"translate(269.9609375,264.5)\" text-anchor=\"middle\" x=\"0\" y=\"0\" style=\"font-family: 'Open Sans', verdana, arial, sans-serif; font-size: 12px; fill: rgb(68, 68, 68); fill-opacity: 1; white-space: pre;\">50%</text></g></g></g></g><g class=\"iciclelayer\"/><g class=\"treemaplayer\"/><g class=\"sunburstlayer\"/><g class=\"glimages\"/><defs id=\"topdefs-5ead58\"><g class=\"clips\"/><clipPath id=\"legend5ead58\"><rect width=\"53\" height=\"48\" x=\"0\" y=\"0\"/></clipPath></defs><g class=\"layer-above\"><g class=\"imagelayer\"/><g class=\"shapelayer\"/></g><g class=\"infolayer\"><g class=\"legend\" pointer-events=\"all\" transform=\"translate(630.8,100)\"><rect class=\"bg\" shape-rendering=\"crispEdges\" style=\"stroke: rgb(68, 68, 68); stroke-opacity: 1; fill: rgb(255, 255, 255); fill-opacity: 1; stroke-width: 0px;\" width=\"53\" height=\"48\" x=\"0\" y=\"0\"/><g class=\"scrollbox\" transform=\"\" clip-path=\"url(#legend5ead58)\"><g class=\"groups\"><g class=\"traces\" transform=\"translate(0,14.5)\" style=\"opacity: 1;\"><text class=\"legendtext\" text-anchor=\"start\" x=\"40\" y=\"4.680000000000001\" style=\"font-family: 'Open Sans', verdana, arial, sans-serif; font-size: 12px; fill: rgb(42, 63, 95); fill-opacity: 1; white-space: pre;\">0</text><g class=\"layers\" style=\"opacity: 1;\"><g class=\"legendfill\"/><g class=\"legendlines\"/><g class=\"legendsymbols\"><g class=\"legendpoints\"><path class=\"legendpie\" d=\"M6,6H-6V-6H6Z\" transform=\"translate(20,0)\" style=\"stroke-width: 0; fill: rgb(99, 110, 250); fill-opacity: 1; stroke: rgb(68, 68, 68); stroke-opacity: 1;\"/></g></g></g><rect class=\"legendtoggle\" x=\"0\" y=\"-9.5\" width=\"47.640625\" height=\"19\" style=\"fill: rgb(0, 0, 0); fill-opacity: 0;\"/></g><g class=\"traces\" transform=\"translate(0,33.5)\" style=\"opacity: 1;\"><text class=\"legendtext\" text-anchor=\"start\" x=\"40\" y=\"4.680000000000001\" style=\"font-family: 'Open Sans', verdana, arial, sans-serif; font-size: 12px; fill: rgb(42, 63, 95); fill-opacity: 1; white-space: pre;\">1</text><g class=\"layers\" style=\"opacity: 1;\"><g class=\"legendfill\"/><g class=\"legendlines\"/><g class=\"legendsymbols\"><g class=\"legendpoints\"><path class=\"legendpie\" d=\"M6,6H-6V-6H6Z\" transform=\"translate(20,0)\" style=\"stroke-width: 0; fill: rgb(239, 85, 59); fill-opacity: 1; stroke: rgb(68, 68, 68); stroke-opacity: 1;\"/></g></g></g><rect class=\"legendtoggle\" x=\"0\" y=\"-9.5\" width=\"47.640625\" height=\"19\" style=\"fill: rgb(0, 0, 0); fill-opacity: 0;\"/></g></g></g><rect class=\"scrollbar\" rx=\"20\" ry=\"3\" width=\"0\" height=\"0\" style=\"fill: rgb(128, 139, 164); fill-opacity: 1;\" x=\"0\" y=\"0\"/></g><g class=\"g-gtitle\"><text class=\"gtitle\" x=\"35\" y=\"50\" text-anchor=\"start\" dy=\"0em\" style=\"font-family: 'Open Sans', verdana, arial, sans-serif; font-size: 17px; fill: rgb(42, 63, 95); opacity: 1; font-weight: normal; white-space: pre;\">Categories in the target values</text></g></g></svg>"
      ]
     },
     "metadata": {},
     "output_type": "display_data"
    },
    {
     "name": "stdout",
     "output_type": "stream",
     "text": [
      "This class doesn't look like imbalanced, please make sure looking the graph\n"
     ]
    }
   ],
   "source": [
    "is_imba(y)"
   ]
  },
  {
   "cell_type": "markdown",
   "id": "bda551d4",
   "metadata": {},
   "source": [
    "So we took a lot of the data out but preserved all the fraud class (class=1), Let us use again our trusty pipeline!"
   ]
  },
  {
   "cell_type": "code",
   "execution_count": 8,
   "id": "c500c55f",
   "metadata": {},
   "outputs": [],
   "source": [
    "def fit_model(X,y,X_test=False,\n",
    "             cv=3,n_jobs=-1,scoring='accuracy',\n",
    "             max_depth=10,n_estimators=344,n_neighbors=5,thr=0.5,sample_weight=None ):\n",
    "\n",
    "    # We are gonna use a cross validation now\n",
    "    \n",
    "    \"\"\"\n",
    "    best model so far is: \n",
    "    {'model__max_depth': 10,\n",
    "    'model__n_estimators': 344,\n",
    "    'preprocessor__numerical_transformer__imputer__n_neighbors': 5}\n",
    "    \n",
    "    \n",
    "    \"\"\"\n",
    "\n",
    "    \n",
    "    numerical_col = [col for col in X.columns if str(X[col].dtypes)!='object' ]\n",
    "    numerical_col_imputed = [col for col in numerical_col if X[col].isnull().any()==True]\n",
    "\n",
    "    categorical_col = [col for col in X.columns if str(X[col].dtypes)=='object' ]\n",
    "    categorical_col_imputed = [col for col in categorical_col if X[col].isnull().any()==True]\n",
    "    # n_neighbors = an integer. KNNImputer \n",
    "    numerical_transformer = Pipeline(\n",
    "    steps=[(\"scaler\", StandardScaler()), (\"imputer\", KNNImputer(n_neighbors=n_neighbors))\n",
    "          ]\n",
    "    )\n",
    "\n",
    "    categorical_transformer =  Pipeline(steps=[\n",
    "        ('imputer', SimpleImputer(missing_values=pd.NA, strategy='most_frequent')),\n",
    "        ('onehot', OneHotEncoder(handle_unknown='ignore'))\n",
    "    ])\n",
    "\n",
    "    preprocessor = ColumnTransformer(transformers=\n",
    "        [(\"numerical_transformer\", numerical_transformer, numerical_col_imputed),\n",
    "        (\"categorical_transformer\", categorical_transformer, categorical_col)],remainder='passthrough')\n",
    "\n",
    "    # Define model\n",
    "    model = RandomForestClassifier(max_depth=max_depth,n_estimators=n_estimators ,random_state=0,n_jobs=n_jobs)\n",
    "\n",
    "    # Bundle preprocessing and modeling code in a pipeline\n",
    "    pipe = Pipeline(steps=[('preprocessor', preprocessor),\n",
    "                          ('model', model)\n",
    "                         ])\n",
    "   \n",
    "    # this fit the pipeline to a specific model, giving an specific traning set (notice that the cross-val does not do that)\n",
    "   \n",
    "    pipe.fit(X,y,model__sample_weight=sample_weight)\n",
    "    y_pred = pipe.predict(X_test)\n",
    "    y_proba = None\n",
    "    try:\n",
    "        # X_test = False this will not run and it is ok\n",
    "        y_proba = pipe.predict_proba(X_test)\n",
    "    except:\n",
    "        pass\n",
    "    \n",
    "    return y_proba, y_pred"
   ]
  },
  {
   "cell_type": "code",
   "execution_count": 9,
   "id": "07d00f4e",
   "metadata": {},
   "outputs": [],
   "source": [
    "y_proba, y_pred = fit_model(X,y,X_test=X_test)"
   ]
  },
  {
   "cell_type": "code",
   "execution_count": 10,
   "id": "95395ae6",
   "metadata": {},
   "outputs": [
    {
     "name": "stdout",
     "output_type": "stream",
     "text": [
      "f1: 0.12108262108262108\n",
      "accuracy: 0.9783364348161933\n"
     ]
    },
    {
     "data": {
      "text/plain": [
       "<Axes: title={'center': 'Confusion Matrix'}, xlabel='Predicted label', ylabel='True label'>"
      ]
     },
     "execution_count": 10,
     "metadata": {},
     "output_type": "execute_result"
    },
    {
     "data": {
      "image/png": "[encoded data removed]",
      "text/plain": [
       "<Figure size 640x480 with 2 Axes>"
      ]
     },
     "metadata": {},
     "output_type": "display_data"
    }
   ],
   "source": [
    "print(f\"f1: {f1_score(y_test, y_pred)}\")\n",
    "print(f\"accuracy: {accuracy_score(y_test, y_pred)}\")\n",
    "skplt.metrics.plot_confusion_matrix(y_test, y_pred)"
   ]
  },
  {
   "cell_type": "markdown",
   "id": "767446fc",
   "metadata": {},
   "source": [
    "So we decrease the overall accuracy and f1-score, but notice we predicted more fraud (class=1) than before. Even though we predicted more fraud than before more fraud prediction are indeed normal transaction. Let us try to improve it!"
   ]
  },
  {
   "cell_type": "markdown",
   "id": "6db0ea67",
   "metadata": {},
   "source": [
    "# Oversampling and Undersampling together!\n",
    "\n",
    "There is too much data so we will not even try to do an oversampling without an undersampling! "
   ]
  },
  {
   "cell_type": "code",
   "execution_count": 11,
   "id": "bc34080e",
   "metadata": {},
   "outputs": [],
   "source": [
    "# pip install scikit-learn==1.2.2"
   ]
  },
  {
   "cell_type": "code",
   "execution_count": 12,
   "id": "5b05d5c0",
   "metadata": {},
   "outputs": [],
   "source": [
    "#pip install imblearn"
   ]
  },
  {
   "cell_type": "code",
   "execution_count": 13,
   "id": "db0b2c04",
   "metadata": {},
   "outputs": [],
   "source": [
    "import imblearn\n",
    "from collections import Counter\n",
    "from imblearn.over_sampling import SMOTE\n",
    "from imblearn.under_sampling import RandomUnderSampler\n",
    "from imblearn.pipeline import Pipeline"
   ]
  },
  {
   "cell_type": "code",
   "execution_count": 25,
   "id": "c1557f20",
   "metadata": {},
   "outputs": [
    {
     "data": {
      "text/plain": [
       "Counter({0: 227451, 1: 394})"
      ]
     },
     "execution_count": 25,
     "metadata": {},
     "output_type": "execute_result"
    }
   ],
   "source": [
    "# remember\n",
    "Counter(y_train_full)"
   ]
  },
  {
   "cell_type": "markdown",
   "id": "efed85b1",
   "metadata": {},
   "source": [
    "**Here we apply SMOTE and Undersampling let us play with this variable"
   ]
  },
  {
   "cell_type": "code",
   "execution_count": 22,
   "id": "4d050e5a",
   "metadata": {},
   "outputs": [
    {
     "data": {
      "text/plain": [
       "Counter({0: 3940, 1: 3940})"
      ]
     },
     "execution_count": 22,
     "metadata": {},
     "output_type": "execute_result"
    }
   ],
   "source": [
    "over = SMOTE(sampling_strategy = 1)\n",
    "under = RandomUnderSampler(sampling_strategy = 0.1)\n",
    "\n",
    "steps = [('under', under),('over', over)]\n",
    "pipeline = Pipeline(steps=steps)\n",
    "X, y = pipeline.fit_resample(X_train_full,y_train_full)"
   ]
  },
  {
   "cell_type": "code",
   "execution_count": 23,
   "id": "0059ac0b",
   "metadata": {},
   "outputs": [
    {
     "name": "stdout",
     "output_type": "stream",
     "text": [
      "f1: 0.4491978609625668\n",
      "accuracy: 0.9963835539482462\n"
     ]
    },
    {
     "data": {
      "text/plain": [
       "<Axes: title={'center': 'Confusion Matrix'}, xlabel='Predicted label', ylabel='True label'>"
      ]
     },
     "execution_count": 23,
     "metadata": {},
     "output_type": "execute_result"
    },
    {
     "data": {
      "image/png": "[encoded data removed]",
      "text/plain": [
       "<Figure size 640x480 with 2 Axes>"
      ]
     },
     "metadata": {},
     "output_type": "display_data"
    }
   ],
   "source": [
    "y_proba, y_pred = fit_model(X,y,X_test=X_test)\n",
    "print(f\"f1: {f1_score(y_test, y_pred)}\")\n",
    "print(f\"accuracy: {accuracy_score(y_test, y_pred)}\")\n",
    "skplt.metrics.plot_confusion_matrix(y_test, y_pred)"
   ]
  },
  {
   "cell_type": "markdown",
   "id": "80573c58",
   "metadata": {},
   "source": [
    "So let us understand what we did: we use an undersampling of 0.1 (10%). That means that the class with less values it will be 10% of the majority class, that in a sense means that we are going to take 10 times more values of the majority class that is on the minority class.\n",
    "\n",
    "So in other words there are 394 of fraud in the training set. With the undersampling we take 3.940 of not fraud. Then with SMOTE 1 (100%) we say we want that both class be completed balanced. So, the model creates more sample until the fraud number is equal to the 3.940.\n",
    "That what we did here.\n",
    "\n",
    "Can we do better?"
   ]
  },
  {
   "cell_type": "code",
   "execution_count": 31,
   "id": "c15392af",
   "metadata": {},
   "outputs": [],
   "source": [
    "# let us create a function to play with some values\n",
    "def under_and_oversampling_model(X_train_full,y_train_full,X_test,y_test,over_sample=1,under_sample=0.1):\n",
    "    over = SMOTE(sampling_strategy = over_sample)\n",
    "    under = RandomUnderSampler(sampling_strategy = under_sample)\n",
    "\n",
    "    steps = [('under', under),('over', over)]\n",
    "    pipeline = Pipeline(steps=steps)\n",
    "    X, y = pipeline.fit_resample(X_train_full,y_train_full)\n",
    "    y_proba, y_pred = fit_model(X,y,X_test=X_test)\n",
    "    print(f\"counter y: {Counter(y)}\")\n",
    "    print(f\"f1: {f1_score(y_test, y_pred)}\")\n",
    "    print(f\"accuracy: {accuracy_score(y_test, y_pred)}\")\n",
    "    return skplt.metrics.plot_confusion_matrix(y_test, y_pred)\n",
    "    "
   ]
  },
  {
   "cell_type": "code",
   "execution_count": 32,
   "id": "f0859d49",
   "metadata": {},
   "outputs": [
    {
     "name": "stdout",
     "output_type": "stream",
     "text": [
      "counter y: Counter({0: 78800, 1: 78800})\n",
      "f1: 0.6387832699619772\n",
      "accuracy: 0.9983322214809873\n"
     ]
    },
    {
     "data": {
      "text/plain": [
       "<Axes: title={'center': 'Confusion Matrix'}, xlabel='Predicted label', ylabel='True label'>"
      ]
     },
     "execution_count": 32,
     "metadata": {},
     "output_type": "execute_result"
    },
    {
     "data": {
      "image/png": "[encoded data removed]",
      "text/plain": [
       "<Figure size 640x480 with 2 Axes>"
      ]
     },
     "metadata": {},
     "output_type": "display_data"
    }
   ],
   "source": [
    "under_and_oversampling_model(X_train_full,y_train_full,X_test,y_test,over_sample=1,under_sample=0.005)"
   ]
  },
  {
   "cell_type": "markdown",
   "id": "e2750c3a",
   "metadata": {},
   "source": [
    "So we improve just a little in predicting fraud. The overall performance did get better!\n",
    "So I question that I have, what would happen if we have the same amount of data that we have at the begining in the trainig data, that is to say, 227451 + 394. can we get a better f1 that we did in the previous notebook?\n"
   ]
  },
  {
   "cell_type": "code",
   "execution_count": 38,
   "id": "1b64550e",
   "metadata": {},
   "outputs": [],
   "source": [
    "# small math\n",
    "total_samples = 227451 + 394\n",
    "number_each_class = total_samples/2\n",
    "# so the under_sample is:\n",
    "under_sample = round(394/number_each_class,3)"
   ]
  },
  {
   "cell_type": "code",
   "execution_count": 39,
   "id": "b55c099b",
   "metadata": {},
   "outputs": [
    {
     "name": "stdout",
     "output_type": "stream",
     "text": [
      "counter y: Counter({0: 131333, 1: 131333})\n",
      "f1: 0.6639999999999999\n",
      "accuracy: 0.9985253326779256\n"
     ]
    },
    {
     "data": {
      "text/plain": [
       "<Axes: title={'center': 'Confusion Matrix'}, xlabel='Predicted label', ylabel='True label'>"
      ]
     },
     "execution_count": 39,
     "metadata": {},
     "output_type": "execute_result"
    },
    {
     "data": {
      "image/png": "[encoded data removed]",
      "text/plain": [
       "<Figure size 640x480 with 2 Axes>"
      ]
     },
     "metadata": {},
     "output_type": "display_data"
    }
   ],
   "source": [
    "under_and_oversampling_model(X_train_full,y_train_full,X_test,y_test,over_sample=1,under_sample=under_sample)"
   ]
  },
  {
   "cell_type": "markdown",
   "id": "ce631bfd",
   "metadata": {},
   "source": [
    "This is the end of our imbalanced dataset journey (at least for a while)! We can adjust a little more the number, but we got better results in predicting the fraud than in the previous notebook, but we got a worse f1. This is indeed a trade-off"
   ]
  },
  {
   "cell_type": "code",
   "execution_count": null,
   "id": "61d48d5b",
   "metadata": {},
   "outputs": [],
   "source": []
  }
 ],
 "metadata": {
  "kernelspec": {
   "display_name": "Python 3 (ipykernel)",
   "language": "python",
   "name": "python3"
  },
  "language_info": {
   "codemirror_mode": {
    "name": "ipython",
    "version": 3
   },
   "file_extension": ".py",
   "mimetype": "text/x-python",
   "name": "python",
   "nbconvert_exporter": "python",
   "pygments_lexer": "ipython3",
   "version": "3.11.4"
  }
 },
 "nbformat": 4,
 "nbformat_minor": 5
}
