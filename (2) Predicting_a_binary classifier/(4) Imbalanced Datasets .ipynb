{
 "cells": [
  {
   "cell_type": "markdown",
   "id": "2c5bc0bd",
   "metadata": {},
   "source": [
    "# Introduction\n",
    "\n",
    "One problem we can have when dealing with categorical target is to have one category that represents over 90%. Maybe you are wondering why is this a problem? Imagine we are using accuracy as a metric, a model that just put every sample in the biggest category will always yield a 90% accuracy even though the model is not learning. \n",
    "\n",
    "In a nutshell, what can we do?\n",
    "- Check if our data is indeed imbalanced\n",
    "- Don't use score as a metric try using F1-score\n",
    "- Use confusion matrix to check weather the model is even trying to predict the small categories\n",
    "- Try oversampling or undersampling . \n",
    "\n",
    "Some nice reference:\n",
    "\n",
    "- https://www.kaggle.com/code/janiobachmann/credit-fraud-dealing-with-imbalanced-datasets\n",
    "- https://www.youtube.com/watch?v=iTxzRVLoTQ0&ab_channel=StatQuestwithJoshStarmer"
   ]
  },
  {
   "cell_type": "code",
   "execution_count": 1,
   "id": "ce9c1701",
   "metadata": {},
   "outputs": [],
   "source": [
    "# import \n",
    "import numpy as np\n",
    "import pandas as pd\n",
    "from sklearn.model_selection import train_test_split\n",
    "\n",
    "# This Libraries were use in the other example because we needed to predict a numerical value\n",
    "# now we are predicting a category\n",
    "\n",
    "# from sklearn.ensemble import RandomForestRegressor\n",
    "# from sklearn.metrics import mean_absolute_error\n",
    "\n",
    "from sklearn.compose import ColumnTransformer\n",
    "from sklearn.impute import SimpleImputer\n",
    "from sklearn.pipeline import Pipeline\n",
    "from sklearn.preprocessing import OneHotEncoder\n",
    "from sklearn.model_selection import cross_val_score\n",
    "from sklearn.model_selection import RandomizedSearchCV\n",
    "from scipy.stats import randint\n",
    "\n",
    "# New libraries that we haven't use yet!\n",
    "from sklearn.preprocessing import StandardScaler\n",
    "from sklearn.impute import KNNImputer\n",
    "from sklearn.ensemble import RandomForestClassifier\n",
    "from sklearn.metrics import accuracy_score\n",
    "\n",
    "# These functions are going to be use in the next notebook\n",
    "from sklearn.metrics import roc_curve\n",
    "from sklearn.metrics import classification_report\n",
    "from sklearn.metrics import roc_auc_score\n",
    "\n",
    "import scikitplot as skplt\n",
    "\n",
    "\n",
    "# Let us have a clearer code\n",
    "from utils import cleaning_data"
   ]
  },
  {
   "cell_type": "code",
   "execution_count": 9,
   "id": "f5b65149",
   "metadata": {},
   "outputs": [],
   "source": [
    "import plotly.io as pio\n",
    "import plotly.express as px\n",
    "\n",
    "pio.renderers.default = \"svg\"\n",
    "\n",
    "import os"
   ]
  },
  {
   "cell_type": "markdown",
   "id": "0d3c9f4d",
   "metadata": {},
   "source": [
    "**Quick words the following dataset are data relating to transaction of creditcards. The minory group are fraud transaction and the big group are the \"normal transaction\".**"
   ]
  },
  {
   "cell_type": "code",
   "execution_count": 2,
   "id": "acbf520e",
   "metadata": {},
   "outputs": [],
   "source": [
    "# Here is the data: https://www.kaggle.com/code/janiobachmann/credit-fraud-dealing-with-imbalanced-datasets/input\n",
    "\n",
    "X_full = pd.read_csv('creditcard.csv')\n",
    "\n",
    "# This is the real test, but we are going to use a test created by us to use easily ROC-AUC\n",
    "\n",
    "# X_test_full = pd.read_csv('test.csv', index_col='PassengerId')\n",
    "\n",
    "# Transported is the target, if there is no target eliminate row associated with it\n",
    "column_to_predict = \"Class\"\n",
    "X_full.dropna(axis=0, subset=[column_to_predict], inplace=True)\n",
    "y = X_full[column_to_predict]\n",
    "X = X_full.copy()\n",
    "X.drop([column_to_predict], axis=1, inplace=True)\n",
    "\n",
    "all_columns = X.columns\n"
   ]
  },
  {
   "cell_type": "code",
   "execution_count": 3,
   "id": "5b87d8fc",
   "metadata": {},
   "outputs": [
    {
     "data": {
      "text/html": [
       "<div>\n",
       "<style scoped>\n",
       "    .dataframe tbody tr th:only-of-type {\n",
       "        vertical-align: middle;\n",
       "    }\n",
       "\n",
       "    .dataframe tbody tr th {\n",
       "        vertical-align: top;\n",
       "    }\n",
       "\n",
       "    .dataframe thead th {\n",
       "        text-align: right;\n",
       "    }\n",
       "</style>\n",
       "<table border=\"1\" class=\"dataframe\">\n",
       "  <thead>\n",
       "    <tr style=\"text-align: right;\">\n",
       "      <th></th>\n",
       "      <th>Time</th>\n",
       "      <th>V1</th>\n",
       "      <th>V2</th>\n",
       "      <th>V3</th>\n",
       "      <th>V4</th>\n",
       "      <th>V5</th>\n",
       "      <th>V6</th>\n",
       "      <th>V7</th>\n",
       "      <th>V8</th>\n",
       "      <th>V9</th>\n",
       "      <th>...</th>\n",
       "      <th>V21</th>\n",
       "      <th>V22</th>\n",
       "      <th>V23</th>\n",
       "      <th>V24</th>\n",
       "      <th>V25</th>\n",
       "      <th>V26</th>\n",
       "      <th>V27</th>\n",
       "      <th>V28</th>\n",
       "      <th>Amount</th>\n",
       "      <th>Class</th>\n",
       "    </tr>\n",
       "  </thead>\n",
       "  <tbody>\n",
       "    <tr>\n",
       "      <th>0</th>\n",
       "      <td>0.0</td>\n",
       "      <td>-1.359807</td>\n",
       "      <td>-0.072781</td>\n",
       "      <td>2.536347</td>\n",
       "      <td>1.378155</td>\n",
       "      <td>-0.338321</td>\n",
       "      <td>0.462388</td>\n",
       "      <td>0.239599</td>\n",
       "      <td>0.098698</td>\n",
       "      <td>0.363787</td>\n",
       "      <td>...</td>\n",
       "      <td>-0.018307</td>\n",
       "      <td>0.277838</td>\n",
       "      <td>-0.110474</td>\n",
       "      <td>0.066928</td>\n",
       "      <td>0.128539</td>\n",
       "      <td>-0.189115</td>\n",
       "      <td>0.133558</td>\n",
       "      <td>-0.021053</td>\n",
       "      <td>149.62</td>\n",
       "      <td>0</td>\n",
       "    </tr>\n",
       "    <tr>\n",
       "      <th>1</th>\n",
       "      <td>0.0</td>\n",
       "      <td>1.191857</td>\n",
       "      <td>0.266151</td>\n",
       "      <td>0.166480</td>\n",
       "      <td>0.448154</td>\n",
       "      <td>0.060018</td>\n",
       "      <td>-0.082361</td>\n",
       "      <td>-0.078803</td>\n",
       "      <td>0.085102</td>\n",
       "      <td>-0.255425</td>\n",
       "      <td>...</td>\n",
       "      <td>-0.225775</td>\n",
       "      <td>-0.638672</td>\n",
       "      <td>0.101288</td>\n",
       "      <td>-0.339846</td>\n",
       "      <td>0.167170</td>\n",
       "      <td>0.125895</td>\n",
       "      <td>-0.008983</td>\n",
       "      <td>0.014724</td>\n",
       "      <td>2.69</td>\n",
       "      <td>0</td>\n",
       "    </tr>\n",
       "  </tbody>\n",
       "</table>\n",
       "<p>2 rows × 31 columns</p>\n",
       "</div>"
      ],
      "text/plain": [
       "   Time        V1        V2        V3        V4        V5        V6        V7  \\\n",
       "0   0.0 -1.359807 -0.072781  2.536347  1.378155 -0.338321  0.462388  0.239599   \n",
       "1   0.0  1.191857  0.266151  0.166480  0.448154  0.060018 -0.082361 -0.078803   \n",
       "\n",
       "         V8        V9  ...       V21       V22       V23       V24       V25  \\\n",
       "0  0.098698  0.363787  ... -0.018307  0.277838 -0.110474  0.066928  0.128539   \n",
       "1  0.085102 -0.255425  ... -0.225775 -0.638672  0.101288 -0.339846  0.167170   \n",
       "\n",
       "        V26       V27       V28  Amount  Class  \n",
       "0 -0.189115  0.133558 -0.021053  149.62      0  \n",
       "1  0.125895 -0.008983  0.014724    2.69      0  \n",
       "\n",
       "[2 rows x 31 columns]"
      ]
     },
     "execution_count": 3,
     "metadata": {},
     "output_type": "execute_result"
    }
   ],
   "source": [
    "X_full.head(2)"
   ]
  },
  {
   "cell_type": "code",
   "execution_count": 34,
   "id": "5f4f652f",
   "metadata": {},
   "outputs": [],
   "source": [
    "def is_imba(y):\n",
    "    df = pd.DataFrame({'categories':list(y.value_counts().index),\n",
    "                    'counts':list(y.value_counts().values)})\n",
    "    percentage_biggest_class = (df['counts'].max()/df['counts'].sum())*100\n",
    "    \n",
    "    print(f\"the biggest class has a {round(percentage_biggest_class,2)}% of all the samples in this dataset\")\n",
    "    fig = px.pie(df, values='counts', names='categories', title='Categories in the target values')\n",
    "    fig.show()\n",
    "    if percentage_biggest_class>90:\n",
    "        return print(\"This class is clearly imbalanced\")\n",
    "    else: \n",
    "        return print(\"This class doesn't look like imbalanced, please make sure looking the graph\")\n",
    "    "
   ]
  },
  {
   "cell_type": "code",
   "execution_count": 35,
   "id": "90f61d34",
   "metadata": {},
   "outputs": [
    {
     "name": "stdout",
     "output_type": "stream",
     "text": [
      "the biggest class has a 99.83% of all the samples in this dataset\n"
     ]
    },
    {
     "data": {
      "image/svg+xml": [
       "<svg class=\"main-svg\" xmlns=\"http://www.w3.org/2000/svg\" xmlns:xlink=\"http://www.w3.org/1999/xlink\" width=\"700\" height=\"500\" style=\"\" viewBox=\"0 0 700 500\"><rect x=\"0\" y=\"0\" width=\"700\" height=\"500\" style=\"fill: rgb(255, 255, 255); fill-opacity: 1;\"/><defs id=\"defs-cd632f\"><g class=\"clips\"/><g class=\"gradients\"/><g class=\"patterns\"/></defs><g class=\"bglayer\"/><g class=\"layer-below\"><g class=\"imagelayer\"/><g class=\"shapelayer\"/></g><g class=\"cartesianlayer\"/><g class=\"polarlayer\"/><g class=\"smithlayer\"/><g class=\"ternarylayer\"/><g class=\"geolayer\"/><g class=\"funnelarealayer\"/><g class=\"pielayer\"><g class=\"trace\" stroke-linejoin=\"round\" style=\"opacity: 1;\"><g class=\"slice\"><path class=\"surface\" d=\"M350,260l0,-160a160,160 0 1 1 -1.736623873641885,0.009424847832065097Z\" style=\"pointer-events: all; stroke-width: 0; fill: rgb(99, 110, 250); fill-opacity: 1; stroke: rgb(68, 68, 68); stroke-opacity: 1;\"/><g class=\"slicetext\"><text data-notex=\"1\" class=\"slicetext\" transform=\"translate(350.3950998620735,344.4988218853463)\" text-anchor=\"middle\" x=\"0\" y=\"0\" style=\"font-family: 'Open Sans', verdana, arial, sans-serif; font-size: 12px; fill: rgb(255, 255, 255); fill-opacity: 1; white-space: pre;\">99.8%</text></g></g><g class=\"slice\"><path class=\"surface\" d=\"M350,260l-1.7366238736418318,-159.99057515216793a160,160 0 0 1 1.7366238736418318,-0.009424847832065097Z\" style=\"pointer-events: all; stroke-width: 0; fill: rgb(239, 85, 59); fill-opacity: 1; stroke: rgb(68, 68, 68); stroke-opacity: 1;\"/><g class=\"slicetext\"><text data-notex=\"1\" class=\"slicetext\" transform=\"translate(321.39730027585307,97.00257712417849)\" text-anchor=\"middle\" x=\"0\" y=\"0\" style=\"font-family: 'Open Sans', verdana, arial, sans-serif; font-size: 12px; fill: rgb(42, 63, 95); fill-opacity: 1; white-space: pre;\">0.173%</text></g></g></g></g><g class=\"iciclelayer\"/><g class=\"treemaplayer\"/><g class=\"sunburstlayer\"/><g class=\"glimages\"/><defs id=\"topdefs-cd632f\"><g class=\"clips\"/><clipPath id=\"legendcd632f\"><rect width=\"53\" height=\"48\" x=\"0\" y=\"0\"/></clipPath></defs><g class=\"layer-above\"><g class=\"imagelayer\"/><g class=\"shapelayer\"/></g><g class=\"infolayer\"><g class=\"legend\" pointer-events=\"all\" transform=\"translate(613.12,100)\"><rect class=\"bg\" shape-rendering=\"crispEdges\" width=\"53\" height=\"48\" x=\"0\" y=\"0\" style=\"stroke: rgb(68, 68, 68); stroke-opacity: 1; fill: rgb(255, 255, 255); fill-opacity: 1; stroke-width: 0px;\"/><g class=\"scrollbox\" transform=\"\" clip-path=\"url(#legendcd632f)\"><g class=\"groups\"><g class=\"traces\" transform=\"translate(0,14.5)\" style=\"opacity: 1;\"><text class=\"legendtext\" text-anchor=\"start\" x=\"40\" y=\"4.680000000000001\" style=\"font-family: 'Open Sans', verdana, arial, sans-serif; font-size: 12px; fill: rgb(42, 63, 95); fill-opacity: 1; white-space: pre;\">0</text><g class=\"layers\" style=\"opacity: 1;\"><g class=\"legendfill\"/><g class=\"legendlines\"/><g class=\"legendsymbols\"><g class=\"legendpoints\"><path class=\"legendpie\" d=\"M6,6H-6V-6H6Z\" transform=\"translate(20,0)\" style=\"stroke-width: 0; fill: rgb(99, 110, 250); fill-opacity: 1; stroke: rgb(68, 68, 68); stroke-opacity: 1;\"/></g></g></g><rect class=\"legendtoggle\" x=\"0\" y=\"-9.5\" width=\"47.640625\" height=\"19\" style=\"fill: rgb(0, 0, 0); fill-opacity: 0;\"/></g><g class=\"traces\" transform=\"translate(0,33.5)\" style=\"opacity: 1;\"><text class=\"legendtext\" text-anchor=\"start\" x=\"40\" y=\"4.680000000000001\" style=\"font-family: 'Open Sans', verdana, arial, sans-serif; font-size: 12px; fill: rgb(42, 63, 95); fill-opacity: 1; white-space: pre;\">1</text><g class=\"layers\" style=\"opacity: 1;\"><g class=\"legendfill\"/><g class=\"legendlines\"/><g class=\"legendsymbols\"><g class=\"legendpoints\"><path class=\"legendpie\" d=\"M6,6H-6V-6H6Z\" transform=\"translate(20,0)\" style=\"stroke-width: 0; fill: rgb(239, 85, 59); fill-opacity: 1; stroke: rgb(68, 68, 68); stroke-opacity: 1;\"/></g></g></g><rect class=\"legendtoggle\" x=\"0\" y=\"-9.5\" width=\"47.640625\" height=\"19\" style=\"fill: rgb(0, 0, 0); fill-opacity: 0;\"/></g></g></g><rect class=\"scrollbar\" rx=\"20\" ry=\"3\" width=\"0\" height=\"0\" x=\"0\" y=\"0\" style=\"fill: rgb(128, 139, 164); fill-opacity: 1;\"/></g><g class=\"g-gtitle\"><text class=\"gtitle\" x=\"35\" y=\"50\" text-anchor=\"start\" dy=\"0em\" style=\"font-family: 'Open Sans', verdana, arial, sans-serif; font-size: 17px; fill: rgb(42, 63, 95); opacity: 1; font-weight: normal; white-space: pre;\">Categories in the target values</text></g></g></svg>"
      ]
     },
     "metadata": {},
     "output_type": "display_data"
    },
    {
     "name": "stdout",
     "output_type": "stream",
     "text": [
      "this class is clearly imbalanced\n"
     ]
    }
   ],
   "source": [
    "is_imba(y)"
   ]
  },
  {
   "cell_type": "markdown",
   "id": "2fb1ff26",
   "metadata": {},
   "source": [
    "# Creating a WRONG MODEL \n",
    "\n",
    "Here we will create a wrong model without using any of the techniques for imbalanced dataset to see what we will get.\n",
    "\n",
    "So this will be the naive approach, \n",
    "\n",
    "**please noticed this model is created intensionally in a bad way to ilustrate the importance of the methods we are going to use later!** \n"
   ]
  },
  {
   "cell_type": "code",
   "execution_count": 38,
   "id": "5672825b",
   "metadata": {},
   "outputs": [],
   "source": [
    "# we do not have null!!\n",
    "# X.isnull().any()"
   ]
  },
  {
   "cell_type": "code",
   "execution_count": 45,
   "id": "94f11465",
   "metadata": {},
   "outputs": [],
   "source": [
    "# All variables are number!! \n",
    "# X.dtypes"
   ]
  },
  {
   "cell_type": "markdown",
   "id": "8a3bee90",
   "metadata": {},
   "source": [
    "Notice we could clean a little our code because we do not have categories nor null values, but we are going to continue use our trusty pipeline. "
   ]
  },
  {
   "cell_type": "code",
   "execution_count": 47,
   "id": "ef3d9d42",
   "metadata": {},
   "outputs": [],
   "source": [
    "# notice we use stratify\n",
    "X, X_test, y, y_test = train_test_split(X, y, train_size=0.8, test_size=0.2,\n",
    "                                                random_state=0,stratify=y)  "
   ]
  },
  {
   "cell_type": "code",
   "execution_count": 48,
   "id": "b7916eac",
   "metadata": {},
   "outputs": [],
   "source": [
    "def fix_model(X,y,X_test=False,\n",
    "             cv=3,n_jobs=-1,scoring='accuracy',\n",
    "             max_depth=10,n_estimators=344,n_neighbors=5,thr=0.5 ):\n",
    "\n",
    "    # We are gonna use a cross validation now\n",
    "    \n",
    "    \"\"\"\n",
    "    best model so far is: \n",
    "    {'model__max_depth': 10,\n",
    "    'model__n_estimators': 344,\n",
    "    'preprocessor__numerical_transformer__imputer__n_neighbors': 5}\n",
    "    \n",
    "    \n",
    "    \"\"\"\n",
    "\n",
    "    \n",
    "    numerical_col = [col for col in X.columns if str(X[col].dtypes)!='object' ]\n",
    "    numerical_col_imputed = [col for col in numerical_col if X[col].isnull().any()==True]\n",
    "\n",
    "    categorical_col = [col for col in X.columns if str(X[col].dtypes)=='object' ]\n",
    "    categorical_col_imputed = [col for col in categorical_col if X[col].isnull().any()==True]\n",
    "    # n_neighbors = an integer. KNNImputer \n",
    "    numerical_transformer = Pipeline(\n",
    "    steps=[(\"scaler\", StandardScaler()), (\"imputer\", KNNImputer(n_neighbors=n_neighbors))\n",
    "          ]\n",
    "    )\n",
    "\n",
    "    categorical_transformer =  Pipeline(steps=[\n",
    "        ('imputer', SimpleImputer(missing_values=pd.NA, strategy='most_frequent')),\n",
    "        ('onehot', OneHotEncoder(handle_unknown='ignore'))\n",
    "    ])\n",
    "\n",
    "    preprocessor = ColumnTransformer(transformers=\n",
    "        [(\"numerical_transformer\", numerical_transformer, numerical_col_imputed),\n",
    "        (\"categorical_transformer\", categorical_transformer, categorical_col)],remainder='passthrough')\n",
    "\n",
    "    # Define model\n",
    "    model = RandomForestClassifier(max_depth=max_depth,n_estimators=n_estimators ,random_state=0,n_jobs=n_jobs)\n",
    "\n",
    "    # Bundle preprocessing and modeling code in a pipeline\n",
    "    pipe = Pipeline(steps=[('preprocessor', preprocessor),\n",
    "                          ('model', model)\n",
    "                         ])\n",
    "    # this \"just\" give me the score\n",
    "    scores =  cross_val_score(pipe, X, y,cv=cv,scoring=scoring)\n",
    "    \n",
    "    # this fit the pipeline to a specific model, giving an specific traning set (notice that the cross-val does not do that)\n",
    "    pipe.fit(X,y)\n",
    "    y_proba = None\n",
    "    try:\n",
    "        # X_test = False this will not run and it is ok\n",
    "        y_proba = pipe.predict_proba(X_test)\n",
    "    except:\n",
    "        pass\n",
    "    \n",
    "    return scores, y_proba"
   ]
  },
  {
   "cell_type": "code",
   "execution_count": 49,
   "id": "1f200167",
   "metadata": {},
   "outputs": [],
   "source": [
    "# What we got so far is\n",
    "scores, y_proba = fix_model(X,y,X_test=X_test)"
   ]
  },
  {
   "cell_type": "code",
   "execution_count": 50,
   "id": "6eedf41e",
   "metadata": {},
   "outputs": [],
   "source": [
    "def plot_confusion_matrix(y_proba,y_test,thr=0.5):\n",
    "    y_pred = (y_proba[:, 1] >= thr).astype(int)\n",
    "    fpr, tpr, thresholds = roc_curve(y_test,y_pred)\n",
    "    acurracy = accuracy_score(y_test, y_pred)\n",
    "    return print(f\"acurracy : {round(acurracy,3)*100}% \"),skplt.metrics.plot_confusion_matrix(y_test, y_pred)"
   ]
  },
  {
   "cell_type": "code",
   "execution_count": 51,
   "id": "41c2a673",
   "metadata": {},
   "outputs": [
    {
     "name": "stdout",
     "output_type": "stream",
     "text": [
      "acurracy : 99.9% \n"
     ]
    },
    {
     "data": {
      "text/plain": [
       "(None,\n",
       " <Axes: title={'center': 'Confusion Matrix'}, xlabel='Predicted label', ylabel='True label'>)"
      ]
     },
     "execution_count": 51,
     "metadata": {},
     "output_type": "execute_result"
    },
    {
     "data": {
      "image/png": "[encoded data removed]",
      "text/plain": [
       "<Figure size 640x480 with 2 Axes>"
      ]
     },
     "metadata": {},
     "output_type": "display_data"
    }
   ],
   "source": [
    "# Over 0.5 we have positive and below negative, a pretty normal way to do it!\n",
    "plot_confusion_matrix(y_proba,y_test,thr=0.5)"
   ]
  },
  {
   "cell_type": "markdown",
   "id": "b54d71a1",
   "metadata": {},
   "source": [
    "I must admit, we did a better job that I was expencting without changing much of our trusty pipeline. We misclassified 28 element, that is to say, we coudn't identify 28 fraud of 98. But can we do even better? (notice we can also play with the threshold a little, let us play one time to see what we get)"
   ]
  },
  {
   "cell_type": "code",
   "execution_count": 54,
   "id": "4587f737",
   "metadata": {},
   "outputs": [
    {
     "name": "stdout",
     "output_type": "stream",
     "text": [
      "acurracy : 99.9% \n"
     ]
    },
    {
     "data": {
      "text/plain": [
       "(None,\n",
       " <Axes: title={'center': 'Confusion Matrix'}, xlabel='Predicted label', ylabel='True label'>)"
      ]
     },
     "execution_count": 54,
     "metadata": {},
     "output_type": "execute_result"
    },
    {
     "data": {
      "image/png": "[encoded data removed]",
      "text/plain": [
       "<Figure size 640x480 with 2 Axes>"
      ]
     },
     "metadata": {},
     "output_type": "display_data"
    }
   ],
   "source": [
    "plot_confusion_matrix(y_proba,y_test,thr=0.3)"
   ]
  },
  {
   "cell_type": "markdown",
   "id": "6d471dbd",
   "metadata": {},
   "source": [
    "We could improve a tiny tad the results but can we improve even more using the cool techniques that we describe in the introduction? \n",
    "\n",
    "The problem with this model that we are only detecting a little more than a 1/3 of frauds.\n"
   ]
  },
  {
   "cell_type": "code",
   "execution_count": null,
   "id": "0752dce7",
   "metadata": {},
   "outputs": [],
   "source": []
  }
 ],
 "metadata": {
  "kernelspec": {
   "display_name": "Python 3 (ipykernel)",
   "language": "python",
   "name": "python3"
  },
  "language_info": {
   "codemirror_mode": {
    "name": "ipython",
    "version": 3
   },
   "file_extension": ".py",
   "mimetype": "text/x-python",
   "name": "python",
   "nbconvert_exporter": "python",
   "pygments_lexer": "ipython3",
   "version": "3.11.4"
  }
 },
 "nbformat": 4,
 "nbformat_minor": 5
}
