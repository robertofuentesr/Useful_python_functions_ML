{
 "cells": [
  {
   "cell_type": "markdown",
   "id": "b178200e",
   "metadata": {},
   "source": [
    "# Exploring Spacy with Embeddings!\n",
    "\n",
    "There are a lot of explanation about embeddings so I will not even try to explain it. What I am going to do here is to use embeddings to find words that are similar to each other. \n",
    "This similarrity means that they are use in the same context. So we are going to test this in the following example."
   ]
  },
  {
   "cell_type": "code",
   "execution_count": 1,
   "id": "9a3c076c",
   "metadata": {},
   "outputs": [],
   "source": [
    "#pip install spacy\n",
    "# the line below should be use in the anaconda prompt selecting the correct environment \n",
    "# pip install en_core_web_md"
   ]
  },
  {
   "cell_type": "code",
   "execution_count": 2,
   "id": "15c9a60e",
   "metadata": {},
   "outputs": [],
   "source": [
    "import spacy\n",
    "import numpy as np\n",
    "from sklearn.metrics.pairwise import cosine_similarity\n",
    "nlp = spacy.load('en_core_web_lg')"
   ]
  },
  {
   "cell_type": "markdown",
   "id": "519ee7c4",
   "metadata": {},
   "source": [
    "## Embeddings on similar context"
   ]
  },
  {
   "cell_type": "code",
   "execution_count": 3,
   "id": "08b10d89",
   "metadata": {},
   "outputs": [
    {
     "data": {
      "text/plain": [
       "array([  0.19343 ,  -4.1969  ,   4.8175  ,  -0.72863 ,   2.3177  ,\n",
       "        -1.4221  ,   0.28923 ,   0.062839,   3.6781  ,   2.6208  ,\n",
       "         1.8116  ,   0.42054 ,   3.3034  ,  -1.165   ,  -1.8362  ,\n",
       "        -2.4683  ,   4.2381  ,   1.2929  ,  -0.37599 ,   3.2744  ,\n",
       "        -2.8982  ,  -5.9219  ,  -1.8752  ,   3.8131  ,   6.583   ,\n",
       "        -0.16072 ,  -1.1781  ,  -2.7252  ,  -3.3267  ,  -0.16564 ,\n",
       "         1.4311  ,  -0.51942 ,   0.87652 ,   0.51414 ,   1.4174  ,\n",
       "        -1.4736  ,   1.8717  ,  -0.99453 ,  -6.5019  ,   1.6999  ,\n",
       "        -3.0466  ,  -2.4686  ,  -4.4889  ,   6.5907  ,   1.375   ,\n",
       "        -3.0183  ,  -4.4784  ,   2.7568  ,   4.5392  ,  -2.9311  ,\n",
       "        -3.6852  ,  -1.7053  ,   2.422   ,   3.9895  ,   5.0674  ,\n",
       "         1.3144  ,   1.0707  ,  -9.2608  ,   0.62933 ,   5.3289  ,\n",
       "        -3.6329  ,  -5.5805  ,   5.4988  ,   0.62285 ,   1.4319  ,\n",
       "         2.2446  ,  -1.9759  ,  -1.7883  ,   5.6889  ,  -6.1173  ,\n",
       "         0.40993 ,   1.436   ,  -6.6111  ,  -4.7627  ,  -1.945   ,\n",
       "         5.8846  ,  -5.4712  ,   6.2925  ,   2.2544  ,   2.4264  ,\n",
       "        -2.1848  ,  -0.63672 ,  -7.8964  ,   3.7743  ,  -1.7516  ,\n",
       "         1.0216  ,  -1.1627  ,   4.4604  ,  -5.9697  ,   0.2082  ,\n",
       "        -1.5752  ,  -3.1609  ,  -4.0534  ,  -1.889   ,  -6.2744  ,\n",
       "         0.86429 ,  -1.8791  ,  -0.42341 ,  -3.0094  ,   0.79509 ,\n",
       "        -4.2661  ,  -2.8265  ,  -0.85175 ,   1.7241  ,  -0.22838 ,\n",
       "         2.2058  ,  -1.6097  ,   1.1607  ,   6.4679  ,  -5.2997  ,\n",
       "        -6.2646  ,   5.0426  ,   3.4095  ,   3.4815  ,   9.2755  ,\n",
       "        -5.8113  ,  -4.5499  ,   0.50462 ,   1.5843  ,   2.2471  ,\n",
       "         1.5692  ,  -1.2785  ,   6.1438  ,  -8.9612  ,   4.1012  ,\n",
       "         2.6644  ,   0.6535  ,  -7.1344  ,   1.6875  ,  -0.32363 ,\n",
       "        -5.6092  ,   2.8563  ,   2.7854  ,  -0.71228 ,   0.43001 ,\n",
       "         0.87425 ,  -1.7621  ,   3.1546  ,  -4.5938  ,  -3.9465  ,\n",
       "        -6.2262  ,   0.33711 ,  -0.21528 ,  -3.8749  ,   2.2451  ,\n",
       "         0.2088  ,  -6.3412  ,   5.1258  ,  -3.0424  ,  -0.77623 ,\n",
       "         2.3595  ,   0.028703,  -1.0039  ,   1.9061  ,   1.4729  ,\n",
       "         2.5383  ,  -2.4957  ,  -2.2428  ,  -1.6663  ,   0.71359 ,\n",
       "         1.7846  , -11.062   ,  -3.1488  ,  -0.95036 ,  -7.5857  ,\n",
       "        -6.994   ,   0.37835 ,  -0.66691 ,  -0.49036 ,   0.92978 ,\n",
       "         6.4581  ,  -0.87936 ,   0.33482 ,  -1.6848  ,  -0.044265,\n",
       "        -0.11155 ,   1.3763  ,   1.0704  ,   0.4828  ,  -5.6289  ,\n",
       "         0.070978,  -0.90101 ,  -0.97243 ,   2.2958  ,   7.0401  ,\n",
       "         2.1671  ,  -0.031095,  -1.0682  ,  -3.3594  ,   3.0531  ,\n",
       "         2.2338  ,  -3.7636  ,   2.0585  ,   7.3505  ,  -0.42624 ,\n",
       "         6.3578  ,  -1.4151  ,   2.1862  ,   0.16724 ,   7.3919  ,\n",
       "         4.882   ,   5.1933  ,  -4.0285  ,   3.4392  ,  -1.7809  ,\n",
       "        -5.7629  ,   6.8964  ,   4.4143  ,  -7.3915  ,   5.6025  ,\n",
       "        -8.0512  ,  -0.3741  ,   3.6755  ,   7.5293  ,   0.44672 ,\n",
       "         0.33251 ,   1.8733  ,  -1.0936  ,   2.6618  ,  -8.3229  ,\n",
       "        -0.66927 ,   0.13974 ,  -4.4223  ,   1.3336  ,   2.7     ,\n",
       "        -1.5951  ,   0.83365 ,  11.612   ,  -5.5315  ,   0.94248 ,\n",
       "        -1.4752  ,  -0.2047  ,  -3.2312  ,   0.73125 ,   4.6758  ,\n",
       "         6.4229  ,  -3.0921  ,  -3.1441  ,  -9.691   ,   0.8753  ,\n",
       "         3.3832  ,   5.8956  ,  -4.9336  ,  -2.0511  ,  -1.2117  ,\n",
       "        -0.97065 ,   5.2081  ,   2.1007  ,   1.68    ,  -3.2119  ,\n",
       "        -0.059411,  -7.9966  ,  -1.1969  ,   1.6711  ,  -0.68285 ,\n",
       "        -8.9127  ,   9.2666  ,  -1.4378  ,   1.7714  ,   4.319   ,\n",
       "         0.19569 ,  -8.0474  ,  -2.2153  ,  -3.1312  ,  -0.58417 ,\n",
       "        -0.97893 ,  -1.1495  ,   0.22475 ,  -3.102   ,  -0.77219 ,\n",
       "        -5.7923  ,  -1.7915  ,  -4.7496  ,   2.1055  ,   1.2694  ,\n",
       "        -0.62912 ,   2.6512  ,  -0.52775 ,  -0.68296 ,   2.0287  ,\n",
       "        -7.5485  ,  -1.9485  ,   3.2463  ,   1.9657  ,   4.5191  ,\n",
       "        -1.4056  ,   1.6316  ,   2.8408  ,  -2.2202  ,  -2.9962  ,\n",
       "         1.3214  ,  -6.8758  ,  -1.8754  ,  -1.8526  ,   4.0454  ,\n",
       "         6.2775  ,   0.2443  ,  -1.8489  ,  -2.6881  ,   0.65135 ],\n",
       "      dtype=float32)"
      ]
     },
     "execution_count": 3,
     "metadata": {},
     "output_type": "execute_result"
    }
   ],
   "source": [
    "# how an embedding looks like\n",
    "king = nlp('King').vector\n",
    "man = nlp('Man').vector\n",
    "woman = nlp('Woman').vector\n",
    "king"
   ]
  },
  {
   "cell_type": "code",
   "execution_count": 4,
   "id": "6ebdd2d5",
   "metadata": {},
   "outputs": [
    {
     "name": "stdout",
     "output_type": "stream",
     "text": [
      "King embedding shape: (300,)\n",
      "Man embedding shape: (300,)\n",
      "Woman embedding shape: (300,)\n"
     ]
    }
   ],
   "source": [
    "print(f\"King embedding shape: {king.shape}\")\n",
    "print(f\"Man embedding shape: {man.shape}\") \n",
    "print(f\"Woman embedding shape: {woman.shape}\")\n",
    "# notice all have the same length!"
   ]
  },
  {
   "cell_type": "code",
   "execution_count": 5,
   "id": "32d83f99",
   "metadata": {},
   "outputs": [],
   "source": [
    "# so hopefully this substract give us the queen! \n",
    "queen = (king - man) + woman"
   ]
  },
  {
   "cell_type": "code",
   "execution_count": 6,
   "id": "900f91cd",
   "metadata": {},
   "outputs": [],
   "source": [
    "def similar_words(vector):\n",
    "    queries = np.asarray([vector])\n",
    "    ms = nlp.vocab.vectors.most_similar(queries, n=10)\n",
    "    words = [nlp.vocab.strings[w] for w in ms[0][0]]\n",
    "    distances = ms[2]\n",
    "    print(words)\n",
    "    print(distances)\n",
    "    return words"
   ]
  },
  {
   "cell_type": "code",
   "execution_count": 7,
   "id": "a0ed7333",
   "metadata": {},
   "outputs": [
    {
     "name": "stdout",
     "output_type": "stream",
     "text": [
      "['King', '-King', 'KastKing', 'R.M.King', 'Kingi', 'King-', 'Kingz', 'Queen', 'Kingu', 'king']\n",
      "[[0.6952 0.6542 0.5835 0.5786 0.5623 0.5603 0.5439 0.5421 0.5272 0.5198]]\n"
     ]
    }
   ],
   "source": [
    "words = similar_words(queen)"
   ]
  },
  {
   "cell_type": "code",
   "execution_count": 8,
   "id": "2693e935",
   "metadata": {},
   "outputs": [
    {
     "name": "stdout",
     "output_type": "stream",
     "text": [
      "['Man', 'Brak', 'Woman', 'Womad', 'Girl', 'Fist', '-Girl', 'Womanly', 'Boy', 'Fisto']\n",
      "[[1.     0.7302 0.6429 0.6036 0.5658 0.5608 0.5598 0.5513 0.542  0.5261]]\n"
     ]
    }
   ],
   "source": [
    "words = similar_words(man)"
   ]
  },
  {
   "cell_type": "markdown",
   "id": "0c761aa5",
   "metadata": {},
   "source": [
    "# What are we seeing?\n",
    "\n",
    "So notice that we try to get Queen trying to substact the vector man from king and adding woman. \n",
    "but appearentely the vector king and queen are close together and the end result is that the most similar word at the end of all the operation was king. Notice that the word Man and woman are also close together!\n",
    "\n",
    "# comparing different vectors embeddings"
   ]
  },
  {
   "cell_type": "code",
   "execution_count": 9,
   "id": "1ff5520f",
   "metadata": {},
   "outputs": [],
   "source": [
    "# how an embedding looks like on synonymous\n",
    "dictionary = {}\n",
    "dictionary['happy'] = nlp('Happy').vector\n",
    "dictionary['cheerful'] = nlp('Cheerful').vector\n",
    "dictionary['delighted'] = nlp('Delighted').vector\n",
    "# antonymous\n",
    "dictionary['sad'] = nlp('Sad').vector\n",
    "# unrelated word\n",
    "dictionary['banana'] = nlp('Banana').vector\n",
    "    "
   ]
  },
  {
   "cell_type": "code",
   "execution_count": 10,
   "id": "c13fe576",
   "metadata": {},
   "outputs": [
    {
     "name": "stdout",
     "output_type": "stream",
     "text": [
      "['Happy', '-Happy', 'Yappy', 'Happo', 'Happytime', 'appy', 'Dappy', 'Happn', 'Slappy', 'Sappy']\n",
      "[[1.     0.9015 0.7374 0.7176 0.7136 0.698  0.6947 0.6864 0.6795 0.6792]]\n"
     ]
    }
   ],
   "source": [
    "words = similar_words(dictionary['happy'])"
   ]
  },
  {
   "cell_type": "code",
   "execution_count": 11,
   "id": "c10cde65",
   "metadata": {},
   "outputs": [
    {
     "name": "stdout",
     "output_type": "stream",
     "text": [
      "we are comparing happy embedding with happy\n",
      "1.0\n",
      "we are comparing happy embedding with cheerful\n",
      "0.50845826\n",
      "we are comparing happy embedding with delighted\n",
      "0.33883482\n",
      "we are comparing happy embedding with sad\n",
      "0.36764246\n",
      "we are comparing happy embedding with banana\n",
      "0.28835577\n"
     ]
    }
   ],
   "source": [
    "for elem in dictionary.keys():\n",
    "    print(f'we are comparing happy embedding with {elem}')\n",
    "    print(cosine_similarity(dictionary['happy'].reshape(1, -1),dictionary[elem].reshape(1, -1)).flatten()[0])\n"
   ]
  },
  {
   "cell_type": "markdown",
   "id": "87afaebf",
   "metadata": {},
   "source": [
    "## What are we seeing?\n",
    "Notice that the embeddings not always make the most sense. Sad is more similar to happy than delighted even though the latter is a synonymous. Maybe sad is more similar than delighted is because happy and sad are easier words and appear together for instance in children's book or whenever. So it is best **not to expect that similar words in meaning are similar in embedding** \n",
    "This is a way similar to T-sne, we think we understand the topic but the intuition fails because we expect that similar ideas or points in T-sne are group magically together, but they are not. So we need to use the concepts for what they are and what they truly provide us.\n"
   ]
  },
  {
   "cell_type": "markdown",
   "id": "c4c538a0",
   "metadata": {},
   "source": [
    "# Tokens\n",
    "\n",
    "Even though I say I will not explain embeddings, I will just say that the embeddings are numerical representation of words or group of words. On the other hands tokens are the building block of NLP a token generally but not always are the words (can also be a point, parenthesis and other simbol use in writing). \n",
    "\n",
    "Spacy works with documents that in short create all the metadata that we can need to analyze text. So, here it is an easy example!"
   ]
  },
  {
   "cell_type": "code",
   "execution_count": 12,
   "id": "8d3988cd",
   "metadata": {},
   "outputs": [],
   "source": [
    "text = 'I hope you have a happy life forever in the USA, I will miss you Harry Potter. Please do not forget your wand!'\n",
    "doc = nlp(text)"
   ]
  },
  {
   "cell_type": "markdown",
   "id": "05ddae94",
   "metadata": {},
   "source": [
    "So let us examine what the model considers a token"
   ]
  },
  {
   "cell_type": "code",
   "execution_count": 13,
   "id": "ad45e1f9",
   "metadata": {},
   "outputs": [
    {
     "name": "stdout",
     "output_type": "stream",
     "text": [
      "I\n",
      "hope\n",
      "you\n",
      "have\n",
      "a\n",
      "happy\n",
      "life\n",
      "forever\n",
      "in\n",
      "the\n",
      "USA\n",
      ",\n",
      "I\n",
      "will\n",
      "miss\n",
      "you\n",
      "Harry\n",
      "Potter\n",
      ".\n",
      "Please\n",
      "do\n",
      "not\n",
      "forget\n",
      "your\n",
      "wand\n",
      "!\n"
     ]
    }
   ],
   "source": [
    "for token in doc:\n",
    "    print(token)"
   ]
  },
  {
   "cell_type": "markdown",
   "id": "963805c1",
   "metadata": {},
   "source": [
    "So the spacy library creates this metadata of the text, with token, and do more, each token has some very interesting atributes that we are going to explore here!"
   ]
  },
  {
   "cell_type": "code",
   "execution_count": 23,
   "id": "2451e146",
   "metadata": {},
   "outputs": [
    {
     "data": {
      "text/plain": [
       "'USA'"
      ]
     },
     "execution_count": 23,
     "metadata": {},
     "output_type": "execute_result"
    }
   ],
   "source": [
    "token1 = doc[10]\n",
    "token1.text"
   ]
  },
  {
   "cell_type": "code",
   "execution_count": 24,
   "id": "d4312af8",
   "metadata": {},
   "outputs": [
    {
     "data": {
      "text/plain": [
       "'GPE'"
      ]
     },
     "execution_count": 24,
     "metadata": {},
     "output_type": "execute_result"
    }
   ],
   "source": [
    "token1.ent_type_"
   ]
  },
  {
   "cell_type": "code",
   "execution_count": 25,
   "id": "aafd4676",
   "metadata": {},
   "outputs": [
    {
     "data": {
      "text/plain": [
       "'have'"
      ]
     },
     "execution_count": 25,
     "metadata": {},
     "output_type": "execute_result"
    }
   ],
   "source": [
    "token2 = doc[3]\n",
    "token2.text"
   ]
  },
  {
   "cell_type": "code",
   "execution_count": 26,
   "id": "e42117ef",
   "metadata": {},
   "outputs": [
    {
     "data": {
      "text/plain": [
       "Mood=Ind|Tense=Pres|VerbForm=Fin"
      ]
     },
     "execution_count": 26,
     "metadata": {},
     "output_type": "execute_result"
    }
   ],
   "source": [
    "token2.morph"
   ]
  },
  {
   "cell_type": "code",
   "execution_count": 27,
   "id": "e9871a9e",
   "metadata": {},
   "outputs": [
    {
     "data": {
      "text/html": [
       "<span class=\"tex2jax_ignore\"><div class=\"entities\" style=\"line-height: 2.5; direction: ltr\">I hope you have a happy life forever in the \n",
       "<mark class=\"entity\" style=\"background: #feca74; padding: 0.45em 0.6em; margin: 0 0.25em; line-height: 1; border-radius: 0.35em;\">\n",
       "    USA\n",
       "    <span style=\"font-size: 0.8em; font-weight: bold; line-height: 1; border-radius: 0.35em; vertical-align: middle; margin-left: 0.5rem\">GPE</span>\n",
       "</mark>\n",
       ", I will miss you \n",
       "<mark class=\"entity\" style=\"background: #aa9cfc; padding: 0.45em 0.6em; margin: 0 0.25em; line-height: 1; border-radius: 0.35em;\">\n",
       "    Harry Potter\n",
       "    <span style=\"font-size: 0.8em; font-weight: bold; line-height: 1; border-radius: 0.35em; vertical-align: middle; margin-left: 0.5rem\">PERSON</span>\n",
       "</mark>\n",
       ". Please do not forget your wand!</div></span>"
      ],
      "text/plain": [
       "<IPython.core.display.HTML object>"
      ]
     },
     "metadata": {},
     "output_type": "display_data"
    }
   ],
   "source": [
    "from spacy import displacy\n",
    "displacy.render(doc,style='ent')"
   ]
  },
  {
   "cell_type": "code",
   "execution_count": 28,
   "id": "f992dce0",
   "metadata": {},
   "outputs": [
    {
     "data": {
      "text/html": [
       "<span class=\"tex2jax_ignore\"><svg xmlns=\"http://www.w3.org/2000/svg\" xmlns:xlink=\"http://www.w3.org/1999/xlink\" xml:lang=\"en\" id=\"79278fab2d264e888f7c625568ebd295-0\" class=\"displacy\" width=\"4075\" height=\"662.0\" direction=\"ltr\" style=\"max-width: none; height: 662.0px; color: #000000; background: #ffffff; font-family: Arial; direction: ltr\">\n",
       "<text class=\"displacy-token\" fill=\"currentColor\" text-anchor=\"middle\" y=\"572.0\">\n",
       "    <tspan class=\"displacy-word\" fill=\"currentColor\" x=\"50\">I</tspan>\n",
       "    <tspan class=\"displacy-tag\" dy=\"2em\" fill=\"currentColor\" x=\"50\">PRON</tspan>\n",
       "</text>\n",
       "\n",
       "<text class=\"displacy-token\" fill=\"currentColor\" text-anchor=\"middle\" y=\"572.0\">\n",
       "    <tspan class=\"displacy-word\" fill=\"currentColor\" x=\"225\">hope</tspan>\n",
       "    <tspan class=\"displacy-tag\" dy=\"2em\" fill=\"currentColor\" x=\"225\">VERB</tspan>\n",
       "</text>\n",
       "\n",
       "<text class=\"displacy-token\" fill=\"currentColor\" text-anchor=\"middle\" y=\"572.0\">\n",
       "    <tspan class=\"displacy-word\" fill=\"currentColor\" x=\"400\">you</tspan>\n",
       "    <tspan class=\"displacy-tag\" dy=\"2em\" fill=\"currentColor\" x=\"400\">PRON</tspan>\n",
       "</text>\n",
       "\n",
       "<text class=\"displacy-token\" fill=\"currentColor\" text-anchor=\"middle\" y=\"572.0\">\n",
       "    <tspan class=\"displacy-word\" fill=\"currentColor\" x=\"575\">have</tspan>\n",
       "    <tspan class=\"displacy-tag\" dy=\"2em\" fill=\"currentColor\" x=\"575\">VERB</tspan>\n",
       "</text>\n",
       "\n",
       "<text class=\"displacy-token\" fill=\"currentColor\" text-anchor=\"middle\" y=\"572.0\">\n",
       "    <tspan class=\"displacy-word\" fill=\"currentColor\" x=\"750\">a</tspan>\n",
       "    <tspan class=\"displacy-tag\" dy=\"2em\" fill=\"currentColor\" x=\"750\">DET</tspan>\n",
       "</text>\n",
       "\n",
       "<text class=\"displacy-token\" fill=\"currentColor\" text-anchor=\"middle\" y=\"572.0\">\n",
       "    <tspan class=\"displacy-word\" fill=\"currentColor\" x=\"925\">happy</tspan>\n",
       "    <tspan class=\"displacy-tag\" dy=\"2em\" fill=\"currentColor\" x=\"925\">ADJ</tspan>\n",
       "</text>\n",
       "\n",
       "<text class=\"displacy-token\" fill=\"currentColor\" text-anchor=\"middle\" y=\"572.0\">\n",
       "    <tspan class=\"displacy-word\" fill=\"currentColor\" x=\"1100\">life</tspan>\n",
       "    <tspan class=\"displacy-tag\" dy=\"2em\" fill=\"currentColor\" x=\"1100\">NOUN</tspan>\n",
       "</text>\n",
       "\n",
       "<text class=\"displacy-token\" fill=\"currentColor\" text-anchor=\"middle\" y=\"572.0\">\n",
       "    <tspan class=\"displacy-word\" fill=\"currentColor\" x=\"1275\">forever</tspan>\n",
       "    <tspan class=\"displacy-tag\" dy=\"2em\" fill=\"currentColor\" x=\"1275\">ADV</tspan>\n",
       "</text>\n",
       "\n",
       "<text class=\"displacy-token\" fill=\"currentColor\" text-anchor=\"middle\" y=\"572.0\">\n",
       "    <tspan class=\"displacy-word\" fill=\"currentColor\" x=\"1450\">in</tspan>\n",
       "    <tspan class=\"displacy-tag\" dy=\"2em\" fill=\"currentColor\" x=\"1450\">ADP</tspan>\n",
       "</text>\n",
       "\n",
       "<text class=\"displacy-token\" fill=\"currentColor\" text-anchor=\"middle\" y=\"572.0\">\n",
       "    <tspan class=\"displacy-word\" fill=\"currentColor\" x=\"1625\">the</tspan>\n",
       "    <tspan class=\"displacy-tag\" dy=\"2em\" fill=\"currentColor\" x=\"1625\">DET</tspan>\n",
       "</text>\n",
       "\n",
       "<text class=\"displacy-token\" fill=\"currentColor\" text-anchor=\"middle\" y=\"572.0\">\n",
       "    <tspan class=\"displacy-word\" fill=\"currentColor\" x=\"1800\">USA,</tspan>\n",
       "    <tspan class=\"displacy-tag\" dy=\"2em\" fill=\"currentColor\" x=\"1800\">PROPN</tspan>\n",
       "</text>\n",
       "\n",
       "<text class=\"displacy-token\" fill=\"currentColor\" text-anchor=\"middle\" y=\"572.0\">\n",
       "    <tspan class=\"displacy-word\" fill=\"currentColor\" x=\"1975\">I</tspan>\n",
       "    <tspan class=\"displacy-tag\" dy=\"2em\" fill=\"currentColor\" x=\"1975\">PRON</tspan>\n",
       "</text>\n",
       "\n",
       "<text class=\"displacy-token\" fill=\"currentColor\" text-anchor=\"middle\" y=\"572.0\">\n",
       "    <tspan class=\"displacy-word\" fill=\"currentColor\" x=\"2150\">will</tspan>\n",
       "    <tspan class=\"displacy-tag\" dy=\"2em\" fill=\"currentColor\" x=\"2150\">AUX</tspan>\n",
       "</text>\n",
       "\n",
       "<text class=\"displacy-token\" fill=\"currentColor\" text-anchor=\"middle\" y=\"572.0\">\n",
       "    <tspan class=\"displacy-word\" fill=\"currentColor\" x=\"2325\">miss</tspan>\n",
       "    <tspan class=\"displacy-tag\" dy=\"2em\" fill=\"currentColor\" x=\"2325\">VERB</tspan>\n",
       "</text>\n",
       "\n",
       "<text class=\"displacy-token\" fill=\"currentColor\" text-anchor=\"middle\" y=\"572.0\">\n",
       "    <tspan class=\"displacy-word\" fill=\"currentColor\" x=\"2500\">you</tspan>\n",
       "    <tspan class=\"displacy-tag\" dy=\"2em\" fill=\"currentColor\" x=\"2500\">PRON</tspan>\n",
       "</text>\n",
       "\n",
       "<text class=\"displacy-token\" fill=\"currentColor\" text-anchor=\"middle\" y=\"572.0\">\n",
       "    <tspan class=\"displacy-word\" fill=\"currentColor\" x=\"2675\">Harry</tspan>\n",
       "    <tspan class=\"displacy-tag\" dy=\"2em\" fill=\"currentColor\" x=\"2675\">PROPN</tspan>\n",
       "</text>\n",
       "\n",
       "<text class=\"displacy-token\" fill=\"currentColor\" text-anchor=\"middle\" y=\"572.0\">\n",
       "    <tspan class=\"displacy-word\" fill=\"currentColor\" x=\"2850\">Potter.</tspan>\n",
       "    <tspan class=\"displacy-tag\" dy=\"2em\" fill=\"currentColor\" x=\"2850\">PROPN</tspan>\n",
       "</text>\n",
       "\n",
       "<text class=\"displacy-token\" fill=\"currentColor\" text-anchor=\"middle\" y=\"572.0\">\n",
       "    <tspan class=\"displacy-word\" fill=\"currentColor\" x=\"3025\">Please</tspan>\n",
       "    <tspan class=\"displacy-tag\" dy=\"2em\" fill=\"currentColor\" x=\"3025\">INTJ</tspan>\n",
       "</text>\n",
       "\n",
       "<text class=\"displacy-token\" fill=\"currentColor\" text-anchor=\"middle\" y=\"572.0\">\n",
       "    <tspan class=\"displacy-word\" fill=\"currentColor\" x=\"3200\">do</tspan>\n",
       "    <tspan class=\"displacy-tag\" dy=\"2em\" fill=\"currentColor\" x=\"3200\">AUX</tspan>\n",
       "</text>\n",
       "\n",
       "<text class=\"displacy-token\" fill=\"currentColor\" text-anchor=\"middle\" y=\"572.0\">\n",
       "    <tspan class=\"displacy-word\" fill=\"currentColor\" x=\"3375\">not</tspan>\n",
       "    <tspan class=\"displacy-tag\" dy=\"2em\" fill=\"currentColor\" x=\"3375\">PART</tspan>\n",
       "</text>\n",
       "\n",
       "<text class=\"displacy-token\" fill=\"currentColor\" text-anchor=\"middle\" y=\"572.0\">\n",
       "    <tspan class=\"displacy-word\" fill=\"currentColor\" x=\"3550\">forget</tspan>\n",
       "    <tspan class=\"displacy-tag\" dy=\"2em\" fill=\"currentColor\" x=\"3550\">VERB</tspan>\n",
       "</text>\n",
       "\n",
       "<text class=\"displacy-token\" fill=\"currentColor\" text-anchor=\"middle\" y=\"572.0\">\n",
       "    <tspan class=\"displacy-word\" fill=\"currentColor\" x=\"3725\">your</tspan>\n",
       "    <tspan class=\"displacy-tag\" dy=\"2em\" fill=\"currentColor\" x=\"3725\">PRON</tspan>\n",
       "</text>\n",
       "\n",
       "<text class=\"displacy-token\" fill=\"currentColor\" text-anchor=\"middle\" y=\"572.0\">\n",
       "    <tspan class=\"displacy-word\" fill=\"currentColor\" x=\"3900\">wand!</tspan>\n",
       "    <tspan class=\"displacy-tag\" dy=\"2em\" fill=\"currentColor\" x=\"3900\">NOUN</tspan>\n",
       "</text>\n",
       "\n",
       "<g class=\"displacy-arrow\">\n",
       "    <path class=\"displacy-arc\" id=\"arrow-79278fab2d264e888f7c625568ebd295-0-0\" stroke-width=\"2px\" d=\"M70,527.0 C70,439.5 200.0,439.5 200.0,527.0\" fill=\"none\" stroke=\"currentColor\"/>\n",
       "    <text dy=\"1.25em\" style=\"font-size: 0.8em; letter-spacing: 1px\">\n",
       "        <textPath xlink:href=\"#arrow-79278fab2d264e888f7c625568ebd295-0-0\" class=\"displacy-label\" startOffset=\"50%\" side=\"left\" fill=\"currentColor\" text-anchor=\"middle\">nsubj</textPath>\n",
       "    </text>\n",
       "    <path class=\"displacy-arrowhead\" d=\"M70,529.0 L62,517.0 78,517.0\" fill=\"currentColor\"/>\n",
       "</g>\n",
       "\n",
       "<g class=\"displacy-arrow\">\n",
       "    <path class=\"displacy-arc\" id=\"arrow-79278fab2d264e888f7c625568ebd295-0-1\" stroke-width=\"2px\" d=\"M245,527.0 C245,2.0 2325.0,2.0 2325.0,527.0\" fill=\"none\" stroke=\"currentColor\"/>\n",
       "    <text dy=\"1.25em\" style=\"font-size: 0.8em; letter-spacing: 1px\">\n",
       "        <textPath xlink:href=\"#arrow-79278fab2d264e888f7c625568ebd295-0-1\" class=\"displacy-label\" startOffset=\"50%\" side=\"left\" fill=\"currentColor\" text-anchor=\"middle\">ccomp</textPath>\n",
       "    </text>\n",
       "    <path class=\"displacy-arrowhead\" d=\"M245,529.0 L237,517.0 253,517.0\" fill=\"currentColor\"/>\n",
       "</g>\n",
       "\n",
       "<g class=\"displacy-arrow\">\n",
       "    <path class=\"displacy-arc\" id=\"arrow-79278fab2d264e888f7c625568ebd295-0-2\" stroke-width=\"2px\" d=\"M420,527.0 C420,439.5 550.0,439.5 550.0,527.0\" fill=\"none\" stroke=\"currentColor\"/>\n",
       "    <text dy=\"1.25em\" style=\"font-size: 0.8em; letter-spacing: 1px\">\n",
       "        <textPath xlink:href=\"#arrow-79278fab2d264e888f7c625568ebd295-0-2\" class=\"displacy-label\" startOffset=\"50%\" side=\"left\" fill=\"currentColor\" text-anchor=\"middle\">nsubj</textPath>\n",
       "    </text>\n",
       "    <path class=\"displacy-arrowhead\" d=\"M420,529.0 L412,517.0 428,517.0\" fill=\"currentColor\"/>\n",
       "</g>\n",
       "\n",
       "<g class=\"displacy-arrow\">\n",
       "    <path class=\"displacy-arc\" id=\"arrow-79278fab2d264e888f7c625568ebd295-0-3\" stroke-width=\"2px\" d=\"M245,527.0 C245,352.0 555.0,352.0 555.0,527.0\" fill=\"none\" stroke=\"currentColor\"/>\n",
       "    <text dy=\"1.25em\" style=\"font-size: 0.8em; letter-spacing: 1px\">\n",
       "        <textPath xlink:href=\"#arrow-79278fab2d264e888f7c625568ebd295-0-3\" class=\"displacy-label\" startOffset=\"50%\" side=\"left\" fill=\"currentColor\" text-anchor=\"middle\">ccomp</textPath>\n",
       "    </text>\n",
       "    <path class=\"displacy-arrowhead\" d=\"M555.0,529.0 L563.0,517.0 547.0,517.0\" fill=\"currentColor\"/>\n",
       "</g>\n",
       "\n",
       "<g class=\"displacy-arrow\">\n",
       "    <path class=\"displacy-arc\" id=\"arrow-79278fab2d264e888f7c625568ebd295-0-4\" stroke-width=\"2px\" d=\"M770,527.0 C770,352.0 1080.0,352.0 1080.0,527.0\" fill=\"none\" stroke=\"currentColor\"/>\n",
       "    <text dy=\"1.25em\" style=\"font-size: 0.8em; letter-spacing: 1px\">\n",
       "        <textPath xlink:href=\"#arrow-79278fab2d264e888f7c625568ebd295-0-4\" class=\"displacy-label\" startOffset=\"50%\" side=\"left\" fill=\"currentColor\" text-anchor=\"middle\">det</textPath>\n",
       "    </text>\n",
       "    <path class=\"displacy-arrowhead\" d=\"M770,529.0 L762,517.0 778,517.0\" fill=\"currentColor\"/>\n",
       "</g>\n",
       "\n",
       "<g class=\"displacy-arrow\">\n",
       "    <path class=\"displacy-arc\" id=\"arrow-79278fab2d264e888f7c625568ebd295-0-5\" stroke-width=\"2px\" d=\"M945,527.0 C945,439.5 1075.0,439.5 1075.0,527.0\" fill=\"none\" stroke=\"currentColor\"/>\n",
       "    <text dy=\"1.25em\" style=\"font-size: 0.8em; letter-spacing: 1px\">\n",
       "        <textPath xlink:href=\"#arrow-79278fab2d264e888f7c625568ebd295-0-5\" class=\"displacy-label\" startOffset=\"50%\" side=\"left\" fill=\"currentColor\" text-anchor=\"middle\">amod</textPath>\n",
       "    </text>\n",
       "    <path class=\"displacy-arrowhead\" d=\"M945,529.0 L937,517.0 953,517.0\" fill=\"currentColor\"/>\n",
       "</g>\n",
       "\n",
       "<g class=\"displacy-arrow\">\n",
       "    <path class=\"displacy-arc\" id=\"arrow-79278fab2d264e888f7c625568ebd295-0-6\" stroke-width=\"2px\" d=\"M595,527.0 C595,264.5 1085.0,264.5 1085.0,527.0\" fill=\"none\" stroke=\"currentColor\"/>\n",
       "    <text dy=\"1.25em\" style=\"font-size: 0.8em; letter-spacing: 1px\">\n",
       "        <textPath xlink:href=\"#arrow-79278fab2d264e888f7c625568ebd295-0-6\" class=\"displacy-label\" startOffset=\"50%\" side=\"left\" fill=\"currentColor\" text-anchor=\"middle\">dobj</textPath>\n",
       "    </text>\n",
       "    <path class=\"displacy-arrowhead\" d=\"M1085.0,529.0 L1093.0,517.0 1077.0,517.0\" fill=\"currentColor\"/>\n",
       "</g>\n",
       "\n",
       "<g class=\"displacy-arrow\">\n",
       "    <path class=\"displacy-arc\" id=\"arrow-79278fab2d264e888f7c625568ebd295-0-7\" stroke-width=\"2px\" d=\"M595,527.0 C595,177.0 1265.0,177.0 1265.0,527.0\" fill=\"none\" stroke=\"currentColor\"/>\n",
       "    <text dy=\"1.25em\" style=\"font-size: 0.8em; letter-spacing: 1px\">\n",
       "        <textPath xlink:href=\"#arrow-79278fab2d264e888f7c625568ebd295-0-7\" class=\"displacy-label\" startOffset=\"50%\" side=\"left\" fill=\"currentColor\" text-anchor=\"middle\">advmod</textPath>\n",
       "    </text>\n",
       "    <path class=\"displacy-arrowhead\" d=\"M1265.0,529.0 L1273.0,517.0 1257.0,517.0\" fill=\"currentColor\"/>\n",
       "</g>\n",
       "\n",
       "<g class=\"displacy-arrow\">\n",
       "    <path class=\"displacy-arc\" id=\"arrow-79278fab2d264e888f7c625568ebd295-0-8\" stroke-width=\"2px\" d=\"M595,527.0 C595,89.5 1445.0,89.5 1445.0,527.0\" fill=\"none\" stroke=\"currentColor\"/>\n",
       "    <text dy=\"1.25em\" style=\"font-size: 0.8em; letter-spacing: 1px\">\n",
       "        <textPath xlink:href=\"#arrow-79278fab2d264e888f7c625568ebd295-0-8\" class=\"displacy-label\" startOffset=\"50%\" side=\"left\" fill=\"currentColor\" text-anchor=\"middle\">prep</textPath>\n",
       "    </text>\n",
       "    <path class=\"displacy-arrowhead\" d=\"M1445.0,529.0 L1453.0,517.0 1437.0,517.0\" fill=\"currentColor\"/>\n",
       "</g>\n",
       "\n",
       "<g class=\"displacy-arrow\">\n",
       "    <path class=\"displacy-arc\" id=\"arrow-79278fab2d264e888f7c625568ebd295-0-9\" stroke-width=\"2px\" d=\"M1645,527.0 C1645,439.5 1775.0,439.5 1775.0,527.0\" fill=\"none\" stroke=\"currentColor\"/>\n",
       "    <text dy=\"1.25em\" style=\"font-size: 0.8em; letter-spacing: 1px\">\n",
       "        <textPath xlink:href=\"#arrow-79278fab2d264e888f7c625568ebd295-0-9\" class=\"displacy-label\" startOffset=\"50%\" side=\"left\" fill=\"currentColor\" text-anchor=\"middle\">det</textPath>\n",
       "    </text>\n",
       "    <path class=\"displacy-arrowhead\" d=\"M1645,529.0 L1637,517.0 1653,517.0\" fill=\"currentColor\"/>\n",
       "</g>\n",
       "\n",
       "<g class=\"displacy-arrow\">\n",
       "    <path class=\"displacy-arc\" id=\"arrow-79278fab2d264e888f7c625568ebd295-0-10\" stroke-width=\"2px\" d=\"M1470,527.0 C1470,352.0 1780.0,352.0 1780.0,527.0\" fill=\"none\" stroke=\"currentColor\"/>\n",
       "    <text dy=\"1.25em\" style=\"font-size: 0.8em; letter-spacing: 1px\">\n",
       "        <textPath xlink:href=\"#arrow-79278fab2d264e888f7c625568ebd295-0-10\" class=\"displacy-label\" startOffset=\"50%\" side=\"left\" fill=\"currentColor\" text-anchor=\"middle\">pobj</textPath>\n",
       "    </text>\n",
       "    <path class=\"displacy-arrowhead\" d=\"M1780.0,529.0 L1788.0,517.0 1772.0,517.0\" fill=\"currentColor\"/>\n",
       "</g>\n",
       "\n",
       "<g class=\"displacy-arrow\">\n",
       "    <path class=\"displacy-arc\" id=\"arrow-79278fab2d264e888f7c625568ebd295-0-11\" stroke-width=\"2px\" d=\"M1995,527.0 C1995,352.0 2305.0,352.0 2305.0,527.0\" fill=\"none\" stroke=\"currentColor\"/>\n",
       "    <text dy=\"1.25em\" style=\"font-size: 0.8em; letter-spacing: 1px\">\n",
       "        <textPath xlink:href=\"#arrow-79278fab2d264e888f7c625568ebd295-0-11\" class=\"displacy-label\" startOffset=\"50%\" side=\"left\" fill=\"currentColor\" text-anchor=\"middle\">nsubj</textPath>\n",
       "    </text>\n",
       "    <path class=\"displacy-arrowhead\" d=\"M1995,529.0 L1987,517.0 2003,517.0\" fill=\"currentColor\"/>\n",
       "</g>\n",
       "\n",
       "<g class=\"displacy-arrow\">\n",
       "    <path class=\"displacy-arc\" id=\"arrow-79278fab2d264e888f7c625568ebd295-0-12\" stroke-width=\"2px\" d=\"M2170,527.0 C2170,439.5 2300.0,439.5 2300.0,527.0\" fill=\"none\" stroke=\"currentColor\"/>\n",
       "    <text dy=\"1.25em\" style=\"font-size: 0.8em; letter-spacing: 1px\">\n",
       "        <textPath xlink:href=\"#arrow-79278fab2d264e888f7c625568ebd295-0-12\" class=\"displacy-label\" startOffset=\"50%\" side=\"left\" fill=\"currentColor\" text-anchor=\"middle\">aux</textPath>\n",
       "    </text>\n",
       "    <path class=\"displacy-arrowhead\" d=\"M2170,529.0 L2162,517.0 2178,517.0\" fill=\"currentColor\"/>\n",
       "</g>\n",
       "\n",
       "<g class=\"displacy-arrow\">\n",
       "    <path class=\"displacy-arc\" id=\"arrow-79278fab2d264e888f7c625568ebd295-0-13\" stroke-width=\"2px\" d=\"M2345,527.0 C2345,439.5 2475.0,439.5 2475.0,527.0\" fill=\"none\" stroke=\"currentColor\"/>\n",
       "    <text dy=\"1.25em\" style=\"font-size: 0.8em; letter-spacing: 1px\">\n",
       "        <textPath xlink:href=\"#arrow-79278fab2d264e888f7c625568ebd295-0-13\" class=\"displacy-label\" startOffset=\"50%\" side=\"left\" fill=\"currentColor\" text-anchor=\"middle\">dative</textPath>\n",
       "    </text>\n",
       "    <path class=\"displacy-arrowhead\" d=\"M2475.0,529.0 L2483.0,517.0 2467.0,517.0\" fill=\"currentColor\"/>\n",
       "</g>\n",
       "\n",
       "<g class=\"displacy-arrow\">\n",
       "    <path class=\"displacy-arc\" id=\"arrow-79278fab2d264e888f7c625568ebd295-0-14\" stroke-width=\"2px\" d=\"M2695,527.0 C2695,439.5 2825.0,439.5 2825.0,527.0\" fill=\"none\" stroke=\"currentColor\"/>\n",
       "    <text dy=\"1.25em\" style=\"font-size: 0.8em; letter-spacing: 1px\">\n",
       "        <textPath xlink:href=\"#arrow-79278fab2d264e888f7c625568ebd295-0-14\" class=\"displacy-label\" startOffset=\"50%\" side=\"left\" fill=\"currentColor\" text-anchor=\"middle\">compound</textPath>\n",
       "    </text>\n",
       "    <path class=\"displacy-arrowhead\" d=\"M2695,529.0 L2687,517.0 2703,517.0\" fill=\"currentColor\"/>\n",
       "</g>\n",
       "\n",
       "<g class=\"displacy-arrow\">\n",
       "    <path class=\"displacy-arc\" id=\"arrow-79278fab2d264e888f7c625568ebd295-0-15\" stroke-width=\"2px\" d=\"M2345,527.0 C2345,352.0 2830.0,352.0 2830.0,527.0\" fill=\"none\" stroke=\"currentColor\"/>\n",
       "    <text dy=\"1.25em\" style=\"font-size: 0.8em; letter-spacing: 1px\">\n",
       "        <textPath xlink:href=\"#arrow-79278fab2d264e888f7c625568ebd295-0-15\" class=\"displacy-label\" startOffset=\"50%\" side=\"left\" fill=\"currentColor\" text-anchor=\"middle\">dobj</textPath>\n",
       "    </text>\n",
       "    <path class=\"displacy-arrowhead\" d=\"M2830.0,529.0 L2838.0,517.0 2822.0,517.0\" fill=\"currentColor\"/>\n",
       "</g>\n",
       "\n",
       "<g class=\"displacy-arrow\">\n",
       "    <path class=\"displacy-arc\" id=\"arrow-79278fab2d264e888f7c625568ebd295-0-16\" stroke-width=\"2px\" d=\"M3045,527.0 C3045,264.5 3535.0,264.5 3535.0,527.0\" fill=\"none\" stroke=\"currentColor\"/>\n",
       "    <text dy=\"1.25em\" style=\"font-size: 0.8em; letter-spacing: 1px\">\n",
       "        <textPath xlink:href=\"#arrow-79278fab2d264e888f7c625568ebd295-0-16\" class=\"displacy-label\" startOffset=\"50%\" side=\"left\" fill=\"currentColor\" text-anchor=\"middle\">intj</textPath>\n",
       "    </text>\n",
       "    <path class=\"displacy-arrowhead\" d=\"M3045,529.0 L3037,517.0 3053,517.0\" fill=\"currentColor\"/>\n",
       "</g>\n",
       "\n",
       "<g class=\"displacy-arrow\">\n",
       "    <path class=\"displacy-arc\" id=\"arrow-79278fab2d264e888f7c625568ebd295-0-17\" stroke-width=\"2px\" d=\"M3220,527.0 C3220,352.0 3530.0,352.0 3530.0,527.0\" fill=\"none\" stroke=\"currentColor\"/>\n",
       "    <text dy=\"1.25em\" style=\"font-size: 0.8em; letter-spacing: 1px\">\n",
       "        <textPath xlink:href=\"#arrow-79278fab2d264e888f7c625568ebd295-0-17\" class=\"displacy-label\" startOffset=\"50%\" side=\"left\" fill=\"currentColor\" text-anchor=\"middle\">aux</textPath>\n",
       "    </text>\n",
       "    <path class=\"displacy-arrowhead\" d=\"M3220,529.0 L3212,517.0 3228,517.0\" fill=\"currentColor\"/>\n",
       "</g>\n",
       "\n",
       "<g class=\"displacy-arrow\">\n",
       "    <path class=\"displacy-arc\" id=\"arrow-79278fab2d264e888f7c625568ebd295-0-18\" stroke-width=\"2px\" d=\"M3395,527.0 C3395,439.5 3525.0,439.5 3525.0,527.0\" fill=\"none\" stroke=\"currentColor\"/>\n",
       "    <text dy=\"1.25em\" style=\"font-size: 0.8em; letter-spacing: 1px\">\n",
       "        <textPath xlink:href=\"#arrow-79278fab2d264e888f7c625568ebd295-0-18\" class=\"displacy-label\" startOffset=\"50%\" side=\"left\" fill=\"currentColor\" text-anchor=\"middle\">neg</textPath>\n",
       "    </text>\n",
       "    <path class=\"displacy-arrowhead\" d=\"M3395,529.0 L3387,517.0 3403,517.0\" fill=\"currentColor\"/>\n",
       "</g>\n",
       "\n",
       "<g class=\"displacy-arrow\">\n",
       "    <path class=\"displacy-arc\" id=\"arrow-79278fab2d264e888f7c625568ebd295-0-19\" stroke-width=\"2px\" d=\"M3745,527.0 C3745,439.5 3875.0,439.5 3875.0,527.0\" fill=\"none\" stroke=\"currentColor\"/>\n",
       "    <text dy=\"1.25em\" style=\"font-size: 0.8em; letter-spacing: 1px\">\n",
       "        <textPath xlink:href=\"#arrow-79278fab2d264e888f7c625568ebd295-0-19\" class=\"displacy-label\" startOffset=\"50%\" side=\"left\" fill=\"currentColor\" text-anchor=\"middle\">poss</textPath>\n",
       "    </text>\n",
       "    <path class=\"displacy-arrowhead\" d=\"M3745,529.0 L3737,517.0 3753,517.0\" fill=\"currentColor\"/>\n",
       "</g>\n",
       "\n",
       "<g class=\"displacy-arrow\">\n",
       "    <path class=\"displacy-arc\" id=\"arrow-79278fab2d264e888f7c625568ebd295-0-20\" stroke-width=\"2px\" d=\"M3570,527.0 C3570,352.0 3880.0,352.0 3880.0,527.0\" fill=\"none\" stroke=\"currentColor\"/>\n",
       "    <text dy=\"1.25em\" style=\"font-size: 0.8em; letter-spacing: 1px\">\n",
       "        <textPath xlink:href=\"#arrow-79278fab2d264e888f7c625568ebd295-0-20\" class=\"displacy-label\" startOffset=\"50%\" side=\"left\" fill=\"currentColor\" text-anchor=\"middle\">dobj</textPath>\n",
       "    </text>\n",
       "    <path class=\"displacy-arrowhead\" d=\"M3880.0,529.0 L3888.0,517.0 3872.0,517.0\" fill=\"currentColor\"/>\n",
       "</g>\n",
       "</svg></span>"
      ],
      "text/plain": [
       "<IPython.core.display.HTML object>"
      ]
     },
     "metadata": {},
     "output_type": "display_data"
    }
   ],
   "source": [
    "displacy.render(doc,style='dep')"
   ]
  },
  {
   "cell_type": "markdown",
   "id": "cd16dc25",
   "metadata": {},
   "source": [
    "**we will continue exploring this subject stayed tune***"
   ]
  },
  {
   "cell_type": "code",
   "execution_count": null,
   "id": "8abb5cd1",
   "metadata": {},
   "outputs": [],
   "source": []
  }
 ],
 "metadata": {
  "kernelspec": {
   "display_name": "pytorch-env",
   "language": "python",
   "name": "pytorch-env"
  },
  "language_info": {
   "codemirror_mode": {
    "name": "ipython",
    "version": 3
   },
   "file_extension": ".py",
   "mimetype": "text/x-python",
   "name": "python",
   "nbconvert_exporter": "python",
   "pygments_lexer": "ipython3",
   "version": "3.11.4"
  }
 },
 "nbformat": 4,
 "nbformat_minor": 5
}
