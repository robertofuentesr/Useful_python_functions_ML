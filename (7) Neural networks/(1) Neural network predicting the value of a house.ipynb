{
 "cells": [
  {
   "cell_type": "markdown",
   "id": "50a24b26",
   "metadata": {},
   "source": [
    "# Introduction\n",
    "\n",
    "We are going to use a neural network for predict the value of a house. Because I want the model to work fast, I will use SVD (singular value decomposition) at the beginning, this is not necessary, but because we use less variables the epochs will go very fast.\n",
    "+ we saw this formula in: Useful_python_functions_ML >>(6) Features relations>>(2) Singular value decomposition\n",
    "+ this is the link: https://github.com/robertofuentesr/Useful_python_functions_ML/tree/main/(6)%20Features%20relations "
   ]
  },
  {
   "cell_type": "code",
   "execution_count": 1,
   "id": "4f61eb06",
   "metadata": {},
   "outputs": [],
   "source": [
    "#pip install tensorflow"
   ]
  },
  {
   "cell_type": "code",
   "execution_count": 2,
   "id": "f66dd9fc",
   "metadata": {},
   "outputs": [],
   "source": [
    "#pip install --upgrade keras"
   ]
  },
  {
   "cell_type": "code",
   "execution_count": 3,
   "id": "b8ba6c22",
   "metadata": {},
   "outputs": [],
   "source": [
    "# import libraries\n",
    "import numpy as np\n",
    "import pandas as pd\n",
    "from sklearn.model_selection import train_test_split\n",
    "from sklearn.ensemble import RandomForestRegressor\n",
    "from sklearn.metrics import mean_absolute_error\n",
    "from sklearn.compose import ColumnTransformer\n",
    "from sklearn.impute import SimpleImputer\n",
    "from sklearn.pipeline import Pipeline\n",
    "from sklearn.preprocessing import OneHotEncoder\n",
    "from sklearn.model_selection import cross_val_score\n",
    "import matplotlib.pyplot as plt\n",
    "\n",
    "from sklearn.preprocessing import StandardScaler\n",
    "from sklearn.impute import KNNImputer\n",
    "# new library, we haven't used this one before in this repo\n",
    "from sklearn.preprocessing import TargetEncoder\n",
    "\n",
    "# Import Keras and other new libraries\n",
    "import tensorflow as tf\n",
    "from tensorflow import keras\n",
    "from tensorflow.keras import layers\n",
    "from sklearn.decomposition import TruncatedSVD\n",
    "from tensorflow.keras.models import Sequential\n",
    "from tensorflow.keras.layers import Dense"
   ]
  },
  {
   "cell_type": "code",
   "execution_count": 4,
   "id": "654b0e36",
   "metadata": {},
   "outputs": [],
   "source": [
    "# Read the data\n",
    "# This data you can find here: https://www.kaggle.com/c/home-data-for-ml-course/data\n",
    "\n",
    "X_full = pd.read_csv('train.csv', index_col='Id')\n",
    "\n",
    "# SalePrice is the target, if there is no target eliminate row associated with it\n",
    "X_full.dropna(axis=0, subset=['SalePrice'], inplace=True)\n",
    "y = X_full.SalePrice\n",
    "X = X_full.copy()\n",
    "X.drop(['SalePrice'], axis=1, inplace=True)\n",
    "\n"
   ]
  },
  {
   "cell_type": "code",
   "execution_count": 5,
   "id": "a6b6cbde",
   "metadata": {},
   "outputs": [],
   "source": [
    "# we saw this formula in: Useful_python_functions_ML >>(6) Features relations>>(2) Singular value decomposition\n",
    "# this is the link: https://github.com/robertofuentesr/Useful_python_functions_ML/tree/main/(6)%20Features%20relations \n",
    "def transforming_svd(X,y):\n",
    "    X, X_test, y, y_test = train_test_split(X, y, train_size=0.8, test_size=0.2,\n",
    "                                                random_state=0)  \n",
    "    # for SVD it is best to scale all numerical values.\n",
    "    \n",
    "    numerical_col = [col for col in X.columns if str(X[col].dtypes)!='object' ]\n",
    "    categorical_col = [col for col in X.columns if str(X[col].dtypes)=='object' ]\n",
    "    \n",
    "\n",
    "    numerical_transformer = Pipeline(\n",
    "    steps=[(\"scaler\", StandardScaler()), (\"imputer\", KNNImputer(n_neighbors=3))\n",
    "      ]\n",
    "        )\n",
    "    categorical_transformer =  Pipeline(steps=[\n",
    "        ('imputer', SimpleImputer(missing_values=pd.NA, strategy='most_frequent')),\n",
    "        ('onehot', OneHotEncoder(handle_unknown='ignore'))\n",
    "    ])\n",
    "\n",
    "    preprocessor = ColumnTransformer(transformers=\n",
    "        [(\"numerical_transformer\", numerical_transformer, numerical_col),\n",
    "        (\"categorical_transformer\", categorical_transformer, categorical_col)],remainder='passthrough')\n",
    "\n",
    "\n",
    "    # Create principal components\n",
    "    svd = TruncatedSVD(n_components=len(X.columns), n_iter=7, random_state=42)\n",
    "    \n",
    "    # Bundle preprocessing and modeling code in a pipeline\n",
    "    pipe = Pipeline(steps=[('preprocessor', preprocessor),\n",
    "                          ('model', svd)\n",
    "                         ])\n",
    "\n",
    "    \n",
    "    X_svd = pipe.fit_transform(X)\n",
    "    \n",
    "    X_test_svd = pipe.transform(X_test)\n",
    "    \n",
    "    return  X_svd,X_test_svd,y, y_test"
   ]
  },
  {
   "cell_type": "code",
   "execution_count": 6,
   "id": "b5883c56",
   "metadata": {},
   "outputs": [],
   "source": [
    "X_svd,X_test_svd,y, y_test = transforming_svd(X,y)"
   ]
  },
  {
   "cell_type": "code",
   "execution_count": 7,
   "id": "0f0b0072",
   "metadata": {},
   "outputs": [],
   "source": [
    "# Convert to dataframe\n",
    "def convert_svd_df(X_svd):\n",
    "    component_names = [f\"svd{i+1}\" for i in range(X_svd.shape[1])]\n",
    "    X_svd = pd.DataFrame(X_svd, columns=component_names)\n",
    "    return X_svd\n",
    "\n",
    "X_svd = convert_svd_df(X_svd)\n",
    "X_test_svd = convert_svd_df(X_test_svd)"
   ]
  },
  {
   "cell_type": "code",
   "execution_count": 8,
   "id": "81fbf567",
   "metadata": {},
   "outputs": [],
   "source": [
    "# we saw this in a previous notebook this number get the 80% variance of the data and work fairly well\n",
    "number_components = 31\n",
    "X_svd = X_svd[X_svd.columns[0:number_components]]\n",
    "X_test_svd = X_test_svd[X_test_svd.columns[0:number_components]]"
   ]
  },
  {
   "cell_type": "code",
   "execution_count": 9,
   "id": "f75f297f",
   "metadata": {},
   "outputs": [
    {
     "data": {
      "text/html": [
       "<div>\n",
       "<style scoped>\n",
       "    .dataframe tbody tr th:only-of-type {\n",
       "        vertical-align: middle;\n",
       "    }\n",
       "\n",
       "    .dataframe tbody tr th {\n",
       "        vertical-align: top;\n",
       "    }\n",
       "\n",
       "    .dataframe thead th {\n",
       "        text-align: right;\n",
       "    }\n",
       "</style>\n",
       "<table border=\"1\" class=\"dataframe\">\n",
       "  <thead>\n",
       "    <tr style=\"text-align: right;\">\n",
       "      <th></th>\n",
       "      <th>svd1</th>\n",
       "      <th>svd2</th>\n",
       "      <th>svd3</th>\n",
       "      <th>svd4</th>\n",
       "      <th>svd5</th>\n",
       "      <th>svd6</th>\n",
       "      <th>svd7</th>\n",
       "      <th>svd8</th>\n",
       "      <th>svd9</th>\n",
       "      <th>svd10</th>\n",
       "      <th>...</th>\n",
       "      <th>svd22</th>\n",
       "      <th>svd23</th>\n",
       "      <th>svd24</th>\n",
       "      <th>svd25</th>\n",
       "      <th>svd26</th>\n",
       "      <th>svd27</th>\n",
       "      <th>svd28</th>\n",
       "      <th>svd29</th>\n",
       "      <th>svd30</th>\n",
       "      <th>svd31</th>\n",
       "    </tr>\n",
       "  </thead>\n",
       "  <tbody>\n",
       "    <tr>\n",
       "      <th>0</th>\n",
       "      <td>5.178012</td>\n",
       "      <td>4.994241</td>\n",
       "      <td>-0.477955</td>\n",
       "      <td>1.007098</td>\n",
       "      <td>3.695736</td>\n",
       "      <td>-0.394786</td>\n",
       "      <td>-0.457406</td>\n",
       "      <td>-3.141178</td>\n",
       "      <td>-0.100906</td>\n",
       "      <td>0.954180</td>\n",
       "      <td>...</td>\n",
       "      <td>0.903267</td>\n",
       "      <td>1.687794</td>\n",
       "      <td>-0.357427</td>\n",
       "      <td>0.087701</td>\n",
       "      <td>-0.013855</td>\n",
       "      <td>0.821910</td>\n",
       "      <td>0.108754</td>\n",
       "      <td>-1.277870</td>\n",
       "      <td>0.408873</td>\n",
       "      <td>0.077150</td>\n",
       "    </tr>\n",
       "    <tr>\n",
       "      <th>1</th>\n",
       "      <td>5.440950</td>\n",
       "      <td>-3.762135</td>\n",
       "      <td>-0.679413</td>\n",
       "      <td>-0.660386</td>\n",
       "      <td>1.928928</td>\n",
       "      <td>-0.073712</td>\n",
       "      <td>-0.857140</td>\n",
       "      <td>-0.276540</td>\n",
       "      <td>-0.444606</td>\n",
       "      <td>0.104564</td>\n",
       "      <td>...</td>\n",
       "      <td>0.133990</td>\n",
       "      <td>0.185997</td>\n",
       "      <td>0.887046</td>\n",
       "      <td>-0.002589</td>\n",
       "      <td>-0.076377</td>\n",
       "      <td>-0.068738</td>\n",
       "      <td>0.409405</td>\n",
       "      <td>-0.056461</td>\n",
       "      <td>-0.265974</td>\n",
       "      <td>0.294951</td>\n",
       "    </tr>\n",
       "    <tr>\n",
       "      <th>2</th>\n",
       "      <td>5.454435</td>\n",
       "      <td>-2.945801</td>\n",
       "      <td>-1.658974</td>\n",
       "      <td>0.741066</td>\n",
       "      <td>-0.372962</td>\n",
       "      <td>-0.759533</td>\n",
       "      <td>1.816474</td>\n",
       "      <td>-0.083871</td>\n",
       "      <td>-0.946973</td>\n",
       "      <td>0.359699</td>\n",
       "      <td>...</td>\n",
       "      <td>0.739886</td>\n",
       "      <td>0.313619</td>\n",
       "      <td>0.227438</td>\n",
       "      <td>0.390536</td>\n",
       "      <td>0.260251</td>\n",
       "      <td>-0.258716</td>\n",
       "      <td>0.227238</td>\n",
       "      <td>1.311141</td>\n",
       "      <td>0.231653</td>\n",
       "      <td>0.557195</td>\n",
       "    </tr>\n",
       "    <tr>\n",
       "      <th>3</th>\n",
       "      <td>5.474870</td>\n",
       "      <td>4.305689</td>\n",
       "      <td>-2.535842</td>\n",
       "      <td>0.919317</td>\n",
       "      <td>-0.082051</td>\n",
       "      <td>0.526221</td>\n",
       "      <td>0.585428</td>\n",
       "      <td>-0.366155</td>\n",
       "      <td>-0.351103</td>\n",
       "      <td>-0.144899</td>\n",
       "      <td>...</td>\n",
       "      <td>-0.464379</td>\n",
       "      <td>-0.759385</td>\n",
       "      <td>0.176990</td>\n",
       "      <td>-0.212306</td>\n",
       "      <td>-0.796845</td>\n",
       "      <td>-0.633266</td>\n",
       "      <td>0.286464</td>\n",
       "      <td>0.424999</td>\n",
       "      <td>0.203175</td>\n",
       "      <td>0.447677</td>\n",
       "    </tr>\n",
       "    <tr>\n",
       "      <th>4</th>\n",
       "      <td>5.654782</td>\n",
       "      <td>4.019248</td>\n",
       "      <td>-0.950836</td>\n",
       "      <td>-0.123134</td>\n",
       "      <td>2.930008</td>\n",
       "      <td>-1.082044</td>\n",
       "      <td>-0.661603</td>\n",
       "      <td>1.635362</td>\n",
       "      <td>0.072457</td>\n",
       "      <td>-0.456230</td>\n",
       "      <td>...</td>\n",
       "      <td>-1.981239</td>\n",
       "      <td>-0.192027</td>\n",
       "      <td>-2.237860</td>\n",
       "      <td>0.636678</td>\n",
       "      <td>-0.268383</td>\n",
       "      <td>0.225547</td>\n",
       "      <td>-0.913481</td>\n",
       "      <td>0.632468</td>\n",
       "      <td>0.470152</td>\n",
       "      <td>0.389773</td>\n",
       "    </tr>\n",
       "  </tbody>\n",
       "</table>\n",
       "<p>5 rows × 31 columns</p>\n",
       "</div>"
      ],
      "text/plain": [
       "       svd1      svd2      svd3      svd4      svd5      svd6      svd7  \\\n",
       "0  5.178012  4.994241 -0.477955  1.007098  3.695736 -0.394786 -0.457406   \n",
       "1  5.440950 -3.762135 -0.679413 -0.660386  1.928928 -0.073712 -0.857140   \n",
       "2  5.454435 -2.945801 -1.658974  0.741066 -0.372962 -0.759533  1.816474   \n",
       "3  5.474870  4.305689 -2.535842  0.919317 -0.082051  0.526221  0.585428   \n",
       "4  5.654782  4.019248 -0.950836 -0.123134  2.930008 -1.082044 -0.661603   \n",
       "\n",
       "       svd8      svd9     svd10  ...     svd22     svd23     svd24     svd25  \\\n",
       "0 -3.141178 -0.100906  0.954180  ...  0.903267  1.687794 -0.357427  0.087701   \n",
       "1 -0.276540 -0.444606  0.104564  ...  0.133990  0.185997  0.887046 -0.002589   \n",
       "2 -0.083871 -0.946973  0.359699  ...  0.739886  0.313619  0.227438  0.390536   \n",
       "3 -0.366155 -0.351103 -0.144899  ... -0.464379 -0.759385  0.176990 -0.212306   \n",
       "4  1.635362  0.072457 -0.456230  ... -1.981239 -0.192027 -2.237860  0.636678   \n",
       "\n",
       "      svd26     svd27     svd28     svd29     svd30     svd31  \n",
       "0 -0.013855  0.821910  0.108754 -1.277870  0.408873  0.077150  \n",
       "1 -0.076377 -0.068738  0.409405 -0.056461 -0.265974  0.294951  \n",
       "2  0.260251 -0.258716  0.227238  1.311141  0.231653  0.557195  \n",
       "3 -0.796845 -0.633266  0.286464  0.424999  0.203175  0.447677  \n",
       "4 -0.268383  0.225547 -0.913481  0.632468  0.470152  0.389773  \n",
       "\n",
       "[5 rows x 31 columns]"
      ]
     },
     "execution_count": 9,
     "metadata": {},
     "output_type": "execute_result"
    }
   ],
   "source": [
    "X_svd.head()"
   ]
  },
  {
   "cell_type": "code",
   "execution_count": 10,
   "id": "b8ec507c",
   "metadata": {},
   "outputs": [
    {
     "name": "stderr",
     "output_type": "stream",
     "text": [
      "C:\\Users\\Rober\\anaconda3\\Lib\\site-packages\\keras\\src\\layers\\core\\dense.py:85: UserWarning: Do not pass an `input_shape`/`input_dim` argument to a layer. When using Sequential models, prefer using an `Input(shape)` object as the first layer in the model instead.\n",
      "  super().__init__(activity_regularizer=activity_regularizer, **kwargs)\n"
     ]
    },
    {
     "name": "stdout",
     "output_type": "stream",
     "text": [
      "\u001b[1m10/10\u001b[0m \u001b[32m━━━━━━━━━━━━━━━━━━━━\u001b[0m\u001b[37m\u001b[0m \u001b[1m0s\u001b[0m 1ms/step - loss: 18903.5176 \n",
      "20778.15234375\n",
      "500\n"
     ]
    }
   ],
   "source": [
    "#X_svd = np.asarray(X_svd).astype('float32')\n",
    "#X_test = np.asarray(X_test).astype('float32')\n",
    "model = Sequential()\n",
    "callback  = keras.callbacks.EarlyStopping(monitor='loss',\n",
    "                                              patience=60)\n",
    "# input_shape=(number_components,) this is the first input layer\n",
    "# the 500 nodes is the first hidden layer\n",
    "model.add(Dense(200, input_shape=(len(X_svd.columns),), kernel_initializer='normal', activation='relu'))\n",
    "model.add(Dense(300, kernel_initializer='normal'))\n",
    "model.add(Dense(1, kernel_initializer='normal'))\n",
    "# Compile model\n",
    "model.compile(loss='mean_absolute_error', optimizer='adam')\n",
    "\n",
    "history = model.fit(X_svd, y, epochs=500, batch_size=256,callbacks=[callback],verbose=0)\n",
    "\n",
    "# Evaluate the model on the test set\n",
    "print(model.evaluate(X_test_svd, y_test))\n",
    "print(len(history.history['loss']) ) "
   ]
  },
  {
   "cell_type": "code",
   "execution_count": 11,
   "id": "6a36fd0d",
   "metadata": {},
   "outputs": [
    {
     "data": {
      "text/html": [
       "<pre style=\"white-space:pre;overflow-x:auto;line-height:normal;font-family:Menlo,'DejaVu Sans Mono',consolas,'Courier New',monospace\"><span style=\"font-weight: bold\">Model: \"sequential\"</span>\n",
       "</pre>\n"
      ],
      "text/plain": [
       "\u001b[1mModel: \"sequential\"\u001b[0m\n"
      ]
     },
     "metadata": {},
     "output_type": "display_data"
    },
    {
     "data": {
      "text/html": [
       "<pre style=\"white-space:pre;overflow-x:auto;line-height:normal;font-family:Menlo,'DejaVu Sans Mono',consolas,'Courier New',monospace\">┏━━━━━━━━━━━━━━━━━━━━━━━━━━━━━━━━━━━━┳━━━━━━━━━━━━━━━━━━━━━━━━━━━━━━━┳━━━━━━━━━━━━━┓\n",
       "┃<span style=\"font-weight: bold\"> Layer (type)                       </span>┃<span style=\"font-weight: bold\"> Output Shape                  </span>┃<span style=\"font-weight: bold\">     Param # </span>┃\n",
       "┡━━━━━━━━━━━━━━━━━━━━━━━━━━━━━━━━━━━━╇━━━━━━━━━━━━━━━━━━━━━━━━━━━━━━━╇━━━━━━━━━━━━━┩\n",
       "│ dense (<span style=\"color: #0087ff; text-decoration-color: #0087ff\">Dense</span>)                      │ (<span style=\"color: #00d7ff; text-decoration-color: #00d7ff\">None</span>, <span style=\"color: #00af00; text-decoration-color: #00af00\">200</span>)                   │       <span style=\"color: #00af00; text-decoration-color: #00af00\">6,400</span> │\n",
       "├────────────────────────────────────┼───────────────────────────────┼─────────────┤\n",
       "│ dense_1 (<span style=\"color: #0087ff; text-decoration-color: #0087ff\">Dense</span>)                    │ (<span style=\"color: #00d7ff; text-decoration-color: #00d7ff\">None</span>, <span style=\"color: #00af00; text-decoration-color: #00af00\">300</span>)                   │      <span style=\"color: #00af00; text-decoration-color: #00af00\">60,300</span> │\n",
       "├────────────────────────────────────┼───────────────────────────────┼─────────────┤\n",
       "│ dense_2 (<span style=\"color: #0087ff; text-decoration-color: #0087ff\">Dense</span>)                    │ (<span style=\"color: #00d7ff; text-decoration-color: #00d7ff\">None</span>, <span style=\"color: #00af00; text-decoration-color: #00af00\">1</span>)                     │         <span style=\"color: #00af00; text-decoration-color: #00af00\">301</span> │\n",
       "└────────────────────────────────────┴───────────────────────────────┴─────────────┘\n",
       "</pre>\n"
      ],
      "text/plain": [
       "┏━━━━━━━━━━━━━━━━━━━━━━━━━━━━━━━━━━━━┳━━━━━━━━━━━━━━━━━━━━━━━━━━━━━━━┳━━━━━━━━━━━━━┓\n",
       "┃\u001b[1m \u001b[0m\u001b[1mLayer (type)                      \u001b[0m\u001b[1m \u001b[0m┃\u001b[1m \u001b[0m\u001b[1mOutput Shape                 \u001b[0m\u001b[1m \u001b[0m┃\u001b[1m \u001b[0m\u001b[1m    Param #\u001b[0m\u001b[1m \u001b[0m┃\n",
       "┡━━━━━━━━━━━━━━━━━━━━━━━━━━━━━━━━━━━━╇━━━━━━━━━━━━━━━━━━━━━━━━━━━━━━━╇━━━━━━━━━━━━━┩\n",
       "│ dense (\u001b[38;5;33mDense\u001b[0m)                      │ (\u001b[38;5;45mNone\u001b[0m, \u001b[38;5;34m200\u001b[0m)                   │       \u001b[38;5;34m6,400\u001b[0m │\n",
       "├────────────────────────────────────┼───────────────────────────────┼─────────────┤\n",
       "│ dense_1 (\u001b[38;5;33mDense\u001b[0m)                    │ (\u001b[38;5;45mNone\u001b[0m, \u001b[38;5;34m300\u001b[0m)                   │      \u001b[38;5;34m60,300\u001b[0m │\n",
       "├────────────────────────────────────┼───────────────────────────────┼─────────────┤\n",
       "│ dense_2 (\u001b[38;5;33mDense\u001b[0m)                    │ (\u001b[38;5;45mNone\u001b[0m, \u001b[38;5;34m1\u001b[0m)                     │         \u001b[38;5;34m301\u001b[0m │\n",
       "└────────────────────────────────────┴───────────────────────────────┴─────────────┘\n"
      ]
     },
     "metadata": {},
     "output_type": "display_data"
    },
    {
     "data": {
      "text/html": [
       "<pre style=\"white-space:pre;overflow-x:auto;line-height:normal;font-family:Menlo,'DejaVu Sans Mono',consolas,'Courier New',monospace\"><span style=\"font-weight: bold\"> Total params: </span><span style=\"color: #00af00; text-decoration-color: #00af00\">201,005</span> (785.18 KB)\n",
       "</pre>\n"
      ],
      "text/plain": [
       "\u001b[1m Total params: \u001b[0m\u001b[38;5;34m201,005\u001b[0m (785.18 KB)\n"
      ]
     },
     "metadata": {},
     "output_type": "display_data"
    },
    {
     "data": {
      "text/html": [
       "<pre style=\"white-space:pre;overflow-x:auto;line-height:normal;font-family:Menlo,'DejaVu Sans Mono',consolas,'Courier New',monospace\"><span style=\"font-weight: bold\"> Trainable params: </span><span style=\"color: #00af00; text-decoration-color: #00af00\">67,001</span> (261.72 KB)\n",
       "</pre>\n"
      ],
      "text/plain": [
       "\u001b[1m Trainable params: \u001b[0m\u001b[38;5;34m67,001\u001b[0m (261.72 KB)\n"
      ]
     },
     "metadata": {},
     "output_type": "display_data"
    },
    {
     "data": {
      "text/html": [
       "<pre style=\"white-space:pre;overflow-x:auto;line-height:normal;font-family:Menlo,'DejaVu Sans Mono',consolas,'Courier New',monospace\"><span style=\"font-weight: bold\"> Non-trainable params: </span><span style=\"color: #00af00; text-decoration-color: #00af00\">0</span> (0.00 B)\n",
       "</pre>\n"
      ],
      "text/plain": [
       "\u001b[1m Non-trainable params: \u001b[0m\u001b[38;5;34m0\u001b[0m (0.00 B)\n"
      ]
     },
     "metadata": {},
     "output_type": "display_data"
    },
    {
     "data": {
      "text/html": [
       "<pre style=\"white-space:pre;overflow-x:auto;line-height:normal;font-family:Menlo,'DejaVu Sans Mono',consolas,'Courier New',monospace\"><span style=\"font-weight: bold\"> Optimizer params: </span><span style=\"color: #00af00; text-decoration-color: #00af00\">134,004</span> (523.46 KB)\n",
       "</pre>\n"
      ],
      "text/plain": [
       "\u001b[1m Optimizer params: \u001b[0m\u001b[38;5;34m134,004\u001b[0m (523.46 KB)\n"
      ]
     },
     "metadata": {},
     "output_type": "display_data"
    }
   ],
   "source": [
    "model.summary()"
   ]
  },
  {
   "cell_type": "code",
   "execution_count": 12,
   "id": "6130cd0d",
   "metadata": {},
   "outputs": [
    {
     "name": "stdout",
     "output_type": "stream",
     "text": [
      "\u001b[1m10/10\u001b[0m \u001b[32m━━━━━━━━━━━━━━━━━━━━\u001b[0m\u001b[37m\u001b[0m \u001b[1m0s\u001b[0m 948us/step - loss: 18903.5176\n"
     ]
    },
    {
     "data": {
      "text/plain": [
       "20778.15234375"
      ]
     },
     "execution_count": 12,
     "metadata": {},
     "output_type": "execute_result"
    }
   ],
   "source": [
    "model.evaluate(X_test_svd, y_test)"
   ]
  },
  {
   "cell_type": "markdown",
   "id": "747779b3",
   "metadata": {},
   "source": [
    "We didn't improve our predictions. Maybe this is not the best model to fit in a small dataset."
   ]
  },
  {
   "cell_type": "code",
   "execution_count": null,
   "id": "9c5a066e",
   "metadata": {},
   "outputs": [],
   "source": []
  }
 ],
 "metadata": {
  "kernelspec": {
   "display_name": "Python 3 (ipykernel)",
   "language": "python",
   "name": "python3"
  },
  "language_info": {
   "codemirror_mode": {
    "name": "ipython",
    "version": 3
   },
   "file_extension": ".py",
   "mimetype": "text/x-python",
   "name": "python",
   "nbconvert_exporter": "python",
   "pygments_lexer": "ipython3",
   "version": "3.11.4"
  }
 },
 "nbformat": 4,
 "nbformat_minor": 5
}
