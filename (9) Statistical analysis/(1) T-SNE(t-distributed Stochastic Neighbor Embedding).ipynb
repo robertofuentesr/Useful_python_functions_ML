{
 "cells": [
  {
   "cell_type": "markdown",
   "id": "de0cbdb7",
   "metadata": {},
   "source": [
    "# Purporse\n",
    "\n",
    "We are going to show how to reduce the number of dimension in order to plot them in a 2D dimention. The best article that I could find that explain t- sne is this: https://distill.pub/2016/misread-tsne/\n",
    "\n",
    "So we are going to add some code and analyse some of the data we have already work through here.\n",
    "\n",
    "Because github doen't show interactive graph we are going to export these graph, the first blocks of code are for doing exactly that."
   ]
  },
  {
   "cell_type": "code",
   "execution_count": 1,
   "id": "3f4774c2",
   "metadata": {},
   "outputs": [],
   "source": [
    "#conda install -c conda-forge python-kaleido"
   ]
  },
  {
   "cell_type": "code",
   "execution_count": 2,
   "id": "88ad75a2",
   "metadata": {},
   "outputs": [],
   "source": [
    "import plotly.io as pio\n",
    "\n",
    "pio.renderers\n",
    "pio.renderers.default = \"iframe\"\n",
    "# pio.renderers.default = \"svg\" #not working :(  we will look the solution later :) \n",
    "\n",
    "import os\n",
    "\n",
    "if not os.path.exists(\"images_tsne_(1)\"):\n",
    "    os.mkdir(\"images_tsne_(1)\")"
   ]
  },
  {
   "cell_type": "code",
   "execution_count": 3,
   "id": "2fcfc4d9",
   "metadata": {},
   "outputs": [],
   "source": [
    "images=str(\"images_tsne_(1)\")"
   ]
  },
  {
   "cell_type": "code",
   "execution_count": 4,
   "id": "c8a7f546",
   "metadata": {},
   "outputs": [],
   "source": [
    "# import libraries\n",
    "import numpy as np\n",
    "import pandas as pd\n",
    "from sklearn.ensemble import RandomForestRegressor\n",
    "from sklearn.compose import ColumnTransformer\n",
    "from sklearn.impute import SimpleImputer\n",
    "from sklearn.pipeline import Pipeline\n",
    "from sklearn.preprocessing import OneHotEncoder\n",
    "import matplotlib.pyplot as plt\n",
    "\n",
    "from sklearn.preprocessing import StandardScaler\n",
    "from sklearn.impute import KNNImputer\n",
    "# new library, we haven't used this one before in this repo\n",
    "from sklearn.preprocessing import TargetEncoder\n",
    "from sklearn.manifold import TSNE\n",
    "import plotly.express as px\n"
   ]
  },
  {
   "cell_type": "code",
   "execution_count": 5,
   "id": "ff548afc",
   "metadata": {},
   "outputs": [],
   "source": [
    "# Read the data\n",
    "# This data you can find here: https://www.kaggle.com/c/home-data-for-ml-course/data\n",
    "\n",
    "X_full = pd.read_csv('train.csv', index_col='Id')\n",
    "\n",
    "# SalePrice is the target, if there is no target eliminate row associated with it\n",
    "X_full.dropna(axis=0, subset=['SalePrice'], inplace=True)\n",
    "prices = X_full.SalePrice\n",
    "X = X_full.copy()\n",
    "X.drop(['SalePrice'], axis=1, inplace=True)"
   ]
  },
  {
   "cell_type": "code",
   "execution_count": 6,
   "id": "9ca7fe00",
   "metadata": {},
   "outputs": [
    {
     "data": {
      "text/plain": [
       "(1460, 79)"
      ]
     },
     "execution_count": 6,
     "metadata": {},
     "output_type": "execute_result"
    }
   ],
   "source": [
    "X.shape"
   ]
  },
  {
   "cell_type": "code",
   "execution_count": 7,
   "id": "078247cc",
   "metadata": {},
   "outputs": [],
   "source": [
    "def transforming_tsne(X,y,perplexity=30,n_iter=1000,n_components=2):\n",
    "    \n",
    "    # for SVD it is best to scale all numerical values.\n",
    "    \n",
    "    numerical_col = [col for col in X.columns if str(X[col].dtypes)!='object' ]\n",
    "    categorical_col = [col for col in X.columns if str(X[col].dtypes)=='object' ]\n",
    "    \n",
    "\n",
    "    numerical_transformer = Pipeline(\n",
    "    steps=[(\"scaler\", StandardScaler()), (\"imputer\", KNNImputer(n_neighbors=3))\n",
    "      ]\n",
    "        )\n",
    "    \n",
    "    categorical_transformer =  Pipeline(steps=[\n",
    "        #('imputer', SimpleImputer(missing_values=pd.NA, strategy='most_frequent')),\n",
    "        ('encoder',TargetEncoder(smooth=\"auto\",target_type='continuous'))\n",
    "    ])\n",
    "\n",
    "    preprocessor = ColumnTransformer(transformers=\n",
    "        [(\"numerical_transformer\", numerical_transformer, numerical_col),\n",
    "        (\"categorical_transformer\", categorical_transformer, categorical_col)],remainder='passthrough')\n",
    "\n",
    "    tsne = TSNE(n_components=n_components,perplexity=perplexity, random_state=42,learning_rate=1000,n_iter=n_iter)\n",
    "    # Bundle preprocessing and modeling code in a pipeline\n",
    "    pipe = Pipeline(steps=[('preprocessor', preprocessor),\n",
    "                           ('tsne',tsne)\n",
    "                         ])\n",
    "\n",
    "    # we need y because of TargetEncoder\n",
    "    \n",
    "    X_tsne = pipe.fit_transform(X,y)\n",
    "    \n",
    "  \n",
    "    return  X_tsne,pipe['tsne']"
   ]
  },
  {
   "cell_type": "code",
   "execution_count": 8,
   "id": "9ef934b8",
   "metadata": {},
   "outputs": [
    {
     "name": "stdout",
     "output_type": "stream",
     "text": [
      " divergence: 1.065765619277954 for perplexity of :5\n"
     ]
    },
    {
     "data": {
      "text/html": [
       "<iframe\n",
       "    scrolling=\"no\"\n",
       "    width=\"100%\"\n",
       "    height=\"545px\"\n",
       "    src=\"iframe_figures/figure_8.html\"\n",
       "    frameborder=\"0\"\n",
       "    allowfullscreen\n",
       "></iframe>\n"
      ]
     },
     "metadata": {},
     "output_type": "display_data"
    },
    {
     "name": "stdout",
     "output_type": "stream",
     "text": [
      " divergence: 1.0906628370285034 for perplexity of :20\n"
     ]
    },
    {
     "data": {
      "text/html": [
       "<iframe\n",
       "    scrolling=\"no\"\n",
       "    width=\"100%\"\n",
       "    height=\"545px\"\n",
       "    src=\"iframe_figures/figure_8.html\"\n",
       "    frameborder=\"0\"\n",
       "    allowfullscreen\n",
       "></iframe>\n"
      ]
     },
     "metadata": {},
     "output_type": "display_data"
    },
    {
     "name": "stdout",
     "output_type": "stream",
     "text": [
      " divergence: 1.0545403957366943 for perplexity of :30\n"
     ]
    },
    {
     "data": {
      "text/html": [
       "<iframe\n",
       "    scrolling=\"no\"\n",
       "    width=\"100%\"\n",
       "    height=\"545px\"\n",
       "    src=\"iframe_figures/figure_8.html\"\n",
       "    frameborder=\"0\"\n",
       "    allowfullscreen\n",
       "></iframe>\n"
      ]
     },
     "metadata": {},
     "output_type": "display_data"
    },
    {
     "name": "stdout",
     "output_type": "stream",
     "text": [
      " divergence: 1.003836989402771 for perplexity of :40\n"
     ]
    },
    {
     "data": {
      "text/html": [
       "<iframe\n",
       "    scrolling=\"no\"\n",
       "    width=\"100%\"\n",
       "    height=\"545px\"\n",
       "    src=\"iframe_figures/figure_8.html\"\n",
       "    frameborder=\"0\"\n",
       "    allowfullscreen\n",
       "></iframe>\n"
      ]
     },
     "metadata": {},
     "output_type": "display_data"
    },
    {
     "name": "stdout",
     "output_type": "stream",
     "text": [
      " divergence: 0.9532923698425293 for perplexity of :50\n"
     ]
    },
    {
     "data": {
      "text/html": [
       "<iframe\n",
       "    scrolling=\"no\"\n",
       "    width=\"100%\"\n",
       "    height=\"545px\"\n",
       "    src=\"iframe_figures/figure_8.html\"\n",
       "    frameborder=\"0\"\n",
       "    allowfullscreen\n",
       "></iframe>\n"
      ]
     },
     "metadata": {},
     "output_type": "display_data"
    },
    {
     "name": "stdout",
     "output_type": "stream",
     "text": [
      " divergence: 0.7986128330230713 for perplexity of :100\n"
     ]
    },
    {
     "data": {
      "text/html": [
       "<iframe\n",
       "    scrolling=\"no\"\n",
       "    width=\"100%\"\n",
       "    height=\"545px\"\n",
       "    src=\"iframe_figures/figure_8.html\"\n",
       "    frameborder=\"0\"\n",
       "    allowfullscreen\n",
       "></iframe>\n"
      ]
     },
     "metadata": {},
     "output_type": "display_data"
    }
   ],
   "source": [
    "perplexities = [5,20,30,40,50,100] \n",
    "divergencies = []\n",
    "for perplexity in perplexities: \n",
    "    tsne_X,tsne = transforming_tsne(X,prices,perplexity=perplexity)\n",
    "    divergencies.append(tsne.kl_divergence_)\n",
    "    print(f\" divergence: {tsne.kl_divergence_} for perplexity of :{perplexity}\")\n",
    "    fig = px.scatter(x=tsne_X[:, 0], y=tsne_X[:, 1], color=prices)\n",
    "    fig.update_layout(\n",
    "        title=\"t-SNE house price visualization\",\n",
    "        xaxis_title=\"First t-SNE\",\n",
    "        yaxis_title=\"Second t-SNE\",\n",
    "    )\n",
    "    fig.show()\n",
    "    fig.write_html(f\"{images}/tsne_perplexity_{perplexity}.html\")"
   ]
  },
  {
   "cell_type": "code",
   "execution_count": 10,
   "id": "7829c853",
   "metadata": {},
   "outputs": [
    {
     "data": {
      "text/html": [
       "<iframe\n",
       "    scrolling=\"no\"\n",
       "    width=\"100%\"\n",
       "    height=\"545px\"\n",
       "    src=\"iframe_figures/figure_10.html\"\n",
       "    frameborder=\"0\"\n",
       "    allowfullscreen\n",
       "></iframe>\n"
      ]
     },
     "metadata": {},
     "output_type": "display_data"
    }
   ],
   "source": [
    "fig = px.line(x=perplexities, y=divergencies, markers=True)\n",
    "fig.update_layout(xaxis_title=\"Perplexity Values\", yaxis_title=\"Divergence\")\n",
    "fig.update_traces(line_color=\"blue\", line_width=1.5)\n",
    "fig.show()\n",
    "fig.write_html(f\"{images}/tsne_perplexity_vs_divergence.html\")"
   ]
  },
  {
   "cell_type": "code",
   "execution_count": 11,
   "id": "70d6cc2d",
   "metadata": {},
   "outputs": [
    {
     "name": "stdout",
     "output_type": "stream",
     "text": [
      " divergence: 4.04953670501709 for perplexity of :5\n"
     ]
    },
    {
     "data": {
      "text/html": [
       "<iframe\n",
       "    scrolling=\"no\"\n",
       "    width=\"100%\"\n",
       "    height=\"545px\"\n",
       "    src=\"iframe_figures/figure_11.html\"\n",
       "    frameborder=\"0\"\n",
       "    allowfullscreen\n",
       "></iframe>\n"
      ]
     },
     "metadata": {},
     "output_type": "display_data"
    },
    {
     "name": "stdout",
     "output_type": "stream",
     "text": [
      " divergence: 3.5729050636291504 for perplexity of :20\n"
     ]
    },
    {
     "data": {
      "text/html": [
       "<iframe\n",
       "    scrolling=\"no\"\n",
       "    width=\"100%\"\n",
       "    height=\"545px\"\n",
       "    src=\"iframe_figures/figure_11.html\"\n",
       "    frameborder=\"0\"\n",
       "    allowfullscreen\n",
       "></iframe>\n"
      ]
     },
     "metadata": {},
     "output_type": "display_data"
    },
    {
     "name": "stdout",
     "output_type": "stream",
     "text": [
      " divergence: 3.4086573123931885 for perplexity of :30\n"
     ]
    },
    {
     "data": {
      "text/html": [
       "<iframe\n",
       "    scrolling=\"no\"\n",
       "    width=\"100%\"\n",
       "    height=\"545px\"\n",
       "    src=\"iframe_figures/figure_11.html\"\n",
       "    frameborder=\"0\"\n",
       "    allowfullscreen\n",
       "></iframe>\n"
      ]
     },
     "metadata": {},
     "output_type": "display_data"
    },
    {
     "name": "stdout",
     "output_type": "stream",
     "text": [
      " divergence: 3.3797614574432373 for perplexity of :40\n"
     ]
    },
    {
     "data": {
      "text/html": [
       "<iframe\n",
       "    scrolling=\"no\"\n",
       "    width=\"100%\"\n",
       "    height=\"545px\"\n",
       "    src=\"iframe_figures/figure_11.html\"\n",
       "    frameborder=\"0\"\n",
       "    allowfullscreen\n",
       "></iframe>\n"
      ]
     },
     "metadata": {},
     "output_type": "display_data"
    },
    {
     "name": "stdout",
     "output_type": "stream",
     "text": [
      " divergence: 3.289498805999756 for perplexity of :50\n"
     ]
    },
    {
     "data": {
      "text/html": [
       "<iframe\n",
       "    scrolling=\"no\"\n",
       "    width=\"100%\"\n",
       "    height=\"545px\"\n",
       "    src=\"iframe_figures/figure_11.html\"\n",
       "    frameborder=\"0\"\n",
       "    allowfullscreen\n",
       "></iframe>\n"
      ]
     },
     "metadata": {},
     "output_type": "display_data"
    }
   ],
   "source": [
    "perplexities = [5,20,30,40,50] \n",
    "divergencies = []\n",
    "for perplexity in perplexities: \n",
    "    tsne_X,tsne = transforming_tsne(X,prices,perplexity=perplexity,n_components=3)\n",
    "    divergencies.append(tsne.kl_divergence_)\n",
    "    print(f\" divergence: {tsne.kl_divergence_} for perplexity of :{perplexity}\")\n",
    "    fig = px.scatter_3d(x=tsne_X[:, 0], y=tsne_X[:, 1], z=tsne_X[:, 2], color=prices, opacity=0.8)\n",
    "    fig.show()\n",
    "    fig.update_layout(\n",
    "        title=\"t-SNE house price visualization\",\n",
    "        xaxis_title=\"First t-SNE\",\n",
    "        yaxis_title=\"Second t-SNE\"\n",
    "    )\n",
    "    fig.write_html(f\"{images}/tsne_3D__perplexity_{perplexity}.html\")"
   ]
  },
  {
   "cell_type": "code",
   "execution_count": 12,
   "id": "2ac1d96d",
   "metadata": {},
   "outputs": [
    {
     "data": {
      "text/html": [
       "<iframe\n",
       "    scrolling=\"no\"\n",
       "    width=\"100%\"\n",
       "    height=\"545px\"\n",
       "    src=\"iframe_figures/figure_12.html\"\n",
       "    frameborder=\"0\"\n",
       "    allowfullscreen\n",
       "></iframe>\n"
      ]
     },
     "metadata": {},
     "output_type": "display_data"
    }
   ],
   "source": [
    "fig = px.line(x=perplexities, y=divergencies, markers=True)\n",
    "fig.update_layout(xaxis_title=\"Perplexity Values\", yaxis_title=\"Divergence\")\n",
    "fig.update_traces(line_color=\"blue\", line_width=1.5)\n",
    "fig.show()\n",
    "fig.write_html(f\"{images}/tsne_3D_perplexity_vs_divergence.html\")"
   ]
  },
  {
   "cell_type": "markdown",
   "id": "82419656",
   "metadata": {},
   "source": [
    "The original paper recommends using perplexity values between 5 and 50 so we will stick with that from here and onwards. \n",
    "\n",
    "One important aspects is **how to read the information provided by tsne**. The other aspects is how **not** to read it. \n",
    "I strongly suggest that you see the website that I put at the beginning of this notebook.\n",
    "\n",
    "Firstly we notice that the better divergence we got with the value 5 (it is better with 100 but we will stick as we said before with values between 5-50). This is a very important hyperparameter of the model. That saying it loosely translate as the numbers of neighbors each point has or better say the model expected to have. \n",
    "\n",
    "Now talking about what we actually see when we are looking at this graph, we see that prices with similar prices got cluster together (relatively easy to see in the 2 D plot with perplexity 5). That means that those points in the X-space in the higher dimension are \"nearby\" or has \"similarities\" between them. And that similarity translate that they have a high prices.\n",
    "\n",
    "Notice that as the resource provided the distance between cluster don't mean anything, the important thing are the points that are actually together. So we cannot conclude that points that are far apart for the cluster of high value are lower value themselves.\n",
    "\n",
    "Conclusion:\n",
    "\n",
    "TSNE is a nice way to see if there are cluster in our data. It is a good beginning point to understand the structure of it and to see in just two dimension if there any distinct cluster. \n",
    "\n",
    "In this particular example we saw some houses cluster with a high value price, so we our going to explore if we can actually find these cluster and what are some of their characteristic.\n"
   ]
  },
  {
   "cell_type": "markdown",
   "id": "a433a0b8",
   "metadata": {},
   "source": [
    "In this final block of code we just run a little longer our tsne with the perplexity that got us the best divergence score. And with a graph 2-D that are way easy to look."
   ]
  },
  {
   "cell_type": "code",
   "execution_count": 13,
   "id": "696c788b",
   "metadata": {},
   "outputs": [
    {
     "name": "stdout",
     "output_type": "stream",
     "text": [
      " divergence: 0.9648623466491699 for perplexity of :50\n"
     ]
    },
    {
     "data": {
      "text/html": [
       "<iframe\n",
       "    scrolling=\"no\"\n",
       "    width=\"100%\"\n",
       "    height=\"545px\"\n",
       "    src=\"iframe_figures/figure_13.html\"\n",
       "    frameborder=\"0\"\n",
       "    allowfullscreen\n",
       "></iframe>\n"
      ]
     },
     "metadata": {},
     "output_type": "display_data"
    }
   ],
   "source": [
    "# In the main folder\n",
    "tsne_X,tsne = transforming_tsne(X,prices,perplexity=5,n_iter=20000)\n",
    "divergencies.append(tsne.kl_divergence_)\n",
    "print(f\" divergence: {tsne.kl_divergence_} for perplexity of :{perplexity}\")\n",
    "fig = px.scatter(x=tsne_X[:, 0], y=tsne_X[:, 1], color=prices)\n",
    "fig.update_layout(\n",
    "    title=\"t-SNE house price visualization\",\n",
    "    xaxis_title=\"First t-SNE\",\n",
    "    yaxis_title=\"Second t-SNE\",\n",
    ")\n",
    "fig.show()"
   ]
  },
  {
   "cell_type": "code",
   "execution_count": null,
   "id": "eefbdf96",
   "metadata": {},
   "outputs": [],
   "source": []
  }
 ],
 "metadata": {
  "kernelspec": {
   "display_name": "Python 3 (ipykernel)",
   "language": "python",
   "name": "python3"
  },
  "language_info": {
   "codemirror_mode": {
    "name": "ipython",
    "version": 3
   },
   "file_extension": ".py",
   "mimetype": "text/x-python",
   "name": "python",
   "nbconvert_exporter": "python",
   "pygments_lexer": "ipython3",
   "version": "3.11.4"
  }
 },
 "nbformat": 4,
 "nbformat_minor": 5
}
