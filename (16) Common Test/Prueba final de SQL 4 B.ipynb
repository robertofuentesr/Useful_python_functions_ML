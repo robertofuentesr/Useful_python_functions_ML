{
 "cells": [
  {
   "cell_type": "markdown",
   "id": "23ea383c",
   "metadata": {},
   "source": [
    "# Prueba de SQL"
   ]
  },
  {
   "cell_type": "markdown",
   "id": "944316cc",
   "metadata": {},
   "source": [
    "\n",
    "\n",
    "\n",
    "- Casi todas las preguntas son de alternativas. Tienen que marcar la alternativa correcta para obtener el puntaje. En algunas preguntas les pediré que también me muestren el código de SQL que usaron para contestar. **Si no hay código, pero la alternativa elegida es la correcta, la pregunta será considerada mala. Por último, la query que escriba tiene que dar un resultado único, que le permite seleccionar la alternativa correcta. Si la query muestra más de un resultado su pregunta será considerada mala**.\n",
    "\n",
    "\n",
    "\n"
   ]
  },
  {
   "cell_type": "markdown",
   "id": "b9c7883b",
   "metadata": {},
   "source": [
    "##### Corra la siguente celda para importar la base y la función para mostrar sus queries de SQL\n"
   ]
  },
  {
   "cell_type": "code",
   "execution_count": 1,
   "id": "b6960314",
   "metadata": {},
   "outputs": [
    {
     "name": "stdout",
     "output_type": "stream",
     "text": [
      "[('detalleboleta',), ('boletas',), ('productos',), ('clientes',)]\n"
     ]
    }
   ],
   "source": [
    "#libraries\n",
    "import sqlite3\n",
    "import pandas as pd\n",
    "import numpy as np\n",
    "\n",
    "#reader\n",
    "def read_df(cur,command):\n",
    "    result = cur.execute(command)\n",
    "    col_names = list(map(lambda x: x[0], cur.description))\n",
    "    df_query = pd.DataFrame(result, columns =col_names)\n",
    "    print(df_query) \n",
    "    \n",
    "#Base SQL de la tarea\n",
    "\n",
    "#Establecer la conexión\n",
    "dbname = 'SQL3_Prueba_1'\n",
    "conn = sqlite3.connect(dbname + '.sqlite')\n",
    "\n",
    "cur = conn.cursor()\n",
    "cur. execute(\"SELECT name FROM sqlite_master WHERE type='table';\")\n",
    "print(cur.fetchall())"
   ]
  },
  {
   "cell_type": "markdown",
   "id": "da226eb9",
   "metadata": {},
   "source": [
    "##### Pregunta 1\n",
    "\n",
    "¿En cuál de las siguientes cláusulas de SQL podemos usar AND, NOT LIKE o IS?\n",
    "\n",
    "-[] SELECT\n",
    "\n",
    "-[] FROM \n",
    "\n",
    "-[X] WHERE \n",
    "\n",
    "-[] GROUP BY"
   ]
  },
  {
   "cell_type": "markdown",
   "id": "b6d99135",
   "metadata": {},
   "source": [
    "##### Pregunta 2\n",
    "\n",
    " Las keywords de agreagaciones (AVG,MAX,MIN...) se escribe en la cláusula:\n",
    "\n",
    "-[X] SELECT\n",
    "\n",
    "-[] FROM \n",
    "\n",
    "-[] WHERE \n",
    "\n",
    "-[] GROUP BY"
   ]
  },
  {
   "cell_type": "markdown",
   "id": "5820901a",
   "metadata": {},
   "source": [
    "##### Pregunta 3\n",
    "\n",
    "Es la cláusula que nos permite agrupar resultados por una columna:\n",
    "\n",
    "-[X] SELECT\n",
    "\n",
    "-[] FROM \n",
    "\n",
    "-[] WHERE \n",
    "\n",
    "-[X] GROUP BY"
   ]
  },
  {
   "cell_type": "markdown",
   "id": "76c34649",
   "metadata": {},
   "source": [
    "notemos que existen también funciones ventanas que van en el select en particular PARTITION, es una función muy útil y escribí de ella en mi artículo de aprende ingeniería: https://aprendeingenieria.com/creando-valor-con-sql/"
   ]
  },
  {
   "cell_type": "markdown",
   "id": "6da54259",
   "metadata": {},
   "source": [
    "##### Pregunta 4\n",
    "\n",
    "Si queremos solo obtener los primeros resultados de una query usariamos:\n",
    "\n",
    "-[] SELECT\n",
    "\n",
    "-[X] LIMIT \n",
    "\n",
    "-[] WHERE \n",
    "\n",
    "-[] ORDER BY"
   ]
  },
  {
   "cell_type": "markdown",
   "id": "00ed6853",
   "metadata": {},
   "source": [
    "##### Pregunta 5\n",
    "\n",
    "Para seleccionar tablas usamos:\n",
    "\n",
    "-[] SELECT\n",
    "\n",
    "-[X] FROM \n",
    "\n",
    "-[] WHERE \n",
    "\n",
    "-[] GROUP BY"
   ]
  },
  {
   "cell_type": "markdown",
   "id": "3b60d1ca",
   "metadata": {},
   "source": [
    "##### Pregunta 6\n",
    "\n",
    "¿Es posible usar aliasing en la clausula FROM?\n",
    "\n",
    "-[X] SI\n",
    "\n",
    "-[] NO\n",
    "\n",
    "En subqueries siempre se crean nombres simple como C u otros con una sola letra."
   ]
  },
  {
   "cell_type": "markdown",
   "id": "c12c6219",
   "metadata": {},
   "source": [
    "##### Pregunta 7\n",
    "\n",
    "\n",
    "SELECT *\n",
    "\n",
    "FROM tab1\n",
    "\n",
    "INNER JOIN tab2\n",
    "\n",
    "_____ tab1.key = tab2.key\n",
    "\n",
    "¿Cuál es la cláusula que falta?\n",
    "\n",
    "-[X] ON\n",
    "\n",
    "-[] USING\n",
    "\n",
    "-[] WHERE\n",
    "\n",
    "-[] ORDER BY"
   ]
  },
  {
   "cell_type": "markdown",
   "id": "b2174a72",
   "metadata": {},
   "source": [
    "##### Pregunta 8\n",
    "\n",
    "\n",
    "SELECT (4/3)\n",
    "\n",
    "El resultado de la query anterior ¿Devolverá?\n",
    "\n",
    "-[] Error\n",
    "\n",
    "-[] 1.33333\n",
    "\n",
    "-[X] 1.0\n",
    "\n",
    "-[] Ninguna de las anterioes"
   ]
  },
  {
   "cell_type": "markdown",
   "id": "eddf2b36",
   "metadata": {},
   "source": [
    "##### Pregunta 9\n",
    "\n",
    "La keyword o símbolo que usado en SELECT nos permite crear CASOS es:\n",
    "\n",
    "-[] AS\n",
    "\n",
    "-[] $\n",
    "\n",
    "-[] ALL\n",
    "\n",
    "-[X] CASE"
   ]
  },
  {
   "cell_type": "markdown",
   "id": "9e99d8d1",
   "metadata": {},
   "source": [
    "##### Pregunta 10\n",
    "\n",
    "La keyword ______ no aplica si queremos usarla en la cláusula FROM:\n",
    "\n",
    "-[] USING\n",
    "\n",
    "-[] AS\n",
    "\n",
    "-[X] MIN\n",
    "\n",
    "-[] ON"
   ]
  },
  {
   "cell_type": "markdown",
   "id": "a12f3872",
   "metadata": {},
   "source": [
    "##### Pregunta 11\n",
    "\n",
    "¿La cláusula WHERE nos permite filtrar resultados en un GROUP BY?\n",
    "\n",
    "-[] VERDADERO\n",
    "\n",
    "-[X] FALSO\n",
    "\n",
    "El where se aplica sobre la tabla inicial (seleccionada en el from) y luego se aplica el group by. Ejemplo:"
   ]
  },
  {
   "cell_type": "code",
   "execution_count": 13,
   "id": "0d562ff6",
   "metadata": {},
   "outputs": [
    {
     "name": "stdout",
     "output_type": "stream",
     "text": [
      "[(111, 8), (113, 5), (116, 4), (112, 4), (115, 1), (114, 1)]\n"
     ]
    }
   ],
   "source": [
    "query = \"\"\" \n",
    "SELECT Idboleta,sum(cantidad)  as cantidad_total\n",
    "FROM detalleboleta \n",
    "WHERE cantidad < 5\n",
    "GROUP BY Idboleta\n",
    "ORDER BY cantidad_total desc\n",
    "LIMIT 20\n",
    "\"\"\"\n",
    "cur. execute(f\"{query};\")\n",
    "print(cur.fetchall())"
   ]
  },
  {
   "cell_type": "markdown",
   "id": "00949acb",
   "metadata": {},
   "source": [
    "En este caso notese que hay cantidades mayores que 5, eso es porque esta restricción se aplico primero en la tabla inicial y después se ejecutó group by sobre esta tabla."
   ]
  },
  {
   "cell_type": "markdown",
   "id": "05d7357a",
   "metadata": {},
   "source": [
    "##### Pregunta 12\n",
    "\n",
    "No podemos mezclar más de dos tablas en la clausula FROM\n",
    "\n",
    "-[X] VERDADERO\n",
    "\n",
    "-[] FALSO"
   ]
  },
  {
   "cell_type": "markdown",
   "id": "9761aae5",
   "metadata": {},
   "source": [
    "##### Pregunta 13\n",
    "\n",
    "Para unir dos tablas en base a una key que está en una columna que lleva el mismo nombre en ambas tablas solo podemos hacerlo usando USING\n",
    "\n",
    "-[] VERDADERO\n",
    "\n",
    "-[X] FALSO\n",
    "\n",
    "Se puede usar join también"
   ]
  },
  {
   "cell_type": "markdown",
   "id": "353e1c51",
   "metadata": {},
   "source": [
    "##### Pregunta 14\n",
    "\n",
    "Solo podemos obtener el máximo de una columna usando MAX():\n",
    "\n",
    "-[] SI\n",
    "\n",
    "-[X] NO\n",
    "\n",
    "***HINT: Piense si es posible hacer lo mismo con una combinación de otras keywords***\n",
    "Ejemplos para conseguir lo mismo de dos formas distintas"
   ]
  },
  {
   "cell_type": "code",
   "execution_count": 12,
   "id": "312c196f",
   "metadata": {},
   "outputs": [
    {
     "name": "stdout",
     "output_type": "stream",
     "text": [
      "[(10,)]\n"
     ]
    }
   ],
   "source": [
    "query = \"\"\" \n",
    "SELECT max(cantidad) as max_cantidad\n",
    "FROM detalleboleta \n",
    "\"\"\"\n",
    "cur. execute(f\"{query};\")\n",
    "print(cur.fetchall())"
   ]
  },
  {
   "cell_type": "code",
   "execution_count": 11,
   "id": "3f67471b",
   "metadata": {},
   "outputs": [
    {
     "name": "stdout",
     "output_type": "stream",
     "text": [
      "[(10,)]\n"
     ]
    }
   ],
   "source": [
    "query = \"\"\" \n",
    "SELECT cantidad as max_cantidad\n",
    "FROM detalleboleta \n",
    "ORDER BY cantidad desc\n",
    "LIMIT 1\n",
    "\"\"\"\n",
    "cur. execute(f\"{query};\")\n",
    "print(cur.fetchall())"
   ]
  },
  {
   "cell_type": "markdown",
   "id": "73068106",
   "metadata": {},
   "source": [
    "##### Pregunta 15\n",
    "\n",
    "Si queremos filtrar registros en base a una key que necesariamente está en la tabla de la izquierda usaríamos una:\n",
    "\n",
    "-[] FULL JOIN\n",
    "\n",
    "-[X] LEFT JOIN\n",
    "\n",
    "-[] INNER JOIN\n",
    "\n",
    "-[] SELFISH JOIN\n"
   ]
  },
  {
   "cell_type": "markdown",
   "id": "94f234b5",
   "metadata": {},
   "source": [
    "##### Pregunta 16\n",
    "\n",
    "Si hay que filtrar todos los nombres que su segunda letra sea una B podemos usar:\n",
    "\n",
    "-[] “_ _ _B%”\n",
    "\n",
    "-[] ´%B_%’\n",
    "\n",
    "-[X] ‘_B%´\n",
    "\n",
    "-[] “%B_”"
   ]
  },
  {
   "cell_type": "markdown",
   "id": "8dc2692f",
   "metadata": {},
   "source": [
    "##### Pregunta 17\n",
    "\n",
    "Podemos escribir queries con letras minúsculas, pero es buena práctica escribir las keywords con mayúsculas\n",
    "\n",
    "-[X] VERDADERO\n",
    "\n",
    "-[] FALSO"
   ]
  },
  {
   "cell_type": "markdown",
   "id": "e6f505f3",
   "metadata": {},
   "source": [
    "##### Pregunta 18\n",
    "\n",
    "Si queremos obtener registros únicos de una columna usamos\n",
    "\n",
    "-[] UNIQUE\n",
    "\n",
    "-[] ONLY\n",
    "\n",
    "-[] LIKE\n",
    "\n",
    "-[X] DISTINCT"
   ]
  },
  {
   "cell_type": "markdown",
   "id": "175362d1",
   "metadata": {},
   "source": [
    "##### Pregunta 19\n",
    "\n",
    "Si queremos obtener la cantidad de filas de una tabla usaríamos:\n",
    "\n",
    "-[X] COUNT(*)\n",
    "\n",
    "-[] MAX(*)\n",
    "\n",
    "-[] MIN(*)\n",
    "\n",
    "-[] SELECT(*)\n"
   ]
  },
  {
   "cell_type": "markdown",
   "id": "82200480",
   "metadata": {},
   "source": [
    "##### Pregunta 20\n",
    "Si queremos obtener los resultados nulos en la cláusula WHERE usaríamos:\n",
    "\n",
    "-[X] IS NULL\n",
    "\n",
    "-[] == NULL\n",
    "\n",
    "-[] IS NOT NULL\n",
    "\n",
    "-[] != NULL"
   ]
  },
  {
   "cell_type": "markdown",
   "id": "ee0ed80e",
   "metadata": {},
   "source": [
    "##### Pregunta 21\n",
    "El símbolo de no igual en SQL es:\n",
    "\n",
    "-[X] <>\n",
    "\n",
    "-[] LIKE\n",
    "\n",
    "-[X] !=\n",
    "\n",
    "-[] =="
   ]
  },
  {
   "cell_type": "markdown",
   "id": "52feac34",
   "metadata": {},
   "source": [
    "##### Pregunta 22\n",
    "No es posible hacer JOINS usando la misma tabla:\n",
    "\n",
    "-[] VERDADERO\n",
    "\n",
    "-[X] FALSO"
   ]
  },
  {
   "cell_type": "markdown",
   "id": "b92bfadc",
   "metadata": {},
   "source": [
    "##### Pregunta 23\n",
    "No es posible usar subqueries para filtrar resultados de una tabla distinta a la que estamos usando en la clausula FROM:\n",
    "\n",
    "-[] VERDADERO\n",
    "\n",
    "-[X] FALSO"
   ]
  },
  {
   "cell_type": "markdown",
   "id": "c44231e9",
   "metadata": {},
   "source": [
    "##### Pregunta 24\n",
    "No es posible escribir subqueries en la clausula SELECT:\n",
    "\n",
    "-[] VERDADERO\n",
    "\n",
    "-[X] FALSO"
   ]
  },
  {
   "cell_type": "markdown",
   "id": "91d21b82",
   "metadata": {},
   "source": [
    "##### Pregunta 25\n",
    "Cuando existen dos columnas con el mismo nombre (imagínese el caso de una JOIN), en el SELECT es necesario especificar la tabla donde obtener la columna repetida por el error de:\n",
    "\n",
    "-[] No existe error\n",
    "\n",
    "-[X] AMBIGUEDAD\n",
    "\n",
    "-[] COMPLETITUD\n",
    "\n",
    "-[] Ninguna de las anteriores"
   ]
  },
  {
   "attachments": {
    "p26_f2.png": {
     "image/png": "[encoded data removed]"
    }
   },
   "cell_type": "markdown",
   "id": "9b19464b",
   "metadata": {},
   "source": [
    "##### Pregunta 26\n",
    "\n",
    "![p26_f2.png](attachment:p26_f2.png)\n",
    "\n",
    "El anterior diagrama de Venn, representa\n",
    "\n",
    "-[] La unión de A y B\n",
    "\n",
    "-[X] El conjunto B\n",
    "\n",
    "-[] El conjunto a A\n",
    "\n",
    "-[] El conjunto A menos/except el conjunto B\n"
   ]
  },
  {
   "attachments": {
    "p27_f2.png": {
     "image/png": "[encoded data removed]"
    }
   },
   "cell_type": "markdown",
   "id": "50c88467",
   "metadata": {},
   "source": [
    "##### Pregunta 27\n",
    "\n",
    "![p27_f2.png](attachment:p27_f2.png)\n",
    "El anterior diagrama de Venn, representa\n",
    "\n",
    "-[X] La unión de A y B\n",
    "\n",
    "-[] El conjunto C\n",
    "\n",
    "-[] La intersección de C con A y B\n",
    "\n",
    "-[] El conjunto C unión B\n"
   ]
  },
  {
   "attachments": {
    "p28_f2.png": {
     "image/png": "[encoded data removed]"
    }
   },
   "cell_type": "markdown",
   "id": "19bdae2d",
   "metadata": {},
   "source": [
    "##### Pregunta 28\n",
    "\n",
    "![p28_f2.png](attachment:p28_f2.png)\n",
    "El anterior diagrama de Venn, representa\n",
    "\n",
    "-[] La unión de A, B, C y D\n",
    "\n",
    "-[] La intersección de A con C y de B con D\n",
    "\n",
    "-[] La intersección de A con B, la intersección de B con C, y la intersección de C con D\n",
    "\n",
    "-[X] La intersección de A con B con la unión de la intersección de C con D"
   ]
  },
  {
   "cell_type": "markdown",
   "id": "a7af541b",
   "metadata": {},
   "source": [
    "##### Pregunta 29\n",
    "\n",
    "La diferencia entre una ANTI JOIN y una SEMI JOINS es un NOT en la clausula WHERE:\n",
    "\n",
    "-[X] VERDADERO\n",
    "\n",
    "-[] FALSO"
   ]
  },
  {
   "cell_type": "markdown",
   "id": "606c192e",
   "metadata": {},
   "source": [
    "##### Pregunta 29\n",
    "\n",
    "Una CROSS JOIN devolverá todas las combinaciones posibles de la combinación de las tablas consideras en la CROSS JOIN (Ejemplo, una tabla de 10 filas CROSS JOIN una tabla de 15 filas devolverá 150 filas):\n",
    "\n",
    "-[X] VERDADERO\n",
    "\n",
    "-[] FALSO"
   ]
  },
  {
   "cell_type": "markdown",
   "id": "7a6c43f0",
   "metadata": {},
   "source": [
    "##### Pregunta 30\n",
    "\n",
    "Un amigo le dice “SQL es un lenguaje muy limitado, no podemos hacer JOINS de data que tiene estructura larga”. Usted lo mira y responde:\n",
    "\n",
    "-[] VERDADERO, sabes mucho de SQL!\n",
    "\n",
    "-[X] FALSO, debes revisar la clase I\n"
   ]
  },
  {
   "attachments": {
    "ERD_prueba.png": {
     "image/png": "[encoded data removed]"
    }
   },
   "cell_type": "markdown",
   "id": "fd0e80b1",
   "metadata": {},
   "source": [
    "### Las siguientes 5 preguntas se responden en base al próximo ERD.\n",
    "\n",
    "![ERD_prueba.png](attachment:ERD_prueba.png)"
   ]
  },
  {
   "cell_type": "markdown",
   "id": "d9445840",
   "metadata": {},
   "source": [
    "##### Pregunta 31\n",
    "\n",
    "El ERD no tiene ningún link table:\n",
    "\n",
    "-[] VERDADERO\n",
    "\n",
    "-[X] FALSO\n"
   ]
  },
  {
   "cell_type": "markdown",
   "id": "5c14cbdc",
   "metadata": {},
   "source": [
    "##### Pregunta 32\n",
    "\n",
    "Es imposible identificar el datatype de ninguno de los registros de las instancias que se muestran en el ERD:\n",
    "\n",
    "-[] VERDADERO\n",
    "\n",
    "-[X] FALSO"
   ]
  },
  {
   "cell_type": "markdown",
   "id": "ef959322",
   "metadata": {},
   "source": [
    "##### Pregunta 33\n",
    "\n",
    "La forma correcta de leer la relación entre Ticket Category y Ticket Type ID:\n",
    "\n",
    "-[] Muchos tickets pueden tener muchas categorías\n",
    "\n",
    "-[] Una categoría solo puede esta asociada a un solo ticket\n",
    "\n",
    "-[] Un tickets puede tener muchas categorias\n",
    "\n",
    "-[X] Una categoria puede estar asociada a muchos tickets"
   ]
  },
  {
   "cell_type": "markdown",
   "id": "e65e56dd",
   "metadata": {},
   "source": [
    "##### Pregunta 34\n",
    "\n",
    "La PRIMARY KEY de la tabla JOURNEY es:\n",
    "\n",
    "-[] DutyID\n",
    "\n",
    "-[X] JOURNEYID\n",
    "\n",
    "-[] Direction\n",
    "\n",
    "-[] Ninguna de las anteriores"
   ]
  },
  {
   "cell_type": "markdown",
   "id": "5237387e",
   "metadata": {},
   "source": [
    "##### Pregunta 35\n",
    "A.\tHay tablas que no tienen FOREING KEYS \n",
    "\n",
    "B.\tHay tablas que tiene más de una FOREING KEY\n",
    "\n",
    "-[] Solo A es verdadera\n",
    "\n",
    "-[] Solo B es verdadera\n",
    "\n",
    "-[X] Ambas son verdaderas\n",
    "\n",
    "-[] No se lo que es una Foreing Key, pero estoy seguro que no las podemos identificar de ese dibujo."
   ]
  },
  {
   "cell_type": "markdown",
   "id": "9d75e50a",
   "metadata": {},
   "source": [
    "# Queries, Queries y más Queries"
   ]
  },
  {
   "cell_type": "markdown",
   "id": "fcaab2df",
   "metadata": {},
   "source": [
    "La siguiente sección de la prueba se responde en base a las tablas: boleta, productos, clientes y detalle boleta\n",
    "\n",
    "Es tarea de usted explorar la relación entre las cuatro tablas, pero es sencilla.\n",
    "\n",
    "La tabla detalle boletas tiene información de las ventas identificadas por su número de boleta. Cada registro muestra el número de boleta, los productos que iban en esa boleta y la cantidad.\n",
    "\n",
    "**¿Pregúntese, que estructura tiene la data? ¿Puedo comprar productos distintos en cada boleta?**\n",
    "\n",
    "La tabla productos muestra información de los productos que usted vende y clientes cuáles son sus clientes. Mientras que boleta relaciona boleta con cliente.\n",
    "\n",
    "**Tendrá que responder la siguiente 40 preguntas en base a su entendimiento de este database**\n",
    "\n",
    "*HINT*: \n",
    "- Cuando se le pregunte valores de boletas o clientes, tendrá que multiplicar la cantidad de producto vendido por su precio y luego hacer la agregación correspondiente\n",
    "\n",
    "- Puede unir la tabla clientes y boletas con el identificador de cliente y la tabla productos con detalle boletas usando el id de id de productos\n",
    "\n",
    "**Recuerde que  tiene que mostrar la query que uso para responder, y esta tiene que dar el resultado preciso y único de la alternativa que seleccionó (una fila)**"
   ]
  },
  {
   "cell_type": "markdown",
   "id": "6dc58b16",
   "metadata": {},
   "source": [
    "##### Pregunta 36\n",
    "¿Cuántas boletas hay en sus registros (revise boletas)?\n",
    "\n",
    "-[] 1\n",
    "\n",
    "-[] 5\n",
    "\n",
    "-[X] 6\n",
    "\n",
    "-[] 10\n"
   ]
  },
  {
   "cell_type": "code",
   "execution_count": 17,
   "id": "9bda71a4",
   "metadata": {},
   "outputs": [
    {
     "name": "stdout",
     "output_type": "stream",
     "text": [
      "   count\n",
      "0      6\n"
     ]
    }
   ],
   "source": [
    "query = \"\"\" \n",
    "SELECT count(*) as count\n",
    "FROM boletas \n",
    "\"\"\"\n",
    "cur. execute(f\"{query};\")\n",
    "\n",
    "read_df(cur,query)"
   ]
  },
  {
   "cell_type": "markdown",
   "id": "497ab8f2",
   "metadata": {},
   "source": [
    "##### Pregunta 37\n",
    "¿Cuántos clientes tiene?\n",
    "\n",
    "-[] 1\n",
    "\n",
    "-[X] 3\n",
    "\n",
    "-[] 2\n",
    "\n",
    "-[] 4"
   ]
  },
  {
   "cell_type": "code",
   "execution_count": 18,
   "id": "72e011f1",
   "metadata": {},
   "outputs": [
    {
     "name": "stdout",
     "output_type": "stream",
     "text": [
      "   CLIENTES_UNICOS\n",
      "0                3\n"
     ]
    }
   ],
   "source": [
    "query = \"\"\" \n",
    "SELECT COUNT(DISTINCT (Idcliente)) AS CLIENTES_UNICOS\n",
    "FROM clientes \n",
    "\"\"\"\n",
    "cur. execute(f\"{query};\")\n",
    "\n",
    "read_df(cur,query)"
   ]
  },
  {
   "cell_type": "markdown",
   "id": "30d24ff5",
   "metadata": {},
   "source": [
    "##### Pregunta 38\n",
    "¿Cuántos productos tiene?\n",
    "\n",
    "-[] 1\n",
    "\n",
    "-[] 4\n",
    "\n",
    "-[] 6\n",
    "\n",
    "-[X] 7"
   ]
  },
  {
   "cell_type": "code",
   "execution_count": 19,
   "id": "a85fe866",
   "metadata": {},
   "outputs": [
    {
     "name": "stdout",
     "output_type": "stream",
     "text": [
      "   productos_unicos\n",
      "0                 7\n"
     ]
    }
   ],
   "source": [
    "query = \"\"\" \n",
    "SELECT COUNT(DISTINCT (Idproducto)) AS productos_unicos\n",
    "FROM productos \n",
    "\"\"\"\n",
    "cur. execute(f\"{query};\")\n",
    "\n",
    "read_df(cur,query)"
   ]
  },
  {
   "cell_type": "markdown",
   "id": "a5503150",
   "metadata": {},
   "source": [
    "##### Pregunta 39\n",
    "¿Cuál es el precio promedio de sus productos?\n",
    "\n",
    "-[] 111\n",
    "\n",
    "-[X] 121\n",
    "\n",
    "-[] 123\n",
    "\n",
    "-[] 130"
   ]
  },
  {
   "cell_type": "code",
   "execution_count": 24,
   "id": "3414d335",
   "metadata": {},
   "outputs": [
    {
     "name": "stdout",
     "output_type": "stream",
     "text": [
      "    avg_price\n",
      "0  121.428571\n"
     ]
    }
   ],
   "source": [
    "query = \"\"\" \n",
    "SELECT AVG(\"Precio unitario\") avg_price\n",
    "FROM productos \n",
    "\"\"\"\n",
    "cur. execute(f\"{query};\")\n",
    "\n",
    "read_df(cur,query)"
   ]
  },
  {
   "cell_type": "markdown",
   "id": "5e00a26f",
   "metadata": {},
   "source": [
    "##### Pregunta 40\n",
    "¿Cuál es el precio promedio de sus productos de la categoría \"Galletas\"?\n",
    "\n",
    "-[] 53\n",
    "\n",
    "-[X] 63\n",
    "\n",
    "-[] 83\n",
    "\n",
    "-[] 20"
   ]
  },
  {
   "cell_type": "code",
   "execution_count": 23,
   "id": "a0626518",
   "metadata": {},
   "outputs": [
    {
     "name": "stdout",
     "output_type": "stream",
     "text": [
      "  Categoría  AVG(\"Precio unitario\")\n",
      "0  Galletas               63.333333\n"
     ]
    }
   ],
   "source": [
    "query = \"\"\" \n",
    "SELECT Categoría,AVG(\"Precio unitario\")\n",
    "FROM productos \n",
    "WHERE Categoría='Galletas' \n",
    "GROUP BY Categoría\n",
    "\"\"\"\n",
    "cur. execute(f\"{query};\")\n",
    "\n",
    "read_df(cur,query)"
   ]
  },
  {
   "cell_type": "markdown",
   "id": "f8d70f8a",
   "metadata": {},
   "source": [
    "##### Pregunta 41\n",
    "¿Cuantos veces (boletas) compró el cliente \"A\" (use la tabla boletas)?\n",
    "\n",
    "-[X] 3\n",
    "\n",
    "-[] 2\n",
    "\n",
    "-[] 1\n",
    "\n",
    "-[] 4"
   ]
  },
  {
   "cell_type": "code",
   "execution_count": 25,
   "id": "22e40fd4",
   "metadata": {},
   "outputs": [
    {
     "name": "stdout",
     "output_type": "stream",
     "text": [
      "   boletas_cliente_A\n",
      "0                  3\n"
     ]
    }
   ],
   "source": [
    "read_df(cur,\"\"\"SELECT count(*) as boletas_cliente_A\n",
    "FROM boletas \n",
    "WHERE Idcliente='A' ;\"\"\")"
   ]
  },
  {
   "cell_type": "markdown",
   "id": "b899bf54",
   "metadata": {},
   "source": [
    "##### Pregunta 42\n",
    "¿Cómo se llama su cliente de Idcliente A (use la tabla clientes)?\n",
    "\n",
    "-[] Álvaro\n",
    "\n",
    "-[X] Simón\n",
    "\n",
    "-[] Fede\n",
    "\n",
    "-[] Cami"
   ]
  },
  {
   "cell_type": "code",
   "execution_count": 27,
   "id": "45dda0f7",
   "metadata": {},
   "outputs": [
    {
     "name": "stdout",
     "output_type": "stream",
     "text": [
      "  Nombre\n",
      "0  Simon\n"
     ]
    }
   ],
   "source": [
    "read_df(cur,\"\"\"SELECT Nombre\n",
    "FROM clientes \n",
    "WHERE Idcliente='A';\"\"\")"
   ]
  },
  {
   "cell_type": "markdown",
   "id": "5e07e0bf",
   "metadata": {},
   "source": [
    "##### Pregunta 43\n",
    "¿Cuanto es el máximo de la columna Cantidad de la tabla detalleboleta?\n",
    "\n",
    "-[X] 10\n",
    "\n",
    "-[] 6\n",
    "\n",
    "-[] 5\n",
    "\n",
    "-[] 2"
   ]
  },
  {
   "cell_type": "code",
   "execution_count": 29,
   "id": "6c404c63",
   "metadata": {},
   "outputs": [
    {
     "name": "stdout",
     "output_type": "stream",
     "text": [
      "   MAX(Cantidad)\n",
      "0             10\n"
     ]
    }
   ],
   "source": [
    "read_df(cur,\"\"\"SELECT MAX(Cantidad)\n",
    "FROM detalleboleta \n",
    " ;\"\"\")"
   ]
  },
  {
   "cell_type": "markdown",
   "id": "ff654f5d",
   "metadata": {},
   "source": [
    "##### Pregunta 44\n",
    "¿Cuál es el Idboleta de boleta con el Máximo de Cantidad?\n",
    "\n",
    "-[] 111\n",
    "\n",
    "-[X] 112\n",
    "\n",
    "-[] 113\n",
    "\n",
    "-[] 116"
   ]
  },
  {
   "cell_type": "code",
   "execution_count": 30,
   "id": "3619c328",
   "metadata": {},
   "outputs": [
    {
     "name": "stdout",
     "output_type": "stream",
     "text": [
      "   Idboleta\n",
      "0       112\n"
     ]
    }
   ],
   "source": [
    "read_df(cur,\"\"\"select Idboleta FROM detalleboleta\n",
    "WHERE Cantidad in (\n",
    "SELECT MAX(Cantidad)\n",
    "FROM detalleboleta \n",
    ") ;\"\"\")"
   ]
  },
  {
   "cell_type": "markdown",
   "id": "8e773b01",
   "metadata": {},
   "source": [
    "##### Pregunta 45\n",
    "¿Cuanto es el mínimo de la columna Cantidad de la tabla detalleboleta?\n",
    "\n",
    "-[X] 1\n",
    "\n",
    "-[] 2\n",
    "\n",
    "-[] 3\n",
    "\n",
    "-[] 4"
   ]
  },
  {
   "cell_type": "code",
   "execution_count": 31,
   "id": "d11f8556",
   "metadata": {},
   "outputs": [
    {
     "name": "stdout",
     "output_type": "stream",
     "text": [
      "   MIN(Cantidad)\n",
      "0              1\n"
     ]
    }
   ],
   "source": [
    "read_df(cur,\"\"\"SELECT MIN(Cantidad)\n",
    "FROM detalleboleta  ;\"\"\")"
   ]
  },
  {
   "cell_type": "markdown",
   "id": "7f2797d4",
   "metadata": {},
   "source": [
    "##### Pregunta 46\n",
    "¿Cuál es la IdCliente de quien compró la boleta de la respuesta de la pregunta 44 (use la tabla boletas)?\n",
    "\n",
    "-[] A\n",
    "\n",
    "-[X] B\n",
    "\n",
    "-[] C\n",
    "\n",
    "-[] D"
   ]
  },
  {
   "cell_type": "code",
   "execution_count": 32,
   "id": "cdf8379a",
   "metadata": {},
   "outputs": [
    {
     "name": "stdout",
     "output_type": "stream",
     "text": [
      "  Idcliente\n",
      "0        B \n"
     ]
    }
   ],
   "source": [
    "read_df(cur,\"\"\"SELECT Idcliente FROM \n",
    "boletas\n",
    "WHERE Idboleta in\n",
    "(\n",
    "select Idboleta FROM detalleboleta\n",
    "WHERE Cantidad in \n",
    "(\n",
    "SELECT MAX(Cantidad)\n",
    "FROM detalleboleta \n",
    ")\n",
    ");\"\"\")"
   ]
  },
  {
   "cell_type": "markdown",
   "id": "4ad9e386",
   "metadata": {},
   "source": [
    "##### Pregunta 47\n",
    "¿Cómo se llama su cliente con la Idcliente de la pregunta anterior (use la tabla clientes)?\n",
    "\n",
    "-[] Álvaro\n",
    "\n",
    "-[] Simón\n",
    "\n",
    "-[] Fede\n",
    "\n",
    "-[X] Cami\n",
    "\n",
    "Esto estuve difícil debido a unos espacios en Idcliente en la tabla boletas"
   ]
  },
  {
   "cell_type": "code",
   "execution_count": 35,
   "id": "f7528877",
   "metadata": {},
   "outputs": [
    {
     "name": "stdout",
     "output_type": "stream",
     "text": [
      "  Nombre\n",
      "0   Cami\n"
     ]
    }
   ],
   "source": [
    "read_df(cur,\"\"\"\n",
    "SELECT Nombre\n",
    "FROM clientes\n",
    "WHERE CAST(Idcliente AS VARCHAR(10)) IN\n",
    "( \n",
    "SELECT REPLACE(Idcliente, ' ', '') FROM \n",
    "boletas\n",
    "WHERE Idboleta in\n",
    "(\n",
    "select Idboleta \n",
    "FROM detalleboleta\n",
    "WHERE Cantidad in \n",
    "(\n",
    "SELECT MAX(Cantidad)\n",
    "FROM detalleboleta \n",
    ")\n",
    ")\n",
    ")\n",
    "\n",
    "\"\"\")"
   ]
  },
  {
   "cell_type": "markdown",
   "id": "79200fff",
   "metadata": {},
   "source": [
    "##### Pregunta 48\n",
    "¿Cuantos productos se llaman Coke algo..(use la tabla productos)?\n",
    "\n",
    "-[X] 3\n",
    "\n",
    "-[] 2\n",
    "\n",
    "-[] 1\n",
    "\n",
    "-[] 0"
   ]
  },
  {
   "cell_type": "code",
   "execution_count": 36,
   "id": "eee18672",
   "metadata": {},
   "outputs": [
    {
     "name": "stdout",
     "output_type": "stream",
     "text": [
      "   COUNT (DISTINCT(Descripción))\n",
      "0                              3\n"
     ]
    }
   ],
   "source": [
    "read_df(cur,\"\"\"SELECT COUNT (DISTINCT(Descripción))\n",
    "FROM productos\n",
    "WHERE Descripción LIKE '%Coke%';\"\"\")"
   ]
  },
  {
   "cell_type": "markdown",
   "id": "f132c601",
   "metadata": {},
   "source": [
    "##### Pregunta 49\n",
    "¿Cuanto es el promedio precio unitario de los productos NOT Coke?\n",
    "\n",
    "-[] 200\n",
    "\n",
    "-[] 100\n",
    "\n",
    "-[X] 50\n",
    "\n",
    "-[] 10"
   ]
  },
  {
   "cell_type": "code",
   "execution_count": 37,
   "id": "5fb2326c",
   "metadata": {},
   "outputs": [
    {
     "name": "stdout",
     "output_type": "stream",
     "text": [
      "   AVG(\"Precio unitario\")\n",
      "0                    50.0\n"
     ]
    }
   ],
   "source": [
    "read_df(cur,\"\"\"SELECT AVG(\"Precio unitario\")\n",
    "FROM productos\n",
    "WHERE Descripción NOT IN (\n",
    "SELECT DISTINCT(Descripción)\n",
    "FROM productos\n",
    "WHERE Descripción LIKE '%Coke%'\n",
    ")\"\"\")"
   ]
  },
  {
   "cell_type": "markdown",
   "id": "cc8b1838",
   "metadata": {},
   "source": [
    "##### Pregunta 50\n",
    "¿Cuál es el precio Máximo de los productos Coke?\n",
    "\n",
    "-[] 100\n",
    "\n",
    "-[] 150\n",
    "\n",
    "-[] 200\n",
    "\n",
    "-[X] 300"
   ]
  },
  {
   "cell_type": "code",
   "execution_count": 38,
   "id": "0a1c4f46",
   "metadata": {},
   "outputs": [
    {
     "name": "stdout",
     "output_type": "stream",
     "text": [
      "   MAX(\"Precio unitario\")\n",
      "0                     300\n"
     ]
    }
   ],
   "source": [
    "read_df(cur,\"\"\"SELECT MAX(\"Precio unitario\")\n",
    "FROM productos\n",
    "WHERE Descripción IN (\n",
    "SELECT DISTINCT(Descripción)\n",
    "FROM productos\n",
    "WHERE Descripción LIKE '%Coke%'\n",
    ") ;\"\"\")"
   ]
  },
  {
   "cell_type": "markdown",
   "id": "bfcefd3a",
   "metadata": {},
   "source": [
    "##### Pregunta 51\n",
    "¿Cuanta es la cantidad de productos que se vendieron el la boleta 111?\n",
    "\n",
    "-[] 10\n",
    "\n",
    "-[] 15\n",
    "\n",
    "-[X] 19\n",
    "\n",
    "-[] 20"
   ]
  },
  {
   "cell_type": "code",
   "execution_count": 39,
   "id": "4fc55c6b",
   "metadata": {},
   "outputs": [
    {
     "name": "stdout",
     "output_type": "stream",
     "text": [
      "   SUM(Cantidad)\n",
      "0             19\n"
     ]
    }
   ],
   "source": [
    "read_df(cur,\"\"\"SELECT SUM(Cantidad)\n",
    "FROM detalleboleta\n",
    "WHERE Idboleta=111\"\"\")"
   ]
  },
  {
   "cell_type": "markdown",
   "id": "80c33394",
   "metadata": {},
   "source": [
    "##### Pregunta 52\n",
    "¿Cuanta es la cantidad de productos que se vendieron en la boleta 112?\n",
    "\n",
    "-[] 10\n",
    "\n",
    "-[X] 14\n",
    "\n",
    "-[] 20\n",
    "\n",
    "-[] 21"
   ]
  },
  {
   "cell_type": "code",
   "execution_count": 40,
   "id": "c0d00d61",
   "metadata": {},
   "outputs": [
    {
     "name": "stdout",
     "output_type": "stream",
     "text": [
      "   SUM(Cantidad)\n",
      "0             14\n"
     ]
    }
   ],
   "source": [
    "read_df(cur,\"\"\"SELECT SUM(Cantidad)\n",
    "FROM detalleboleta\n",
    "WHERE Idboleta=112\"\"\")"
   ]
  },
  {
   "cell_type": "markdown",
   "id": "f5d7a1d2",
   "metadata": {},
   "source": [
    "##### Pregunta 53\n",
    "¿Cuanto ingreso le generó la venta del producto 1 en la boleta 111 (tiene que empezar a usar JOINS y recordar que puede multiplicar columnas)?\n",
    "\n",
    "-[] 20\n",
    "\n",
    "-[] 50\n",
    "\n",
    "-[] 100\n",
    "\n",
    "-[X] 200"
   ]
  },
  {
   "cell_type": "code",
   "execution_count": 41,
   "id": "bef9b1f3",
   "metadata": {},
   "outputs": [
    {
     "name": "stdout",
     "output_type": "stream",
     "text": [
      "   ingreso\n",
      "0      200\n"
     ]
    }
   ],
   "source": [
    "read_df(cur,\"\"\"SELECT  \"Precio Unitario\"*Cantidad AS ingreso\n",
    "FROM productos\n",
    "JOIN detalleboleta using(Idproducto)\n",
    "WHERE Idproducto=1 AND Idboleta=111\n",
    "ORDER BY Idboleta;\"\"\")\n"
   ]
  },
  {
   "cell_type": "markdown",
   "id": "7bc1d63e",
   "metadata": {},
   "source": [
    "##### Pregunta 54\n",
    "¿Cuanto ha vendido del producto Aqua (en cantidades) en todas sus boletas?\n",
    "\n",
    "-[] 10\n",
    "\n",
    "-[] 6\n",
    "\n",
    "-[X] 5\n",
    "\n",
    "-[] 2"
   ]
  },
  {
   "cell_type": "code",
   "execution_count": 43,
   "id": "49bdd667",
   "metadata": {},
   "outputs": [
    {
     "name": "stdout",
     "output_type": "stream",
     "text": [
      "   SUM(Cantidad)\n",
      "0              5\n"
     ]
    }
   ],
   "source": [
    "read_df(cur,\"\"\"SELECT  SUM(Cantidad)\n",
    "FROM productos\n",
    "JOIN detalleboleta using(Idproducto)\n",
    "WHERE Descripción='Aqua'\n",
    "ORDER BY Idboleta\n",
    ";\"\"\")"
   ]
  },
  {
   "cell_type": "markdown",
   "id": "1defab53",
   "metadata": {},
   "source": [
    "##### Pregunta 55\n",
    "¿Cuanto ingreso le generó la boleta 111?\n",
    "\n",
    "-[] 1700\n",
    "\n",
    "-[X] 1960\n",
    "\n",
    "-[] 2000\n",
    "\n",
    "-[] 2100"
   ]
  },
  {
   "cell_type": "code",
   "execution_count": 45,
   "id": "ae4dba79",
   "metadata": {},
   "outputs": [
    {
     "name": "stdout",
     "output_type": "stream",
     "text": [
      "   SUM(ingreso)\n",
      "0          1960\n"
     ]
    }
   ],
   "source": [
    "read_df(cur,\"\"\"SELECT SUM(ingreso)\n",
    "FROM\n",
    "(\n",
    "SELECT \"Precio Unitario\"*Cantidad AS ingreso\n",
    "FROM productos\n",
    "JOIN detalleboleta using(Idproducto)\n",
    "WHERE Idboleta=111\n",
    "ORDER BY Idboleta\n",
    ") AS a ;\"\"\")"
   ]
  },
  {
   "cell_type": "markdown",
   "id": "3b22309d",
   "metadata": {},
   "source": [
    "##### Pregunta 56\n",
    "¿Cuál boleta le generó sus mayores ingresos (ORDER BY y LIMIT le serán útiles)?\n",
    "\n",
    "-[] 111\n",
    "\n",
    "-[] 112\n",
    "\n",
    "-[X] 113\n",
    "\n",
    "-[] 114"
   ]
  },
  {
   "cell_type": "code",
   "execution_count": 47,
   "id": "24076f3b",
   "metadata": {},
   "outputs": [
    {
     "name": "stdout",
     "output_type": "stream",
     "text": [
      "   Idboleta\n",
      "0       113\n"
     ]
    }
   ],
   "source": [
    "read_df(cur,\"\"\"\n",
    "SELECT Idboleta\n",
    "FROM \n",
    "(\n",
    "SELECT Idboleta,SUM(ingreso) AS ingreso_boleta\n",
    "FROM\n",
    "(\n",
    "SELECT Idboleta,\"Precio Unitario\"*Cantidad AS ingreso\n",
    "FROM productos\n",
    "JOIN detalleboleta using(Idproducto)\n",
    "ORDER BY Idboleta\n",
    ") AS a\n",
    "GROUP BY Idboleta\n",
    "ORDER BY ingreso_boleta DESC\n",
    "LIMIT 1\n",
    ")AS B;\"\"\")"
   ]
  },
  {
   "cell_type": "markdown",
   "id": "d0ddad4e",
   "metadata": {},
   "source": [
    "##### Pregunta 57\n",
    "¿Quién es su mejor cliente o el que le genera los mayores ingresos (Tendrá que hacer varias JOINS)?\n",
    "\n",
    "-[] Álvaro\n",
    "\n",
    "-[] Simón\n",
    "\n",
    "-[X] Fede\n",
    "\n",
    "-[] Cami"
   ]
  },
  {
   "cell_type": "code",
   "execution_count": 48,
   "id": "5a6a397e",
   "metadata": {},
   "outputs": [
    {
     "name": "stdout",
     "output_type": "stream",
     "text": [
      "  Nombre\n",
      "0   Fede\n"
     ]
    }
   ],
   "source": [
    "read_df(cur,\"\"\"\n",
    "SELECT Nombre\n",
    "FROM clientes\n",
    "WHERE Idcliente IN \n",
    "(\n",
    "SELECT Idcliente\n",
    "FROM \n",
    "(\n",
    "SELECT Idcliente,SUM (ingreso) AS ingreso_cliente\n",
    "FROM\n",
    "(\n",
    "SELECT *,\"Precio Unitario\"*Cantidad AS ingreso\n",
    "FROM  detalleboleta \n",
    "JOIN productos using(Idproducto)\n",
    "JOIN ( \n",
    "SELECT  Idboleta ,REPLACE(Idcliente, ' ', '') AS Idcliente \n",
    "FROM\n",
    "boletas\n",
    ") using(Idboleta)\n",
    "JOIN (\n",
    "SELECT  REPLACE(Idcliente, ' ', '') AS Idcliente, Nombre \n",
    "FROM clientes\n",
    ") \n",
    "using(Idcliente)\n",
    ") AS a\n",
    "GROUP BY Idcliente\n",
    "ORDER BY ingreso_cliente DESC\n",
    "LIMIT 1\n",
    ") \n",
    ")\n",
    ";\"\"\")"
   ]
  },
  {
   "cell_type": "markdown",
   "id": "2ffe2584",
   "metadata": {},
   "source": [
    "##### Pregunta 58\n",
    "¿Cuanto le ha comprado (ingreso) Simon?\n",
    "\n",
    "-[] 1500\n",
    "\n",
    "-[] 2000\n",
    "\n",
    "-[] 3025\n",
    "\n",
    "-[X] 2270"
   ]
  },
  {
   "cell_type": "code",
   "execution_count": 50,
   "id": "93d69cc9",
   "metadata": {},
   "outputs": [
    {
     "name": "stdout",
     "output_type": "stream",
     "text": [
      "   ingreso_cliente\n",
      "0             2270\n"
     ]
    }
   ],
   "source": [
    "read_df(cur,\"\"\"\n",
    "SELECT ingreso_cliente\n",
    "FROM clientes\n",
    "JOIN\n",
    "(\n",
    "SELECT Idcliente,SUM (ingreso) AS ingreso_cliente\n",
    "FROM\n",
    "(\n",
    "SELECT *,\"Precio Unitario\"*Cantidad AS ingreso\n",
    "FROM  detalleboleta \n",
    "JOIN productos using(Idproducto)\n",
    "JOIN ( \n",
    "SELECT  Idboleta ,REPLACE(Idcliente, ' ', '') AS Idcliente \n",
    "FROM\n",
    "boletas\n",
    ") using(Idboleta)\n",
    "JOIN (\n",
    "SELECT  REPLACE(Idcliente, ' ', '') AS Idcliente, Nombre \n",
    "FROM clientes\n",
    ") \n",
    "using(Idcliente)\n",
    ") AS a\n",
    "GROUP BY Idcliente\n",
    "ORDER BY ingreso_cliente DESC\n",
    ") AS b USING(Idcliente)\n",
    "WHERE Nombre = 'Simon'\n",
    "\n",
    " ;\"\"\")"
   ]
  },
  {
   "cell_type": "markdown",
   "id": "e9b65931",
   "metadata": {},
   "source": [
    "##### Pregunta 59\n",
    "¿Cuanto ingreso le ha generado el producto Coke Sugary?\n",
    "\n",
    "-[] 2800\n",
    "\n",
    "-[] 3000\n",
    "\n",
    "-[X] 3200\n",
    "\n",
    "-[] 4000"
   ]
  },
  {
   "cell_type": "code",
   "execution_count": 52,
   "id": "ecd3eac7",
   "metadata": {},
   "outputs": [
    {
     "name": "stdout",
     "output_type": "stream",
     "text": [
      "   ingreso_prod\n",
      "0          3200\n"
     ]
    }
   ],
   "source": [
    "read_df(cur,\"\"\"SELECT ingreso_prod\n",
    "FROM\n",
    "(\n",
    "SELECT Idproducto,SUM (ingreso) AS ingreso_prod\n",
    "FROM\n",
    "(\n",
    "SELECT *,\"Precio Unitario\"*Cantidad AS ingreso\n",
    "FROM  detalleboleta \n",
    "JOIN productos using(Idproducto)\n",
    "JOIN ( \n",
    "SELECT  Idboleta ,REPLACE(Idcliente, ' ', '') AS Idcliente \n",
    "FROM\n",
    "boletas\n",
    ") using(Idboleta)\n",
    "JOIN (\n",
    "SELECT  REPLACE(Idcliente, ' ', '') AS Idcliente, Nombre \n",
    "FROM clientes\n",
    ") \n",
    "using(Idcliente)\n",
    ") AS a\n",
    "WHERE Descripción='Coke Sugary'\n",
    "GROUP BY Idproducto\n",
    "ORDER BY ingreso_prod DESC\n",
    ") as a\n",
    ";\"\"\")"
   ]
  },
  {
   "cell_type": "markdown",
   "id": "997dfc2d",
   "metadata": {},
   "source": [
    "##### Pregunta 60\n",
    "¿Cuanto ingreso le generaron los productos NOT Coke?\n",
    "\n",
    "-[X] 1370\n",
    "\n",
    "-[] 5000\n",
    "\n",
    "-[] 4000\n",
    "\n",
    "-[] 1380"
   ]
  },
  {
   "cell_type": "code",
   "execution_count": 53,
   "id": "6f42492b",
   "metadata": {},
   "outputs": [
    {
     "name": "stdout",
     "output_type": "stream",
     "text": [
      "   SUM(ingreso_prod)\n",
      "0               1370\n"
     ]
    }
   ],
   "source": [
    "read_df(cur,\"\"\"SELECT SUM(ingreso_prod)\n",
    "FROM\n",
    "(\n",
    "SELECT Idproducto,SUM (ingreso) AS ingreso_prod\n",
    "FROM\n",
    "(\n",
    "SELECT *,\"Precio Unitario\"*Cantidad AS ingreso\n",
    "FROM  detalleboleta \n",
    "JOIN productos using(Idproducto)\n",
    "JOIN ( \n",
    "SELECT  Idboleta ,REPLACE(Idcliente, ' ', '') AS Idcliente \n",
    "FROM\n",
    "boletas\n",
    ") using(Idboleta)\n",
    "JOIN (\n",
    "SELECT  REPLACE(Idcliente, ' ', '') AS Idcliente, Nombre \n",
    "FROM clientes\n",
    ") \n",
    "using(Idcliente)\n",
    ") AS a\n",
    "WHERE Descripción not like '%Coke%'\n",
    "GROUP BY Idproducto\n",
    "ORDER BY ingreso_prod DESC\n",
    ") as a;\"\"\")"
   ]
  },
  {
   "cell_type": "markdown",
   "id": "3c60acd3",
   "metadata": {},
   "source": [
    "# Desde aquí solo puede responder usando Subqueries"
   ]
  },
  {
   "cell_type": "markdown",
   "id": "6c0f6040",
   "metadata": {},
   "source": [
    "##### Pregunta 61\n",
    "¿Cuál es el Idboleta de boleta con el Máximo de Cantidad?\n",
    "\n",
    "-[] 111\n",
    "\n",
    "-[X] 112\n",
    "\n",
    "-[] 113\n",
    "\n",
    "-[] 116"
   ]
  },
  {
   "cell_type": "code",
   "execution_count": 54,
   "id": "08b46590",
   "metadata": {},
   "outputs": [
    {
     "name": "stdout",
     "output_type": "stream",
     "text": [
      "   Idboleta\n",
      "0       112\n"
     ]
    }
   ],
   "source": [
    "read_df(cur,\"\"\"SELECT Idboleta\n",
    "FROM detalleboleta\n",
    "WHERE Cantidad IN \n",
    "(\n",
    "SELECT MAX(CANTIDAD)\n",
    "FROM detalleboleta\n",
    ");\"\"\")"
   ]
  },
  {
   "cell_type": "markdown",
   "id": "c2652d58",
   "metadata": {},
   "source": [
    "##### Pregunta 62\n",
    "¿Cuál boleta le generó sus mayores ingresos ?\n",
    "\n",
    "-[] 111\n",
    "\n",
    "-[] 112\n",
    "\n",
    "-[x] 113\n",
    "\n",
    "-[] 114"
   ]
  },
  {
   "cell_type": "code",
   "execution_count": 55,
   "id": "6a65b1f7",
   "metadata": {},
   "outputs": [
    {
     "name": "stdout",
     "output_type": "stream",
     "text": [
      "   Idboleta  max(ingreso_boleta)\n",
      "0       113                 3030\n"
     ]
    }
   ],
   "source": [
    "read_df(cur,\"\"\"SELECT Idboleta,max(ingreso_boleta)\n",
    "FROM\n",
    "(\n",
    "SELECT Idboleta,sum(ingreso) ingreso_boleta\n",
    "FROM\n",
    "(\n",
    "SELECT Idboleta,\"Precio Unitario\"*Cantidad AS ingreso\n",
    "FROM  detalleboleta \n",
    "JOIN productos USING (Idproducto)\n",
    ")AS a\n",
    "GROUP BY Idboleta\n",
    ") ;\"\"\")"
   ]
  },
  {
   "cell_type": "markdown",
   "id": "f580e158",
   "metadata": {},
   "source": [
    "##### Pregunta 63\n",
    "¿Cuál es el producto Coke con el mayor precio?\n",
    "\n",
    "-[] Coke Zero\n",
    "\n",
    "-[] Coke Sugary\n",
    "\n",
    "-[X] Coke Light\n",
    "\n",
    "-[] Aqua"
   ]
  },
  {
   "cell_type": "code",
   "execution_count": 56,
   "id": "75b24ec1",
   "metadata": {},
   "outputs": [
    {
     "name": "stdout",
     "output_type": "stream",
     "text": [
      "  Descripción  max(\"Precio Unitario\")\n",
      "0  Coke Light                     300\n"
     ]
    }
   ],
   "source": [
    "read_df(cur,\"\"\"SELECT Descripción,max(\"Precio Unitario\")\n",
    "FROM productos\n",
    "WHERE Descripción IN\n",
    "(\n",
    "SELECT Descripción\n",
    "FROM productos\n",
    "WHERE Descripción LIKE '%Coke%' \n",
    ");\"\"\")\n",
    "\n",
    "# en esta NO es necesario subquery :/ Así que sobrecomplique la query solo para seguir instrucciones de arriba"
   ]
  },
  {
   "cell_type": "markdown",
   "id": "877da105",
   "metadata": {},
   "source": [
    "##### Pregunta 64\n",
    "¿Cuál es el producto NOT Coke con el menor precio?\n",
    "\n",
    "-[X] Aqua\n",
    "\n",
    "-[] Cookies Choc\n",
    "\n",
    "-[] Cookies Val\n",
    "\n",
    "-[] Cookies Deli"
   ]
  },
  {
   "cell_type": "code",
   "execution_count": 58,
   "id": "aaf4c43c",
   "metadata": {},
   "outputs": [
    {
     "name": "stdout",
     "output_type": "stream",
     "text": [
      "  Descripción  min(\"Precio Unitario\")\n",
      "0        Aqua                      10\n"
     ]
    }
   ],
   "source": [
    "read_df(cur,\"\"\"SELECT Descripción,min(\"Precio Unitario\")\n",
    "FROM productos\n",
    "WHERE Descripción IN\n",
    "(\n",
    "SELECT Descripción\n",
    "FROM productos\n",
    "WHERE Descripción not LIKE '%Coke%' \n",
    ")\n",
    "\"\"\")"
   ]
  },
  {
   "cell_type": "markdown",
   "id": "df3b787e",
   "metadata": {},
   "source": [
    "##### Pregunta 65\n",
    "¿Cuanto ingreso le ha generado el producto Coke Sugary?\n",
    "\n",
    "-[] 2800\n",
    "\n",
    "-[] 3000\n",
    "\n",
    "-[X] 3200\n",
    "\n",
    "-[] 4000"
   ]
  },
  {
   "cell_type": "code",
   "execution_count": 60,
   "id": "ee51ed67",
   "metadata": {},
   "outputs": [
    {
     "name": "stdout",
     "output_type": "stream",
     "text": [
      "   Ingreso_coke_sugary\n",
      "0                 3200\n"
     ]
    }
   ],
   "source": [
    "read_df(cur,\"\"\"SELECT SUM(ingreso) as Ingreso_coke_sugary\n",
    "FROM \n",
    "(\n",
    "SELECT *,\"Precio Unitario\"*Cantidad AS ingreso\n",
    "FROM  detalleboleta \n",
    "JOIN productos USING (Idproducto)\n",
    "WHERE Descripción = 'Coke Sugary'\n",
    ")AS a;\"\"\")"
   ]
  },
  {
   "cell_type": "markdown",
   "id": "1ef775dd",
   "metadata": {},
   "source": [
    "##### Pregunta 66\n",
    "¿Cuantas boletas vendieron una cantidad menor al promedio?\n",
    "\n",
    "-[] 1\n",
    "\n",
    "-[] 2\n",
    "\n",
    "-[X] 3\n",
    "\n",
    "-[] 4"
   ]
  },
  {
   "cell_type": "code",
   "execution_count": 62,
   "id": "93ddf001",
   "metadata": {},
   "outputs": [
    {
     "name": "stdout",
     "output_type": "stream",
     "text": [
      "   count(*)\n",
      "0         3\n"
     ]
    }
   ],
   "source": [
    "read_df(cur,\"\"\"\n",
    "SELECT count(*)\n",
    "FROM\n",
    "(\n",
    "SELECT Idboleta,sum(Cantidad) cantidad_x_boleta\n",
    "FROM\n",
    "detalleboleta\n",
    "GROUP BY Idboleta\n",
    ")\n",
    "WHERE cantidad_x_boleta <\n",
    "(\n",
    "SELECT avg(cantidad_x_boleta)\n",
    "FROM\n",
    "(\n",
    "SELECT Idboleta,sum(Cantidad) cantidad_x_boleta\n",
    "FROM detalleboleta\n",
    "GROUP BY Idboleta\n",
    ")\n",
    "\n",
    ") ;\"\"\")"
   ]
  },
  {
   "cell_type": "markdown",
   "id": "e7a01346",
   "metadata": {},
   "source": [
    "##### Pregunta 67\n",
    "¿Cuantos productos vendieron en alguna boleta una cantidad igual aa 1?\n",
    "\n",
    "-[X] 9\n",
    "\n",
    "-[] 10\n",
    "\n",
    "-[] 11\n",
    "\n",
    "-[] 12"
   ]
  },
  {
   "cell_type": "code",
   "execution_count": 64,
   "id": "490cbc01",
   "metadata": {},
   "outputs": [
    {
     "name": "stdout",
     "output_type": "stream",
     "text": [
      "   count(*)\n",
      "0         9\n"
     ]
    }
   ],
   "source": [
    "read_df(cur,\"\"\"SELECT count(*)\n",
    "FROM\n",
    "(\n",
    "SELECT Idboleta,Idproducto,sum(Cantidad) as  cantidad_x_producto_x_boleta\n",
    "FROM detalleboleta\n",
    "GROUP BY Idboleta,Idproducto\n",
    ")\n",
    "WHERE cantidad_x_producto_x_boleta=1;\"\"\")"
   ]
  },
  {
   "cell_type": "markdown",
   "id": "9002c1d3",
   "metadata": {},
   "source": [
    "##### Pregunta 68\n",
    "\n",
    "¿Cuantas boletas vendieron productos con una cantidad igual a 1?\n",
    "\n",
    "-[] 4\n",
    "\n",
    "-[X] 5\n",
    "\n",
    "-[] 9\n",
    "\n",
    "-[] 10"
   ]
  },
  {
   "cell_type": "code",
   "execution_count": 66,
   "id": "e3d4a342",
   "metadata": {},
   "outputs": [
    {
     "name": "stdout",
     "output_type": "stream",
     "text": [
      "   count(DISTINCT(Idboleta))\n",
      "0                          5\n"
     ]
    }
   ],
   "source": [
    "read_df(cur,\"\"\"SELECT count(DISTINCT(Idboleta))\n",
    "FROM\n",
    "(\n",
    "SELECT Idboleta,Idproducto,sum(Cantidad) as  cantidad_x_producto_x_boleta\n",
    "FROM detalleboleta\n",
    "GROUP BY Idboleta,Idproducto\n",
    ")\n",
    "WHERE cantidad_x_producto_x_boleta=1 ;\"\"\")"
   ]
  },
  {
   "cell_type": "markdown",
   "id": "8cd63896",
   "metadata": {},
   "source": [
    "##### Pregunta 69\n",
    "¿Cuál boleta le generó sus menores ingresos ?\n",
    "\n",
    "-[] 111\n",
    "\n",
    "-[] 112\n",
    "\n",
    "-[] 113\n",
    "\n",
    "-[X] 115"
   ]
  },
  {
   "cell_type": "code",
   "execution_count": 67,
   "id": "40a768da",
   "metadata": {},
   "outputs": [
    {
     "name": "stdout",
     "output_type": "stream",
     "text": [
      "   Idboleta  min(ingreso_x_boleta)\n",
      "0       115                     40\n"
     ]
    }
   ],
   "source": [
    "read_df(cur,\"\"\"SELECT Idboleta, min(ingreso_x_boleta)\n",
    "FROM \n",
    "(\n",
    "SELECT Idboleta, sum(ingreso) ingreso_x_boleta\n",
    "FROM\n",
    "(\n",
    "SELECT *,\"Precio Unitario\"*Cantidad AS ingreso\n",
    "FROM  detalleboleta \n",
    "JOIN productos USING (Idproducto)\n",
    ") AS a\n",
    "GROUP BY Idboleta\n",
    ");\"\"\")"
   ]
  },
  {
   "cell_type": "markdown",
   "id": "10231955",
   "metadata": {},
   "source": [
    "##### Pregunta 70\n",
    "¿Cuanto es el producto que le generó los mayores ingresos?\n",
    "\n",
    "-[X] Coke Sugary\n",
    "\n",
    "-[] Cookies Val\n",
    "\n",
    "-[] Aqua\n",
    "\n",
    "-[] Coke Light"
   ]
  },
  {
   "cell_type": "code",
   "execution_count": 69,
   "id": "0569389d",
   "metadata": {},
   "outputs": [
    {
     "name": "stdout",
     "output_type": "stream",
     "text": [
      "   Descripción\n",
      "0  Coke Sugary\n"
     ]
    }
   ],
   "source": [
    "read_df(cur,\"\"\"SELECT Descripción \n",
    "FROM productos\n",
    "JOIN \n",
    "(\n",
    "SELECT Idproducto,max(ingreso_producto)\n",
    "FROM\n",
    "(\n",
    "SELECT Idproducto,sum(ingreso) ingreso_producto\n",
    "FROM \n",
    "(\n",
    "SELECT *,\"Precio Unitario\"*Cantidad AS ingreso\n",
    "FROM  detalleboleta \n",
    "JOIN productos USING (Idproducto)\n",
    ")\n",
    "GROUP BY Idproducto\n",
    ")\n",
    ") USING (Idproducto)\n",
    " ;\"\"\")"
   ]
  },
  {
   "cell_type": "code",
   "execution_count": null,
   "id": "c40ec9b0",
   "metadata": {},
   "outputs": [],
   "source": []
  },
  {
   "cell_type": "code",
   "execution_count": null,
   "id": "bb28909b",
   "metadata": {},
   "outputs": [],
   "source": []
  }
 ],
 "metadata": {
  "kernelspec": {
   "display_name": "Python 3 (ipykernel)",
   "language": "python",
   "name": "python3"
  },
  "language_info": {
   "codemirror_mode": {
    "name": "ipython",
    "version": 3
   },
   "file_extension": ".py",
   "mimetype": "text/x-python",
   "name": "python",
   "nbconvert_exporter": "python",
   "pygments_lexer": "ipython3",
   "version": "3.11.4"
  }
 },
 "nbformat": 4,
 "nbformat_minor": 5
}
