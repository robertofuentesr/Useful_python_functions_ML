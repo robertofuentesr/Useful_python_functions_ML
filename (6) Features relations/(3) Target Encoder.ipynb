{
 "cells": [
  {
   "cell_type": "markdown",
   "id": "b8ca5cf5",
   "metadata": {},
   "source": [
    "# Introduction\n",
    "This is a series that I am very excited about. We are going to explore some unsupervised models, the main idea is to understand the X-space or the space of the feautures.\n",
    "\n",
    "All the other things we saw so far explore how feautures helps us make certain kind of predictions. And then we look deeper at the model itself and try to explain how those feauture impact the model (shap and permutation analysis).\n",
    "\n",
    "But we haven't stopped to analysis with greater care how all the feautures that make those predictions move together. That what we are going to explore here. Graph theory was the only exception, because with graph theory we understand the underlying pattern of connections.\n",
    "\n",
    "We already saw PCA and SVD. Now we are going to do something more subtle to the categorical variables, hopefully increasing their predicting power.\n",
    "\n",
    "In this notebook we are going to explore Target encoder.\n",
    "you can read more here: \n",
    "https://scikit-learn.org/stable/modules/generated/sklearn.preprocessing.TargetEncoder.html"
   ]
  },
  {
   "cell_type": "code",
   "execution_count": 1,
   "id": "739318ea",
   "metadata": {},
   "outputs": [
    {
     "name": "stdout",
     "output_type": "stream",
     "text": [
      "6\n"
     ]
    }
   ],
   "source": [
    "import plotly.io as pio\n",
    "pio.renderers.default = \"svg\"\n",
    "import os\n",
    "os.environ['OMP_NUM_THREADS'] = \"6\"\n",
    "print(os.environ['OMP_NUM_THREADS'])"
   ]
  },
  {
   "cell_type": "code",
   "execution_count": 2,
   "id": "9857f24d",
   "metadata": {},
   "outputs": [],
   "source": [
    "# import libraries\n",
    "import numpy as np\n",
    "import pandas as pd\n",
    "from sklearn.model_selection import train_test_split\n",
    "from sklearn.ensemble import RandomForestRegressor\n",
    "from sklearn.metrics import mean_absolute_error\n",
    "from sklearn.compose import ColumnTransformer\n",
    "from sklearn.impute import SimpleImputer\n",
    "from sklearn.pipeline import Pipeline\n",
    "from sklearn.preprocessing import OneHotEncoder\n",
    "from sklearn.model_selection import cross_val_score\n",
    "import matplotlib.pyplot as plt\n",
    "import plotly.express as px\n",
    "from sklearn.preprocessing import StandardScaler\n",
    "from sklearn.impute import KNNImputer\n",
    "# new library, we haven't used this one before in this repo\n",
    "from sklearn.preprocessing import TargetEncoder"
   ]
  },
  {
   "cell_type": "code",
   "execution_count": 3,
   "id": "6f50df04",
   "metadata": {},
   "outputs": [],
   "source": [
    "# Read the data\n",
    "# This data you can find here: https://www.kaggle.com/c/home-data-for-ml-course/data\n",
    "\n",
    "X_full = pd.read_csv('train.csv', index_col='Id')\n",
    "\n",
    "# SalePrice is the target, if there is no target eliminate row associated with it\n",
    "X_full.dropna(axis=0, subset=['SalePrice'], inplace=True)\n",
    "y = X_full.SalePrice\n",
    "X = X_full.copy()\n",
    "X.drop(['SalePrice'], axis=1, inplace=True)"
   ]
  },
  {
   "cell_type": "code",
   "execution_count": 4,
   "id": "27a63f6e",
   "metadata": {},
   "outputs": [],
   "source": [
    "def model_pipeline_score(X,\n",
    "                         y,\n",
    "                         n_estimators=369,\n",
    "                         cv=5,\n",
    "                         scoring='neg_mean_absolute_error',\n",
    "                         target_encoding='yes'):\n",
    "\n",
    "    \n",
    "    numerical_col = [col for col in X.columns if str(X[col].dtypes)!='object' ]\n",
    "    numerical_col_imputed = [col for col in numerical_col if X[col].isnull().any()==True]\n",
    "\n",
    "    categorical_col = [col for col in X.columns if str(X[col].dtypes)=='object' ]\n",
    "    categorical_col_imputed = [col for col in categorical_col if X[col].isnull().any()==True]\n",
    "\n",
    "    numerical_transformer = Pipeline(\n",
    "    steps=[(\"scaler\", StandardScaler()), (\"imputer\", KNNImputer(n_neighbors=3))\n",
    "      ]\n",
    "        )\n",
    "\n",
    "    if target_encoding ==\"no\":\n",
    "        categorical_transformer =  Pipeline(steps=[\n",
    "            ('imputer', SimpleImputer(missing_values=pd.NA, strategy='most_frequent')),\n",
    "            ('onehot', OneHotEncoder(handle_unknown='ignore'))\n",
    "        ])\n",
    "    elif target_encoding ==\"yes\":\n",
    "        categorical_transformer =  Pipeline(steps=[\n",
    "            ('encoder', TargetEncoder(smooth=\"auto\",target_type='continuous'))\n",
    "        ])\n",
    "        \n",
    "\n",
    "    preprocessor = ColumnTransformer(transformers=\n",
    "        [(\"numerical_transformer\", numerical_transformer, numerical_col_imputed),\n",
    "        (\"categorical_transformer\", categorical_transformer, categorical_col)],remainder='passthrough')\n",
    "\n",
    "    # Define model\n",
    "    model = RandomForestRegressor(n_estimators=n_estimators,random_state=0,n_jobs=-1)\n",
    "\n",
    "    # Bundle preprocessing and modeling code in a pipeline\n",
    "    pipe = Pipeline(steps=[('preprocessor', preprocessor),\n",
    "                          ('model', model)\n",
    "                         ])\n",
    "\n",
    "    \n",
    "    scores = -1 * cross_val_score(pipe, X, y,cv=cv,scoring=scoring)\n",
    "\n",
    "    return scores,pipe"
   ]
  },
  {
   "cell_type": "code",
   "execution_count": 5,
   "id": "a3ccfa99",
   "metadata": {},
   "outputs": [],
   "source": [
    "scores,pipe = model_pipeline_score(X,y,target_encoding='yes')"
   ]
  },
  {
   "cell_type": "code",
   "execution_count": 6,
   "id": "8ac07ae3",
   "metadata": {},
   "outputs": [
    {
     "data": {
      "text/plain": [
       "17257.85705720756"
      ]
     },
     "execution_count": 6,
     "metadata": {},
     "output_type": "execute_result"
    }
   ],
   "source": [
    "scores.mean()"
   ]
  },
  {
   "cell_type": "code",
   "execution_count": 7,
   "id": "6fe2d508",
   "metadata": {},
   "outputs": [],
   "source": [
    "#pipe"
   ]
  },
  {
   "cell_type": "code",
   "execution_count": 8,
   "id": "5d9f9c74",
   "metadata": {},
   "outputs": [],
   "source": [
    "scores,pipe  = model_pipeline_score(X,y,target_encoding='no')"
   ]
  },
  {
   "cell_type": "code",
   "execution_count": 9,
   "id": "fa48f8dd",
   "metadata": {},
   "outputs": [
    {
     "data": {
      "text/plain": [
       "17572.00848461224"
      ]
     },
     "execution_count": 9,
     "metadata": {},
     "output_type": "execute_result"
    }
   ],
   "source": [
    "scores.mean()"
   ]
  },
  {
   "cell_type": "code",
   "execution_count": 10,
   "id": "1a593af5",
   "metadata": {},
   "outputs": [],
   "source": [
    "#pipe"
   ]
  },
  {
   "cell_type": "markdown",
   "id": "86a609c4",
   "metadata": {},
   "source": [
    "This was interesting! we use target encoder in all columns and it seems it work better than one-hot encoding. We are going to play a little with the max cardinality to lower the mae even more!. So what we are going to do next is to use target enconding in categorical columns who has a high cardinality and not in others."
   ]
  },
  {
   "cell_type": "code",
   "execution_count": 11,
   "id": "8e6f881c",
   "metadata": {},
   "outputs": [],
   "source": [
    "def model_pipeline_score(X,\n",
    "                         y,\n",
    "                         n_estimators=369,\n",
    "                         cv=5,\n",
    "                         scoring='neg_mean_absolute_error',\n",
    "                         cardinaity_target=13):\n",
    "\n",
    "    \n",
    "    numerical_col = [col for col in X.columns if str(X[col].dtypes)!='object' ]\n",
    "    numerical_col_imputed = [col for col in numerical_col if X[col].isnull().any()==True]\n",
    "    enc_target = [col for col in list(X.columns) if str(X[col].dtypes)=='object' and len(X[col].unique())>=cardinaity_target ]\n",
    "   \n",
    "    all_categories = [col for col in list(X.columns) if str(X[col].dtypes)=='object']\n",
    "    col_encoding = [col for col in all_categories if col not in enc_target ]\n",
    "    \n",
    "   \n",
    "    numerical_transformer = Pipeline(\n",
    "    steps=[(\"scaler\", StandardScaler()), \n",
    "           (\"imputer\", KNNImputer(n_neighbors=3))\n",
    "          ])\n",
    "\n",
    "\n",
    "\n",
    "    target_transformer =  Pipeline(steps=[\n",
    "        ('encoder', TargetEncoder(smooth=\"auto\",target_type='continuous'))\n",
    "    ])\n",
    "        \n",
    "    categorical_transformer =  Pipeline(\n",
    "        steps=[('imputer', SimpleImputer(missing_values=pd.NA, strategy='most_frequent')),\n",
    "        ('onehot', OneHotEncoder(handle_unknown='ignore'))\n",
    "    ])    \n",
    "\n",
    "    preprocessor = ColumnTransformer(transformers=\n",
    "        [(\"numerical_transformer\", numerical_transformer, numerical_col_imputed),\n",
    "         (\"target_transformer\", target_transformer, enc_target),\n",
    "        (\"categorical_transformer\", categorical_transformer, col_encoding)\n",
    "        ], remainder='passthrough')\n",
    "\n",
    "    # Define model\n",
    "    model = RandomForestRegressor(n_estimators=n_estimators,random_state=0,n_jobs=-1)\n",
    "\n",
    "    # Bundle preprocessing and modeling code in a pipeline\n",
    "    pipe = Pipeline(steps=[('preprocessor', preprocessor),\n",
    "                          ('model', model)\n",
    "                         ])\n",
    "\n",
    "    \n",
    "    scores = -1 * cross_val_score(pipe, X, y,cv=cv,scoring=scoring)\n",
    "\n",
    "    return scores,pipe"
   ]
  },
  {
   "cell_type": "code",
   "execution_count": 12,
   "id": "964daa73",
   "metadata": {},
   "outputs": [],
   "source": [
    "dict_variable_encoder = {}\n",
    "for number in range(0,len(X.Neighborhood.unique())+3,3):\n",
    "    best_number = 100\n",
    "    min_score = 19000\n",
    "    scores,pipe = model_pipeline_score(X,y,cardinaity_target=number)\n",
    "    dict_variable_encoder[str(number)] = scores.mean()"
   ]
  },
  {
   "cell_type": "code",
   "execution_count": 13,
   "id": "d2f00c63",
   "metadata": {},
   "outputs": [
    {
     "data": {
      "text/plain": [
       "{'0': 17240.461109254928,\n",
       " '3': 17283.05768830976,\n",
       " '6': 17347.418170174853,\n",
       " '9': 17278.01908341686,\n",
       " '12': 17263.70100976352,\n",
       " '15': 17260.780860897656,\n",
       " '18': 17221.663154768532,\n",
       " '21': 17245.956324015293,\n",
       " '24': 17242.707270668598,\n",
       " '27': 17572.00848461224}"
      ]
     },
     "execution_count": 13,
     "metadata": {},
     "output_type": "execute_result"
    }
   ],
   "source": [
    "dict_variable_encoder"
   ]
  },
  {
   "cell_type": "code",
   "execution_count": 20,
   "id": "abbb0e1b",
   "metadata": {},
   "outputs": [],
   "source": [
    "best_cardinality = min(dict_variable_encoder, key=dict_variable_encoder.get)\n",
    "best_score = dict_variable_encoder[best_cardinality]"
   ]
  },
  {
   "cell_type": "code",
   "execution_count": 14,
   "id": "3a962336",
   "metadata": {},
   "outputs": [
    {
     "data": {
      "text/html": [
       "<div>\n",
       "<style scoped>\n",
       "    .dataframe tbody tr th:only-of-type {\n",
       "        vertical-align: middle;\n",
       "    }\n",
       "\n",
       "    .dataframe tbody tr th {\n",
       "        vertical-align: top;\n",
       "    }\n",
       "\n",
       "    .dataframe thead th {\n",
       "        text-align: right;\n",
       "    }\n",
       "</style>\n",
       "<table border=\"1\" class=\"dataframe\">\n",
       "  <thead>\n",
       "    <tr style=\"text-align: right;\">\n",
       "      <th></th>\n",
       "      <th>cardinality</th>\n",
       "      <th>score_mae</th>\n",
       "    </tr>\n",
       "  </thead>\n",
       "  <tbody>\n",
       "    <tr>\n",
       "      <th>0</th>\n",
       "      <td>0</td>\n",
       "      <td>17240.461109</td>\n",
       "    </tr>\n",
       "    <tr>\n",
       "      <th>1</th>\n",
       "      <td>3</td>\n",
       "      <td>17283.057688</td>\n",
       "    </tr>\n",
       "  </tbody>\n",
       "</table>\n",
       "</div>"
      ],
      "text/plain": [
       "  cardinality     score_mae\n",
       "0           0  17240.461109\n",
       "1           3  17283.057688"
      ]
     },
     "execution_count": 14,
     "metadata": {},
     "output_type": "execute_result"
    }
   ],
   "source": [
    "df_cardinality = pd.DataFrame({\"cardinality\" : list(dict_variable_encoder.keys()), \n",
    "                               \"score_mae\": list(dict_variable_encoder.values())})\n",
    "df_cardinality.head(2)"
   ]
  },
  {
   "cell_type": "code",
   "execution_count": 21,
   "id": "9c507f89",
   "metadata": {},
   "outputs": [
    {
     "name": "stdout",
     "output_type": "stream",
     "text": [
      "best cut in the cardinality to start using target encoders: 18, score_min_mae 17221.663154768532\n"
     ]
    },
    {
     "data": {
      "image/svg+xml": [
       "<svg class=\"main-svg\" xmlns=\"http://www.w3.org/2000/svg\" xmlns:xlink=\"http://www.w3.org/1999/xlink\" width=\"700\" height=\"500\" style=\"\" viewBox=\"0 0 700 500\"><rect x=\"0\" y=\"0\" width=\"700\" height=\"500\" style=\"fill: rgb(255, 255, 255); fill-opacity: 1;\"/><defs id=\"defs-5ae43f\"><g class=\"clips\"><clipPath id=\"clip5ae43fxyplot\" class=\"plotclip\"><rect width=\"540\" height=\"320\"/></clipPath><clipPath class=\"axesclip\" id=\"clip5ae43fx\"><rect x=\"80\" y=\"0\" width=\"540\" height=\"500\"/></clipPath><clipPath class=\"axesclip\" id=\"clip5ae43fy\"><rect x=\"0\" y=\"100\" width=\"700\" height=\"320\"/></clipPath><clipPath class=\"axesclip\" id=\"clip5ae43fxy\"><rect x=\"80\" y=\"100\" width=\"540\" height=\"320\"/></clipPath></g><g class=\"gradients\"/><g class=\"patterns\"/></defs><g class=\"bglayer\"><rect class=\"bg\" x=\"80\" y=\"100\" width=\"540\" height=\"320\" style=\"fill: rgb(229, 236, 246); fill-opacity: 1; stroke-width: 0;\"/></g><g class=\"layer-below\"><g class=\"imagelayer\"/><g class=\"shapelayer\"/></g><g class=\"cartesianlayer\"><g class=\"subplot xy\"><g class=\"layer-subplot\"><g class=\"shapelayer\"/><g class=\"imagelayer\"/></g><g class=\"minor-gridlayer\"><g class=\"x\"/><g class=\"y\"/></g><g class=\"gridlayer\"><g class=\"x\"><path class=\"xgrid crisp\" transform=\"translate(140,0)\" d=\"M0,100v320\" style=\"stroke: rgb(255, 255, 255); stroke-opacity: 1; stroke-width: 1px;\"/><path class=\"xgrid crisp\" transform=\"translate(200,0)\" d=\"M0,100v320\" style=\"stroke: rgb(255, 255, 255); stroke-opacity: 1; stroke-width: 1px;\"/><path class=\"xgrid crisp\" transform=\"translate(260,0)\" d=\"M0,100v320\" style=\"stroke: rgb(255, 255, 255); stroke-opacity: 1; stroke-width: 1px;\"/><path class=\"xgrid crisp\" transform=\"translate(320,0)\" d=\"M0,100v320\" style=\"stroke: rgb(255, 255, 255); stroke-opacity: 1; stroke-width: 1px;\"/><path class=\"xgrid crisp\" transform=\"translate(380,0)\" d=\"M0,100v320\" style=\"stroke: rgb(255, 255, 255); stroke-opacity: 1; stroke-width: 1px;\"/><path class=\"xgrid crisp\" transform=\"translate(440,0)\" d=\"M0,100v320\" style=\"stroke: rgb(255, 255, 255); stroke-opacity: 1; stroke-width: 1px;\"/><path class=\"xgrid crisp\" transform=\"translate(500,0)\" d=\"M0,100v320\" style=\"stroke: rgb(255, 255, 255); stroke-opacity: 1; stroke-width: 1px;\"/><path class=\"xgrid crisp\" transform=\"translate(560,0)\" d=\"M0,100v320\" style=\"stroke: rgb(255, 255, 255); stroke-opacity: 1; stroke-width: 1px;\"/></g><g class=\"y\"><path class=\"ygrid crisp\" transform=\"translate(0,380.71)\" d=\"M80,0h540\" style=\"stroke: rgb(255, 255, 255); stroke-opacity: 1; stroke-width: 1px;\"/><path class=\"ygrid crisp\" transform=\"translate(0,339.6)\" d=\"M80,0h540\" style=\"stroke: rgb(255, 255, 255); stroke-opacity: 1; stroke-width: 1px;\"/><path class=\"ygrid crisp\" transform=\"translate(0,298.5)\" d=\"M80,0h540\" style=\"stroke: rgb(255, 255, 255); stroke-opacity: 1; stroke-width: 1px;\"/><path class=\"ygrid crisp\" transform=\"translate(0,257.4)\" d=\"M80,0h540\" style=\"stroke: rgb(255, 255, 255); stroke-opacity: 1; stroke-width: 1px;\"/><path class=\"ygrid crisp\" transform=\"translate(0,216.3)\" d=\"M80,0h540\" style=\"stroke: rgb(255, 255, 255); stroke-opacity: 1; stroke-width: 1px;\"/><path class=\"ygrid crisp\" transform=\"translate(0,175.19)\" d=\"M80,0h540\" style=\"stroke: rgb(255, 255, 255); stroke-opacity: 1; stroke-width: 1px;\"/><path class=\"ygrid crisp\" transform=\"translate(0,134.09)\" d=\"M80,0h540\" style=\"stroke: rgb(255, 255, 255); stroke-opacity: 1; stroke-width: 1px;\"/></g></g><g class=\"zerolinelayer\"/><path class=\"xlines-below\"/><path class=\"ylines-below\"/><g class=\"overlines-below\"/><g class=\"xaxislayer-below\"/><g class=\"yaxislayer-below\"/><g class=\"overaxes-below\"/><g class=\"plot\" transform=\"translate(80,100)\" clip-path=\"url(#clip5ae43fxyplot)\"><g class=\"scatterlayer mlayer\"><g class=\"trace scatter traced89747\" style=\"stroke-miterlimit: 2; opacity: 1;\"><g class=\"fills\"/><g class=\"errorbars\"/><g class=\"lines\"><path class=\"js-line\" d=\"M0,288.55L60,253.53L120,200.62L180,257.67L240,269.44L300,271.84L360,304L420,284.03L480,286.7L540,16\" style=\"vector-effect: non-scaling-stroke; fill: none; stroke: rgb(99, 110, 250); stroke-opacity: 1; stroke-width: 2px; opacity: 1;\"/></g><g class=\"points\"/><g class=\"text\"/></g></g></g><g class=\"overplot\"/><path class=\"xlines-above crisp\" d=\"M0,0\" style=\"fill: none;\"/><path class=\"ylines-above crisp\" d=\"M0,0\" style=\"fill: none;\"/><g class=\"overlines-above\"/><g class=\"xaxislayer-above\"><g class=\"xtick\"><text text-anchor=\"middle\" x=\"0\" y=\"433\" transform=\"translate(80,0)\" style=\"font-family: 'Open Sans', verdana, arial, sans-serif; font-size: 12px; fill: rgb(42, 63, 95); fill-opacity: 1; white-space: pre; opacity: 1;\">0</text></g><g class=\"xtick\"><text text-anchor=\"middle\" x=\"0\" y=\"433\" transform=\"translate(140,0)\" style=\"font-family: 'Open Sans', verdana, arial, sans-serif; font-size: 12px; fill: rgb(42, 63, 95); fill-opacity: 1; white-space: pre; opacity: 1;\">3</text></g><g class=\"xtick\"><text text-anchor=\"middle\" x=\"0\" y=\"433\" transform=\"translate(200,0)\" style=\"font-family: 'Open Sans', verdana, arial, sans-serif; font-size: 12px; fill: rgb(42, 63, 95); fill-opacity: 1; white-space: pre; opacity: 1;\">6</text></g><g class=\"xtick\"><text text-anchor=\"middle\" x=\"0\" y=\"433\" transform=\"translate(260,0)\" style=\"font-family: 'Open Sans', verdana, arial, sans-serif; font-size: 12px; fill: rgb(42, 63, 95); fill-opacity: 1; white-space: pre; opacity: 1;\">9</text></g><g class=\"xtick\"><text text-anchor=\"middle\" x=\"0\" y=\"433\" transform=\"translate(320,0)\" style=\"font-family: 'Open Sans', verdana, arial, sans-serif; font-size: 12px; fill: rgb(42, 63, 95); fill-opacity: 1; white-space: pre; opacity: 1;\">12</text></g><g class=\"xtick\"><text text-anchor=\"middle\" x=\"0\" y=\"433\" transform=\"translate(380,0)\" style=\"font-family: 'Open Sans', verdana, arial, sans-serif; font-size: 12px; fill: rgb(42, 63, 95); fill-opacity: 1; white-space: pre; opacity: 1;\">15</text></g><g class=\"xtick\"><text text-anchor=\"middle\" x=\"0\" y=\"433\" transform=\"translate(440,0)\" style=\"font-family: 'Open Sans', verdana, arial, sans-serif; font-size: 12px; fill: rgb(42, 63, 95); fill-opacity: 1; white-space: pre; opacity: 1;\">18</text></g><g class=\"xtick\"><text text-anchor=\"middle\" x=\"0\" y=\"433\" transform=\"translate(500,0)\" style=\"font-family: 'Open Sans', verdana, arial, sans-serif; font-size: 12px; fill: rgb(42, 63, 95); fill-opacity: 1; white-space: pre; opacity: 1;\">21</text></g><g class=\"xtick\"><text text-anchor=\"middle\" x=\"0\" y=\"433\" transform=\"translate(560,0)\" style=\"font-family: 'Open Sans', verdana, arial, sans-serif; font-size: 12px; fill: rgb(42, 63, 95); fill-opacity: 1; white-space: pre; opacity: 1;\">24</text></g><g class=\"xtick\"><text text-anchor=\"middle\" x=\"0\" y=\"433\" transform=\"translate(620,0)\" style=\"font-family: 'Open Sans', verdana, arial, sans-serif; font-size: 12px; fill: rgb(42, 63, 95); fill-opacity: 1; white-space: pre; opacity: 1;\">27</text></g></g><g class=\"yaxislayer-above\"><g class=\"ytick\"><text text-anchor=\"end\" x=\"79\" y=\"4.199999999999999\" transform=\"translate(0,380.71)\" style=\"font-family: 'Open Sans', verdana, arial, sans-serif; font-size: 12px; fill: rgb(42, 63, 95); fill-opacity: 1; white-space: pre; opacity: 1;\">17.25k</text></g><g class=\"ytick\"><text text-anchor=\"end\" x=\"79\" y=\"4.199999999999999\" style=\"font-family: 'Open Sans', verdana, arial, sans-serif; font-size: 12px; fill: rgb(42, 63, 95); fill-opacity: 1; white-space: pre; opacity: 1;\" transform=\"translate(0,339.6)\">17.3k</text></g><g class=\"ytick\"><text text-anchor=\"end\" x=\"79\" y=\"4.199999999999999\" style=\"font-family: 'Open Sans', verdana, arial, sans-serif; font-size: 12px; fill: rgb(42, 63, 95); fill-opacity: 1; white-space: pre; opacity: 1;\" transform=\"translate(0,298.5)\">17.35k</text></g><g class=\"ytick\"><text text-anchor=\"end\" x=\"79\" y=\"4.199999999999999\" style=\"font-family: 'Open Sans', verdana, arial, sans-serif; font-size: 12px; fill: rgb(42, 63, 95); fill-opacity: 1; white-space: pre; opacity: 1;\" transform=\"translate(0,257.4)\">17.4k</text></g><g class=\"ytick\"><text text-anchor=\"end\" x=\"79\" y=\"4.199999999999999\" style=\"font-family: 'Open Sans', verdana, arial, sans-serif; font-size: 12px; fill: rgb(42, 63, 95); fill-opacity: 1; white-space: pre; opacity: 1;\" transform=\"translate(0,216.3)\">17.45k</text></g><g class=\"ytick\"><text text-anchor=\"end\" x=\"79\" y=\"4.199999999999999\" style=\"font-family: 'Open Sans', verdana, arial, sans-serif; font-size: 12px; fill: rgb(42, 63, 95); fill-opacity: 1; white-space: pre; opacity: 1;\" transform=\"translate(0,175.19)\">17.5k</text></g><g class=\"ytick\"><text text-anchor=\"end\" x=\"79\" y=\"4.199999999999999\" style=\"font-family: 'Open Sans', verdana, arial, sans-serif; font-size: 12px; fill: rgb(42, 63, 95); fill-opacity: 1; white-space: pre; opacity: 1;\" transform=\"translate(0,134.09)\">17.55k</text></g></g><g class=\"overaxes-above\"/></g></g><g class=\"polarlayer\"/><g class=\"smithlayer\"/><g class=\"ternarylayer\"/><g class=\"geolayer\"/><g class=\"funnelarealayer\"/><g class=\"pielayer\"/><g class=\"iciclelayer\"/><g class=\"treemaplayer\"/><g class=\"sunburstlayer\"/><g class=\"glimages\"/><defs id=\"topdefs-5ae43f\"><g class=\"clips\"/></defs><g class=\"layer-above\"><g class=\"imagelayer\"/><g class=\"shapelayer\"/></g><g class=\"infolayer\"><g class=\"g-gtitle\"><text class=\"gtitle\" x=\"35\" y=\"50\" text-anchor=\"start\" dy=\"0em\" style=\"font-family: 'Open Sans', verdana, arial, sans-serif; font-size: 17px; fill: rgb(42, 63, 95); opacity: 1; font-weight: normal; white-space: pre;\">cardinality needed to use target encoder / otherwise use one-hot-encoding</text></g><g class=\"g-xtitle\"><text class=\"xtitle\" x=\"350\" y=\"460.8\" text-anchor=\"middle\" style=\"font-family: 'Open Sans', verdana, arial, sans-serif; font-size: 14px; fill: rgb(42, 63, 95); opacity: 1; font-weight: normal; white-space: pre;\">cardinality</text></g><g class=\"g-ytitle\" transform=\"translate(1.7841796875,0)\"><text class=\"ytitle\" transform=\"rotate(-90,12.215625000000003,260)\" x=\"12.215625000000003\" y=\"260\" text-anchor=\"middle\" style=\"font-family: 'Open Sans', verdana, arial, sans-serif; font-size: 14px; fill: rgb(42, 63, 95); opacity: 1; font-weight: normal; white-space: pre;\">score_mae</text></g></g></svg>"
      ]
     },
     "metadata": {},
     "output_type": "display_data"
    }
   ],
   "source": [
    "print(f\"best cut in the cardinality to start using target encoders: {best_cardinality}, score_min_mae {best_score}\")\n",
    "fig = px.line(df_cardinality, x=\"cardinality\", y=\"score_mae\", title='cardinality needed to use target encoder / otherwise use one-hot-encoding')\n",
    "fig.show()"
   ]
  },
  {
   "cell_type": "markdown",
   "id": "7846e189",
   "metadata": {},
   "source": [
    "Notice that 0 means we are just using target encoder. This approach seems to yield excelent results but not the best. The best result we get it when we use this approach only on the high cardinality value.\n",
    "\n",
    "There are some caractheristic shown in this graph that are quite strange and not expected. It looks like when we use target encoder in all the categori]cal variables gives us better result than when we use one-hot-encoding in a subset of low cardinality. This can be a result of the simple imputer. Notice that the target encoder treats null or missing values as a new category and it give a value giving the relationship with y. So maybe it is not so strange. So maybe we should look for a way to choose between both imputer for each variable to se if we can improve further these results! "
   ]
  },
  {
   "cell_type": "code",
   "execution_count": 16,
   "id": "e6bc6a74",
   "metadata": {},
   "outputs": [
    {
     "data": {
      "text/plain": [
       "25"
      ]
     },
     "execution_count": 16,
     "metadata": {},
     "output_type": "execute_result"
    }
   ],
   "source": [
    "len(X.Neighborhood.unique())"
   ]
  },
  {
   "cell_type": "markdown",
   "id": "873603d0",
   "metadata": {},
   "source": [
    "We just obtain the best MAE we have got so far! \n",
    "Notice the best MAE it just happened to be the one that uses TargetEncoder with columns with high cardinality."
   ]
  },
  {
   "cell_type": "code",
   "execution_count": 27,
   "id": "8f6391cd",
   "metadata": {},
   "outputs": [
    {
     "data": {
      "text/plain": [
       "['Neighborhood']"
      ]
     },
     "execution_count": 27,
     "metadata": {},
     "output_type": "execute_result"
    }
   ],
   "source": [
    "numerical_col = [col for col in X.columns if str(X[col].dtypes)!='object' ]\n",
    "numerical_col_imputed = [col for col in numerical_col if X[col].isnull().any()==True]\n",
    "enc_target = [col for col in list(X.columns) if str(X[col].dtypes)=='object' and len(X[col].unique())>=18 ]\n",
    "\n",
    "all_categories = [col for col in list(X.columns) if str(X[col].dtypes)=='object']\n",
    "col_encoding = [col for col in all_categories if col not in enc_target ]\n",
    "\n",
    "enc_target"
   ]
  },
  {
   "cell_type": "code",
   "execution_count": 28,
   "id": "8f421970",
   "metadata": {},
   "outputs": [
    {
     "data": {
      "text/plain": [
       "['MSZoning',\n",
       " 'Street',\n",
       " 'Alley',\n",
       " 'LotShape',\n",
       " 'LandContour',\n",
       " 'Utilities',\n",
       " 'LotConfig',\n",
       " 'LandSlope',\n",
       " 'Condition1',\n",
       " 'Condition2',\n",
       " 'BldgType',\n",
       " 'HouseStyle',\n",
       " 'RoofStyle',\n",
       " 'RoofMatl',\n",
       " 'Exterior1st',\n",
       " 'Exterior2nd',\n",
       " 'MasVnrType',\n",
       " 'ExterQual',\n",
       " 'ExterCond',\n",
       " 'Foundation',\n",
       " 'BsmtQual',\n",
       " 'BsmtCond',\n",
       " 'BsmtExposure',\n",
       " 'BsmtFinType1',\n",
       " 'BsmtFinType2',\n",
       " 'Heating',\n",
       " 'HeatingQC',\n",
       " 'CentralAir',\n",
       " 'Electrical',\n",
       " 'KitchenQual',\n",
       " 'Functional',\n",
       " 'FireplaceQu',\n",
       " 'GarageType',\n",
       " 'GarageFinish',\n",
       " 'GarageQual',\n",
       " 'GarageCond',\n",
       " 'PavedDrive',\n",
       " 'PoolQC',\n",
       " 'Fence',\n",
       " 'MiscFeature',\n",
       " 'SaleType',\n",
       " 'SaleCondition']"
      ]
     },
     "execution_count": 28,
     "metadata": {},
     "output_type": "execute_result"
    }
   ],
   "source": [
    "col_encoding"
   ]
  },
  {
   "cell_type": "markdown",
   "id": "0f843648",
   "metadata": {},
   "source": [
    "Notice the best transform uses only one column as TargetEncoder who has more than 18 types of neighborhoods."
   ]
  },
  {
   "cell_type": "code",
   "execution_count": null,
   "id": "f73efdcf",
   "metadata": {},
   "outputs": [],
   "source": []
  }
 ],
 "metadata": {
  "kernelspec": {
   "display_name": "Python 3 (ipykernel)",
   "language": "python",
   "name": "python3"
  },
  "language_info": {
   "codemirror_mode": {
    "name": "ipython",
    "version": 3
   },
   "file_extension": ".py",
   "mimetype": "text/x-python",
   "name": "python",
   "nbconvert_exporter": "python",
   "pygments_lexer": "ipython3",
   "version": "3.11.4"
  }
 },
 "nbformat": 4,
 "nbformat_minor": 5
}
