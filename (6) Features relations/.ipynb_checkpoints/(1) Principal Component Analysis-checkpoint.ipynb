{
 "cells": [
  {
   "cell_type": "markdown",
   "id": "711da610",
   "metadata": {},
   "source": [
    "## Introduction\n",
    "\n",
    "This is a series that I am very excited about. We are going to explore some unsupervised models, the main idea is to understand the X-space or the space of the feautures.\n",
    "\n",
    "All the other things we saw so far explore how feautures helps us make certain kind of predictions. And then we look deeper at the model itself and try to explain how those feauture impact the model (shap and permutation analysis).\n",
    "\n",
    "But we haven't stopped to analysis with greater care how all the feautures that make those predictions move together. That what we are going to explore here.\n",
    "Graph theory was the only exception, because with graph theory we understand the underlying pattern of connections.\n",
    "\n",
    "We are going to start with PCA."
   ]
  },
  {
   "cell_type": "code",
   "execution_count": 1,
   "id": "c74bd7b2",
   "metadata": {},
   "outputs": [],
   "source": [
    "# import libraries\n",
    "import numpy as np\n",
    "import pandas as pd\n",
    "from sklearn.model_selection import train_test_split\n",
    "from sklearn.ensemble import RandomForestRegressor\n",
    "from sklearn.metrics import mean_absolute_error\n",
    "from sklearn.compose import ColumnTransformer\n",
    "from sklearn.impute import SimpleImputer\n",
    "from sklearn.pipeline import Pipeline\n",
    "from sklearn.preprocessing import OneHotEncoder\n",
    "from sklearn.model_selection import cross_val_score\n",
    "import matplotlib.pyplot as plt\n",
    "\n",
    "from sklearn.preprocessing import StandardScaler\n",
    "from sklearn.impute import KNNImputer\n",
    "# new library, we haven't used this one before in this repo\n",
    "from sklearn.decomposition import PCA\n"
   ]
  },
  {
   "cell_type": "code",
   "execution_count": 2,
   "id": "255b28d8",
   "metadata": {},
   "outputs": [],
   "source": [
    "# Read the data\n",
    "# This data you can find here: https://www.kaggle.com/c/home-data-for-ml-course/data\n",
    "\n",
    "X_full = pd.read_csv('train.csv', index_col='Id')\n",
    "\n",
    "# SalePrice is the target, if there is no target eliminate row associated with it\n",
    "X_full.dropna(axis=0, subset=['SalePrice'], inplace=True)\n",
    "y = X_full.SalePrice\n",
    "X = X_full.copy()\n",
    "X.drop(['SalePrice'], axis=1, inplace=True)"
   ]
  },
  {
   "cell_type": "code",
   "execution_count": 3,
   "id": "1497f8de",
   "metadata": {},
   "outputs": [],
   "source": [
    "def transforming(X):\n",
    "    \n",
    "    # for PCA it is best to scale all numerical values.\n",
    "    \n",
    "    numerical_col = [col for col in X.columns if str(X[col].dtypes)!='object' ]\n",
    "    \n",
    "    \n",
    "\n",
    "    numerical_transformer = Pipeline(\n",
    "    steps=[(\"scaler\", StandardScaler()), (\"imputer\", KNNImputer(n_neighbors=3))\n",
    "      ]\n",
    "        )\n",
    "\n",
    "\n",
    "    preprocessor = ColumnTransformer(transformers=\n",
    "        [(\"numerical_transformer\", numerical_transformer, numerical_col)],remainder='drop')\n",
    "\n",
    "\n",
    "\n",
    "    # Create principal components\n",
    "    pca = PCA()\n",
    "    \n",
    "    # Bundle preprocessing and modeling code in a pipeline\n",
    "    pipe = Pipeline(steps=[('preprocessor', preprocessor),\n",
    "                          ('model', pca)\n",
    "                         ])\n",
    "\n",
    "    \n",
    "    X_pca = pipe.fit_transform(X)\n",
    "    \n",
    "    return  X_pca,pipe['model'] , numerical_col"
   ]
  },
  {
   "cell_type": "code",
   "execution_count": 4,
   "id": "c85ee9bd",
   "metadata": {},
   "outputs": [],
   "source": [
    "X_pca,pca, numerical_col = transforming(X)"
   ]
  },
  {
   "cell_type": "code",
   "execution_count": 5,
   "id": "677a1f35",
   "metadata": {},
   "outputs": [
    {
     "data": {
      "text/html": [
       "<div>\n",
       "<style scoped>\n",
       "    .dataframe tbody tr th:only-of-type {\n",
       "        vertical-align: middle;\n",
       "    }\n",
       "\n",
       "    .dataframe tbody tr th {\n",
       "        vertical-align: top;\n",
       "    }\n",
       "\n",
       "    .dataframe thead th {\n",
       "        text-align: right;\n",
       "    }\n",
       "</style>\n",
       "<table border=\"1\" class=\"dataframe\">\n",
       "  <thead>\n",
       "    <tr style=\"text-align: right;\">\n",
       "      <th></th>\n",
       "      <th>PC1</th>\n",
       "      <th>PC2</th>\n",
       "      <th>PC3</th>\n",
       "      <th>PC4</th>\n",
       "      <th>PC5</th>\n",
       "      <th>PC6</th>\n",
       "      <th>PC7</th>\n",
       "      <th>PC8</th>\n",
       "      <th>PC9</th>\n",
       "      <th>PC10</th>\n",
       "      <th>...</th>\n",
       "      <th>PC27</th>\n",
       "      <th>PC28</th>\n",
       "      <th>PC29</th>\n",
       "      <th>PC30</th>\n",
       "      <th>PC31</th>\n",
       "      <th>PC32</th>\n",
       "      <th>PC33</th>\n",
       "      <th>PC34</th>\n",
       "      <th>PC35</th>\n",
       "      <th>PC36</th>\n",
       "    </tr>\n",
       "  </thead>\n",
       "  <tbody>\n",
       "    <tr>\n",
       "      <th>0</th>\n",
       "      <td>1.496455</td>\n",
       "      <td>0.326994</td>\n",
       "      <td>-1.697896</td>\n",
       "      <td>-1.934307</td>\n",
       "      <td>0.504198</td>\n",
       "      <td>-1.186464</td>\n",
       "      <td>-0.761461</td>\n",
       "      <td>-0.240933</td>\n",
       "      <td>-0.561244</td>\n",
       "      <td>-0.035534</td>\n",
       "      <td>...</td>\n",
       "      <td>0.599486</td>\n",
       "      <td>-0.407677</td>\n",
       "      <td>-0.065803</td>\n",
       "      <td>-0.203927</td>\n",
       "      <td>-0.227534</td>\n",
       "      <td>-0.285465</td>\n",
       "      <td>0.183869</td>\n",
       "      <td>-0.124826</td>\n",
       "      <td>-2.079555e-14</td>\n",
       "      <td>-2.010934e-15</td>\n",
       "    </tr>\n",
       "    <tr>\n",
       "      <th>1</th>\n",
       "      <td>-0.024265</td>\n",
       "      <td>-1.039089</td>\n",
       "      <td>1.239587</td>\n",
       "      <td>-0.040265</td>\n",
       "      <td>-1.742313</td>\n",
       "      <td>0.230657</td>\n",
       "      <td>3.521666</td>\n",
       "      <td>-0.271480</td>\n",
       "      <td>0.110057</td>\n",
       "      <td>0.181165</td>\n",
       "      <td>...</td>\n",
       "      <td>-0.885646</td>\n",
       "      <td>-0.981289</td>\n",
       "      <td>0.579194</td>\n",
       "      <td>0.012887</td>\n",
       "      <td>0.024021</td>\n",
       "      <td>-0.364437</td>\n",
       "      <td>-0.004304</td>\n",
       "      <td>0.181952</td>\n",
       "      <td>1.968510e-14</td>\n",
       "      <td>6.551843e-16</td>\n",
       "    </tr>\n",
       "    <tr>\n",
       "      <th>2</th>\n",
       "      <td>1.679334</td>\n",
       "      <td>0.211701</td>\n",
       "      <td>-1.486009</td>\n",
       "      <td>-1.371973</td>\n",
       "      <td>-0.128627</td>\n",
       "      <td>0.348324</td>\n",
       "      <td>-0.391772</td>\n",
       "      <td>-0.265399</td>\n",
       "      <td>-0.566892</td>\n",
       "      <td>-0.087086</td>\n",
       "      <td>...</td>\n",
       "      <td>0.457779</td>\n",
       "      <td>-0.493177</td>\n",
       "      <td>0.641383</td>\n",
       "      <td>-0.012469</td>\n",
       "      <td>0.180416</td>\n",
       "      <td>0.623702</td>\n",
       "      <td>0.033294</td>\n",
       "      <td>-0.221142</td>\n",
       "      <td>2.574226e-15</td>\n",
       "      <td>1.454481e-15</td>\n",
       "    </tr>\n",
       "    <tr>\n",
       "      <th>3</th>\n",
       "      <td>-0.336481</td>\n",
       "      <td>1.018336</td>\n",
       "      <td>0.696715</td>\n",
       "      <td>-0.198858</td>\n",
       "      <td>0.482340</td>\n",
       "      <td>-0.304718</td>\n",
       "      <td>-1.676915</td>\n",
       "      <td>1.059176</td>\n",
       "      <td>-1.968011</td>\n",
       "      <td>-1.097124</td>\n",
       "      <td>...</td>\n",
       "      <td>0.770427</td>\n",
       "      <td>-0.248663</td>\n",
       "      <td>-0.770738</td>\n",
       "      <td>-0.980016</td>\n",
       "      <td>0.214219</td>\n",
       "      <td>0.514776</td>\n",
       "      <td>0.579941</td>\n",
       "      <td>1.190011</td>\n",
       "      <td>1.746043e-14</td>\n",
       "      <td>-4.320750e-15</td>\n",
       "    </tr>\n",
       "    <tr>\n",
       "      <th>4</th>\n",
       "      <td>4.404537</td>\n",
       "      <td>1.128050</td>\n",
       "      <td>-0.553249</td>\n",
       "      <td>-1.401276</td>\n",
       "      <td>-0.092282</td>\n",
       "      <td>0.683032</td>\n",
       "      <td>0.311971</td>\n",
       "      <td>-0.576847</td>\n",
       "      <td>-0.998876</td>\n",
       "      <td>0.079705</td>\n",
       "      <td>...</td>\n",
       "      <td>0.501246</td>\n",
       "      <td>-0.152276</td>\n",
       "      <td>-0.149171</td>\n",
       "      <td>0.131212</td>\n",
       "      <td>0.064949</td>\n",
       "      <td>-0.096986</td>\n",
       "      <td>0.055560</td>\n",
       "      <td>-0.151170</td>\n",
       "      <td>4.178877e-15</td>\n",
       "      <td>-1.245376e-15</td>\n",
       "    </tr>\n",
       "  </tbody>\n",
       "</table>\n",
       "<p>5 rows × 36 columns</p>\n",
       "</div>"
      ],
      "text/plain": [
       "        PC1       PC2       PC3       PC4       PC5       PC6       PC7  \\\n",
       "0  1.496455  0.326994 -1.697896 -1.934307  0.504198 -1.186464 -0.761461   \n",
       "1 -0.024265 -1.039089  1.239587 -0.040265 -1.742313  0.230657  3.521666   \n",
       "2  1.679334  0.211701 -1.486009 -1.371973 -0.128627  0.348324 -0.391772   \n",
       "3 -0.336481  1.018336  0.696715 -0.198858  0.482340 -0.304718 -1.676915   \n",
       "4  4.404537  1.128050 -0.553249 -1.401276 -0.092282  0.683032  0.311971   \n",
       "\n",
       "        PC8       PC9      PC10  ...      PC27      PC28      PC29      PC30  \\\n",
       "0 -0.240933 -0.561244 -0.035534  ...  0.599486 -0.407677 -0.065803 -0.203927   \n",
       "1 -0.271480  0.110057  0.181165  ... -0.885646 -0.981289  0.579194  0.012887   \n",
       "2 -0.265399 -0.566892 -0.087086  ...  0.457779 -0.493177  0.641383 -0.012469   \n",
       "3  1.059176 -1.968011 -1.097124  ...  0.770427 -0.248663 -0.770738 -0.980016   \n",
       "4 -0.576847 -0.998876  0.079705  ...  0.501246 -0.152276 -0.149171  0.131212   \n",
       "\n",
       "       PC31      PC32      PC33      PC34          PC35          PC36  \n",
       "0 -0.227534 -0.285465  0.183869 -0.124826 -2.079555e-14 -2.010934e-15  \n",
       "1  0.024021 -0.364437 -0.004304  0.181952  1.968510e-14  6.551843e-16  \n",
       "2  0.180416  0.623702  0.033294 -0.221142  2.574226e-15  1.454481e-15  \n",
       "3  0.214219  0.514776  0.579941  1.190011  1.746043e-14 -4.320750e-15  \n",
       "4  0.064949 -0.096986  0.055560 -0.151170  4.178877e-15 -1.245376e-15  \n",
       "\n",
       "[5 rows x 36 columns]"
      ]
     },
     "execution_count": 5,
     "metadata": {},
     "output_type": "execute_result"
    }
   ],
   "source": [
    "# Convert to dataframe\n",
    "component_names = [f\"PC{i+1}\" for i in range(X_pca.shape[1])]\n",
    "X_pca = pd.DataFrame(X_pca, columns=component_names)\n",
    "\n",
    "X_pca.head()"
   ]
  },
  {
   "cell_type": "code",
   "execution_count": 6,
   "id": "aedb4094",
   "metadata": {},
   "outputs": [
    {
     "data": {
      "text/plain": [
       "(1460, 36)"
      ]
     },
     "execution_count": 6,
     "metadata": {},
     "output_type": "execute_result"
    }
   ],
   "source": [
    "X_pca.shape"
   ]
  },
  {
   "cell_type": "code",
   "execution_count": 7,
   "id": "dfc867e0",
   "metadata": {},
   "outputs": [
    {
     "data": {
      "text/plain": [
       "(1460, 36)"
      ]
     },
     "execution_count": 7,
     "metadata": {},
     "output_type": "execute_result"
    }
   ],
   "source": [
    "X[numerical_col].shape"
   ]
  },
  {
   "cell_type": "markdown",
   "id": "9ea7490e",
   "metadata": {},
   "source": [
    "Notice that X and X_pca both have the same dimention (well after we take into consideration that we apply PCA only on numerical, continuous values)."
   ]
  },
  {
   "cell_type": "code",
   "execution_count": 8,
   "id": "2074b5ca",
   "metadata": {},
   "outputs": [
    {
     "data": {
      "text/html": [
       "<div>\n",
       "<style scoped>\n",
       "    .dataframe tbody tr th:only-of-type {\n",
       "        vertical-align: middle;\n",
       "    }\n",
       "\n",
       "    .dataframe tbody tr th {\n",
       "        vertical-align: top;\n",
       "    }\n",
       "\n",
       "    .dataframe thead th {\n",
       "        text-align: right;\n",
       "    }\n",
       "</style>\n",
       "<table border=\"1\" class=\"dataframe\">\n",
       "  <thead>\n",
       "    <tr style=\"text-align: right;\">\n",
       "      <th></th>\n",
       "      <th>PC1</th>\n",
       "      <th>PC2</th>\n",
       "      <th>PC3</th>\n",
       "      <th>PC4</th>\n",
       "      <th>PC5</th>\n",
       "      <th>PC6</th>\n",
       "      <th>PC7</th>\n",
       "      <th>PC8</th>\n",
       "      <th>PC9</th>\n",
       "      <th>PC10</th>\n",
       "      <th>...</th>\n",
       "      <th>PC27</th>\n",
       "      <th>PC28</th>\n",
       "      <th>PC29</th>\n",
       "      <th>PC30</th>\n",
       "      <th>PC31</th>\n",
       "      <th>PC32</th>\n",
       "      <th>PC33</th>\n",
       "      <th>PC34</th>\n",
       "      <th>PC35</th>\n",
       "      <th>PC36</th>\n",
       "    </tr>\n",
       "  </thead>\n",
       "  <tbody>\n",
       "    <tr>\n",
       "      <th>MSSubClass</th>\n",
       "      <td>-0.016435</td>\n",
       "      <td>0.158542</td>\n",
       "      <td>-0.233585</td>\n",
       "      <td>-0.299005</td>\n",
       "      <td>0.310344</td>\n",
       "      <td>0.157398</td>\n",
       "      <td>0.054335</td>\n",
       "      <td>0.157793</td>\n",
       "      <td>0.223668</td>\n",
       "      <td>-0.103351</td>\n",
       "      <td>...</td>\n",
       "      <td>-0.188452</td>\n",
       "      <td>0.283921</td>\n",
       "      <td>0.010824</td>\n",
       "      <td>0.050689</td>\n",
       "      <td>-0.078326</td>\n",
       "      <td>-0.064529</td>\n",
       "      <td>0.026510</td>\n",
       "      <td>-0.022327</td>\n",
       "      <td>2.863039e-16</td>\n",
       "      <td>-0.000000e+00</td>\n",
       "    </tr>\n",
       "    <tr>\n",
       "      <th>LotFrontage</th>\n",
       "      <td>0.154483</td>\n",
       "      <td>0.002684</td>\n",
       "      <td>0.280237</td>\n",
       "      <td>0.120761</td>\n",
       "      <td>-0.075589</td>\n",
       "      <td>-0.121206</td>\n",
       "      <td>-0.022632</td>\n",
       "      <td>-0.116468</td>\n",
       "      <td>-0.215593</td>\n",
       "      <td>0.077370</td>\n",
       "      <td>...</td>\n",
       "      <td>-0.017371</td>\n",
       "      <td>0.089087</td>\n",
       "      <td>0.078052</td>\n",
       "      <td>0.013217</td>\n",
       "      <td>0.001237</td>\n",
       "      <td>-0.027143</td>\n",
       "      <td>0.048821</td>\n",
       "      <td>0.044787</td>\n",
       "      <td>-1.614870e-16</td>\n",
       "      <td>-3.560248e-17</td>\n",
       "    </tr>\n",
       "    <tr>\n",
       "      <th>LotArea</th>\n",
       "      <td>0.105923</td>\n",
       "      <td>-0.022946</td>\n",
       "      <td>0.284352</td>\n",
       "      <td>-0.029261</td>\n",
       "      <td>-0.048235</td>\n",
       "      <td>-0.056767</td>\n",
       "      <td>0.121995</td>\n",
       "      <td>-0.134168</td>\n",
       "      <td>-0.094896</td>\n",
       "      <td>0.211061</td>\n",
       "      <td>...</td>\n",
       "      <td>-0.043806</td>\n",
       "      <td>-0.051413</td>\n",
       "      <td>-0.097841</td>\n",
       "      <td>-0.008115</td>\n",
       "      <td>-0.015480</td>\n",
       "      <td>-0.010879</td>\n",
       "      <td>0.002177</td>\n",
       "      <td>-0.006396</td>\n",
       "      <td>-4.332656e-17</td>\n",
       "      <td>-5.536367e-17</td>\n",
       "    </tr>\n",
       "    <tr>\n",
       "      <th>OverallQual</th>\n",
       "      <td>0.300372</td>\n",
       "      <td>-0.017207</td>\n",
       "      <td>-0.102313</td>\n",
       "      <td>0.008759</td>\n",
       "      <td>-0.125358</td>\n",
       "      <td>0.003821</td>\n",
       "      <td>-0.047225</td>\n",
       "      <td>0.129077</td>\n",
       "      <td>0.049114</td>\n",
       "      <td>-0.139089</td>\n",
       "      <td>...</td>\n",
       "      <td>0.083837</td>\n",
       "      <td>-0.507647</td>\n",
       "      <td>-0.606090</td>\n",
       "      <td>0.192086</td>\n",
       "      <td>-0.070329</td>\n",
       "      <td>0.150802</td>\n",
       "      <td>0.150633</td>\n",
       "      <td>-0.012561</td>\n",
       "      <td>-5.224444e-16</td>\n",
       "      <td>6.315051e-17</td>\n",
       "    </tr>\n",
       "    <tr>\n",
       "      <th>OverallCond</th>\n",
       "      <td>-0.082874</td>\n",
       "      <td>0.061566</td>\n",
       "      <td>0.127592</td>\n",
       "      <td>-0.090061</td>\n",
       "      <td>-0.390434</td>\n",
       "      <td>-0.203048</td>\n",
       "      <td>0.317225</td>\n",
       "      <td>0.193894</td>\n",
       "      <td>0.192419</td>\n",
       "      <td>-0.318288</td>\n",
       "      <td>...</td>\n",
       "      <td>-0.294427</td>\n",
       "      <td>-0.193319</td>\n",
       "      <td>0.139192</td>\n",
       "      <td>-0.174961</td>\n",
       "      <td>-0.068296</td>\n",
       "      <td>-0.059687</td>\n",
       "      <td>-0.120277</td>\n",
       "      <td>0.006679</td>\n",
       "      <td>5.784976e-16</td>\n",
       "      <td>-2.747204e-16</td>\n",
       "    </tr>\n",
       "  </tbody>\n",
       "</table>\n",
       "<p>5 rows × 36 columns</p>\n",
       "</div>"
      ],
      "text/plain": [
       "                  PC1       PC2       PC3       PC4       PC5       PC6  \\\n",
       "MSSubClass  -0.016435  0.158542 -0.233585 -0.299005  0.310344  0.157398   \n",
       "LotFrontage  0.154483  0.002684  0.280237  0.120761 -0.075589 -0.121206   \n",
       "LotArea      0.105923 -0.022946  0.284352 -0.029261 -0.048235 -0.056767   \n",
       "OverallQual  0.300372 -0.017207 -0.102313  0.008759 -0.125358  0.003821   \n",
       "OverallCond -0.082874  0.061566  0.127592 -0.090061 -0.390434 -0.203048   \n",
       "\n",
       "                  PC7       PC8       PC9      PC10  ...      PC27      PC28  \\\n",
       "MSSubClass   0.054335  0.157793  0.223668 -0.103351  ... -0.188452  0.283921   \n",
       "LotFrontage -0.022632 -0.116468 -0.215593  0.077370  ... -0.017371  0.089087   \n",
       "LotArea      0.121995 -0.134168 -0.094896  0.211061  ... -0.043806 -0.051413   \n",
       "OverallQual -0.047225  0.129077  0.049114 -0.139089  ...  0.083837 -0.507647   \n",
       "OverallCond  0.317225  0.193894  0.192419 -0.318288  ... -0.294427 -0.193319   \n",
       "\n",
       "                 PC29      PC30      PC31      PC32      PC33      PC34  \\\n",
       "MSSubClass   0.010824  0.050689 -0.078326 -0.064529  0.026510 -0.022327   \n",
       "LotFrontage  0.078052  0.013217  0.001237 -0.027143  0.048821  0.044787   \n",
       "LotArea     -0.097841 -0.008115 -0.015480 -0.010879  0.002177 -0.006396   \n",
       "OverallQual -0.606090  0.192086 -0.070329  0.150802  0.150633 -0.012561   \n",
       "OverallCond  0.139192 -0.174961 -0.068296 -0.059687 -0.120277  0.006679   \n",
       "\n",
       "                     PC35          PC36  \n",
       "MSSubClass   2.863039e-16 -0.000000e+00  \n",
       "LotFrontage -1.614870e-16 -3.560248e-17  \n",
       "LotArea     -4.332656e-17 -5.536367e-17  \n",
       "OverallQual -5.224444e-16  6.315051e-17  \n",
       "OverallCond  5.784976e-16 -2.747204e-16  \n",
       "\n",
       "[5 rows x 36 columns]"
      ]
     },
     "execution_count": 8,
     "metadata": {},
     "output_type": "execute_result"
    }
   ],
   "source": [
    "relation_pca_columns = pd.DataFrame(\n",
    "    pca.components_.T,  # transpose the matrix \n",
    "    columns=component_names,  # so the columns are the principal components\n",
    "    index=numerical_col  # and the rows are the original features\n",
    ")\n",
    "relation_pca_columns.head()"
   ]
  },
  {
   "cell_type": "code",
   "execution_count": 9,
   "id": "ceaa35ae",
   "metadata": {},
   "outputs": [],
   "source": [
    "def plot_variance(pca, width=8, dpi=100):\n",
    "    # Create figure\n",
    "    fig, axs = plt.subplots(1, 2)\n",
    "    n = pca.n_components_\n",
    "    grid = np.arange(1, n + 1)\n",
    "    # Explained variance\n",
    "    evr = pca.explained_variance_ratio_\n",
    "    axs[0].bar(grid, evr)\n",
    "    axs[0].set(\n",
    "        xlabel=\"Component\", title=\"% Explained Variance\"\n",
    "    )\n",
    "    # Cumulative Variance\n",
    "    cv = np.cumsum(evr)\n",
    "    axs[1].plot(np.r_[0, grid], np.r_[0, cv], \"o-\")\n",
    "    axs[1].set(\n",
    "        xlabel=\"Component\", title=\"% Cumulative Variance\"\n",
    "    )\n",
    "    # Set up figure\n",
    "    fig.set(figwidth=8, dpi=100)\n",
    "    return axs\n"
   ]
  },
  {
   "cell_type": "code",
   "execution_count": 10,
   "id": "fffb0965",
   "metadata": {},
   "outputs": [
    {
     "data": {
      "text/plain": [
       "array([<Axes: title={'center': '% Explained Variance'}, xlabel='Component'>,\n",
       "       <Axes: title={'center': '% Cumulative Variance'}, xlabel='Component'>],\n",
       "      dtype=object)"
      ]
     },
     "execution_count": 10,
     "metadata": {},
     "output_type": "execute_result"
    },
    {
     "data": {
      "image/png": "[encoded data removed]",
      "text/plain": [
       "<Figure size 800x480 with 2 Axes>"
      ]
     },
     "metadata": {},
     "output_type": "display_data"
    }
   ],
   "source": [
    "plot_variance(pca)"
   ]
  },
  {
   "cell_type": "markdown",
   "id": "d48a86be",
   "metadata": {},
   "source": [
    "## Comparing models\n",
    "we are going to compare two models one using the PCA and the other using the normal input space and compare them.\n",
    "- Using all variables of PCA (In this case both model should be equal or very similar)\n",
    "- Using variables that explain 80% of input space variance"
   ]
  },
  {
   "cell_type": "markdown",
   "id": "caa61bf2",
   "metadata": {},
   "source": [
    "This pipeline we will use:"
   ]
  },
  {
   "cell_type": "code",
   "execution_count": 11,
   "id": "5997bad0",
   "metadata": {},
   "outputs": [],
   "source": [
    "def transforming_modeling_scoring(X,y,n_estimators=369,cv=5, scoring='neg_mean_absolute_error'):\n",
    "\n",
    "    \n",
    "    numerical_col = [col for col in X.columns if str(X[col].dtypes)!='object' ]\n",
    "    numerical_col_imputed = [col for col in numerical_col if X[col].isnull().any()==True]\n",
    "\n",
    "    categorical_col = [col for col in X.columns if str(X[col].dtypes)=='object' ]\n",
    "    categorical_col_imputed = [col for col in categorical_col if X[col].isnull().any()==True]\n",
    "\n",
    "    numerical_transformer = Pipeline(\n",
    "    steps=[(\"scaler\", StandardScaler()), (\"imputer\", KNNImputer(n_neighbors=3))\n",
    "      ]\n",
    "        )\n",
    "\n",
    "\n",
    "    categorical_transformer =  Pipeline(steps=[\n",
    "        ('imputer', SimpleImputer(missing_values=pd.NA, strategy='most_frequent')),\n",
    "        ('onehot', OneHotEncoder(handle_unknown='ignore'))\n",
    "    ])\n",
    "\n",
    "    preprocessor = ColumnTransformer(transformers=\n",
    "        [(\"numerical_transformer\", numerical_transformer, numerical_col_imputed),\n",
    "        (\"categorical_transformer\", categorical_transformer, categorical_col)],remainder='passthrough')\n",
    "\n",
    "    # Define model\n",
    "    model = RandomForestRegressor(n_estimators=n_estimators,random_state=0,n_jobs=-1)\n",
    "\n",
    "    # Bundle preprocessing and modeling code in a pipeline\n",
    "    pipe = Pipeline(steps=[('preprocessor', preprocessor),\n",
    "                          ('model', model)\n",
    "                         ])\n",
    "\n",
    "    \n",
    "    scores = -1 * cross_val_score(pipe, X, y,cv=cv,scoring=scoring)\n",
    "\n",
    "    return scores"
   ]
  },
  {
   "cell_type": "markdown",
   "id": "60602f61",
   "metadata": {},
   "source": [
    "### we use the same number of feautures in both"
   ]
  },
  {
   "cell_type": "code",
   "execution_count": 12,
   "id": "06e3a868",
   "metadata": {},
   "outputs": [
    {
     "data": {
      "text/plain": [
       "18076.509846564382"
      ]
     },
     "execution_count": 12,
     "metadata": {},
     "output_type": "execute_result"
    }
   ],
   "source": [
    "score = transforming_modeling_scoring(X_pca,y)\n",
    "score_without_pca = score.mean()\n",
    "score_without_pca"
   ]
  },
  {
   "cell_type": "code",
   "execution_count": 13,
   "id": "c16c46e9",
   "metadata": {},
   "outputs": [
    {
     "data": {
      "text/plain": [
       "17935.087132630455"
      ]
     },
     "execution_count": 13,
     "metadata": {},
     "output_type": "execute_result"
    }
   ],
   "source": [
    "score = transforming_modeling_scoring(X[numerical_col],y)\n",
    "score.mean()"
   ]
  },
  {
   "cell_type": "markdown",
   "id": "de864031",
   "metadata": {},
   "source": [
    "### we use only until we explain 80% variance input space "
   ]
  },
  {
   "cell_type": "code",
   "execution_count": 14,
   "id": "a120aecb",
   "metadata": {},
   "outputs": [],
   "source": [
    "def number_components(pca,wanted_variance = 0.8):\n",
    "    variance_explain = 0\n",
    "    evr = pca.explained_variance_ratio_\n",
    "    number_components = 0\n",
    "    for variance in list(evr):\n",
    "        #print(variance_explain)\n",
    "        variance_explain = variance_explain + variance\n",
    "        number_components = number_components + 1\n",
    "        if variance_explain > wanted_variance - 0.001:\n",
    "            break\n",
    "    return variance_explain,number_components\n"
   ]
  },
  {
   "cell_type": "code",
   "execution_count": 15,
   "id": "70a57e0d",
   "metadata": {},
   "outputs": [
    {
     "name": "stdout",
     "output_type": "stream",
     "text": [
      "with 17 components we explain 80.31% of the variance\n"
     ]
    }
   ],
   "source": [
    "variance_explain,number_components = number_components(pca)\n",
    "print(f\"with {number_components} components we explain {round(100*variance_explain,2)}% of the variance\")"
   ]
  },
  {
   "cell_type": "code",
   "execution_count": 16,
   "id": "4aac0a15",
   "metadata": {},
   "outputs": [],
   "source": [
    "X_pca = X_pca[X_pca.columns[0:number_components]]"
   ]
  },
  {
   "cell_type": "code",
   "execution_count": 17,
   "id": "76e4b5ad",
   "metadata": {},
   "outputs": [],
   "source": [
    "score = transforming_modeling_scoring(X_pca,y)\n",
    "score_with_pca = score.mean()\n"
   ]
  },
  {
   "cell_type": "code",
   "execution_count": 18,
   "id": "11a0ed98",
   "metadata": {},
   "outputs": [
    {
     "data": {
      "text/plain": [
       "1.4291626833343414"
      ]
     },
     "execution_count": 18,
     "metadata": {},
     "output_type": "execute_result"
    }
   ],
   "source": [
    "porcetual_diff = 100*(score_with_pca - score_without_pca)/score_without_pca\n",
    "porcetual_diff"
   ]
  },
  {
   "cell_type": "code",
   "execution_count": 19,
   "id": "dbdeccb2",
   "metadata": {},
   "outputs": [
    {
     "name": "stdout",
     "output_type": "stream",
     "text": [
      "Notice that we have 1.43% in difference in the mae using all variables vs using the pca with 17 variables/components so we basically take out 52.78% of variables to loss just 1.43% in our MAE, pretty good trade, don't you think? \n"
     ]
    }
   ],
   "source": [
    "text = str(f\"\"\"Notice that we have {round(porcetual_diff,2)}% in difference in the mae using all variables vs using the pca with {number_components} variables/components so we basically take out {round(100*(len(numerical_col)-number_components)/len(numerical_col),2)}% of variables to loss just {round(porcetual_diff,2)}% in our MAE, pretty good trade, don't you think? \"\"\")\n",
    "print(text)"
   ]
  },
  {
   "cell_type": "code",
   "execution_count": null,
   "id": "dd677fdb",
   "metadata": {},
   "outputs": [],
   "source": []
  }
 ],
 "metadata": {
  "kernelspec": {
   "display_name": "Python 3 (ipykernel)",
   "language": "python",
   "name": "python3"
  },
  "language_info": {
   "codemirror_mode": {
    "name": "ipython",
    "version": 3
   },
   "file_extension": ".py",
   "mimetype": "text/x-python",
   "name": "python",
   "nbconvert_exporter": "python",
   "pygments_lexer": "ipython3",
   "version": "3.11.4"
  }
 },
 "nbformat": 4,
 "nbformat_minor": 5
}
