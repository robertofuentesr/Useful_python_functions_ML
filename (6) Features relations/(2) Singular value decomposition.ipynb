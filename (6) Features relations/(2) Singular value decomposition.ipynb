{
 "cells": [
  {
   "cell_type": "markdown",
   "id": "df1b9d6c",
   "metadata": {},
   "source": [
    "# Introduction\n",
    "This is a series that I am very excited about. We are going to explore some unsupervised models, the main idea is to understand the X-space or the space of the feautures.\n",
    "\n",
    "All the other things we saw so far explore how feautures helps us make certain kind of predictions. And then we look deeper at the model itself and try to explain how those feauture impact the model (shap and permutation analysis).\n",
    "\n",
    "But we haven't stopped to analysis with greater care how all the feautures that make those predictions move together. That what we are going to explore here. Graph theory was the only exception, because with graph theory we understand the underlying pattern of connections.\n",
    "\n",
    "We already saw PCA. Now we are going to use other method to reduce dimensionality (and hopefully not reducing as much our target indicator) The method is called singular value decomposition.\n",
    "Here we can use all the columns :) PCA didn't allow for sparce vector."
   ]
  },
  {
   "cell_type": "code",
   "execution_count": 1,
   "id": "6b08af2b",
   "metadata": {},
   "outputs": [],
   "source": [
    "# import libraries\n",
    "import numpy as np\n",
    "import pandas as pd\n",
    "from sklearn.model_selection import train_test_split\n",
    "from sklearn.ensemble import RandomForestRegressor\n",
    "from sklearn.metrics import mean_absolute_error\n",
    "from sklearn.compose import ColumnTransformer\n",
    "from sklearn.impute import SimpleImputer\n",
    "from sklearn.pipeline import Pipeline\n",
    "from sklearn.preprocessing import OneHotEncoder\n",
    "from sklearn.model_selection import cross_val_score\n",
    "import matplotlib.pyplot as plt\n",
    "\n",
    "from sklearn.preprocessing import StandardScaler\n",
    "from sklearn.impute import KNNImputer\n",
    "# new library, we haven't used this one before in this repo\n",
    "from sklearn.decomposition import TruncatedSVD"
   ]
  },
  {
   "cell_type": "code",
   "execution_count": 2,
   "id": "137f8512",
   "metadata": {},
   "outputs": [],
   "source": [
    "# Read the data\n",
    "# This data you can find here: https://www.kaggle.com/c/home-data-for-ml-course/data\n",
    "\n",
    "X_full = pd.read_csv('train.csv', index_col='Id')\n",
    "\n",
    "# SalePrice is the target, if there is no target eliminate row associated with it\n",
    "X_full.dropna(axis=0, subset=['SalePrice'], inplace=True)\n",
    "y = X_full.SalePrice\n",
    "X = X_full.copy()\n",
    "X.drop(['SalePrice'], axis=1, inplace=True)"
   ]
  },
  {
   "cell_type": "code",
   "execution_count": 3,
   "id": "93764862",
   "metadata": {},
   "outputs": [],
   "source": [
    "def transforming_svd(X):\n",
    "    \n",
    "    # for PCA it is best to scale all numerical values.\n",
    "    \n",
    "    numerical_col = [col for col in X.columns if str(X[col].dtypes)!='object' ]\n",
    "    categorical_col = [col for col in X.columns if str(X[col].dtypes)=='object' ]\n",
    "    \n",
    "\n",
    "    numerical_transformer = Pipeline(\n",
    "    steps=[(\"scaler\", StandardScaler()), (\"imputer\", KNNImputer(n_neighbors=3))\n",
    "      ]\n",
    "        )\n",
    "    categorical_transformer =  Pipeline(steps=[\n",
    "        ('imputer', SimpleImputer(missing_values=pd.NA, strategy='most_frequent')),\n",
    "        ('onehot', OneHotEncoder(handle_unknown='ignore'))\n",
    "    ])\n",
    "\n",
    "    preprocessor = ColumnTransformer(transformers=\n",
    "        [(\"numerical_transformer\", numerical_transformer, numerical_col),\n",
    "        (\"categorical_transformer\", categorical_transformer, categorical_col)],remainder='passthrough')\n",
    "\n",
    "\n",
    "    # Create principal components\n",
    "    svd = TruncatedSVD(n_components=len(X.columns), n_iter=7, random_state=42)\n",
    "    \n",
    "    # Bundle preprocessing and modeling code in a pipeline\n",
    "    pipe = Pipeline(steps=[('preprocessor', preprocessor),\n",
    "                          ('model', svd)\n",
    "                         ])\n",
    "\n",
    "    \n",
    "    X_svd = pipe.fit_transform(X)\n",
    "    \n",
    "    return  X_svd,pipe['model']"
   ]
  },
  {
   "cell_type": "code",
   "execution_count": 4,
   "id": "eef992d0",
   "metadata": {},
   "outputs": [],
   "source": [
    "X_svd,svd = transforming_svd(X)"
   ]
  },
  {
   "cell_type": "code",
   "execution_count": 5,
   "id": "6938b70e",
   "metadata": {},
   "outputs": [
    {
     "data": {
      "text/html": [
       "<div>\n",
       "<style scoped>\n",
       "    .dataframe tbody tr th:only-of-type {\n",
       "        vertical-align: middle;\n",
       "    }\n",
       "\n",
       "    .dataframe tbody tr th {\n",
       "        vertical-align: top;\n",
       "    }\n",
       "\n",
       "    .dataframe thead th {\n",
       "        text-align: right;\n",
       "    }\n",
       "</style>\n",
       "<table border=\"1\" class=\"dataframe\">\n",
       "  <thead>\n",
       "    <tr style=\"text-align: right;\">\n",
       "      <th></th>\n",
       "      <th>svd1</th>\n",
       "      <th>svd2</th>\n",
       "      <th>svd3</th>\n",
       "      <th>svd4</th>\n",
       "      <th>svd5</th>\n",
       "      <th>svd6</th>\n",
       "      <th>svd7</th>\n",
       "      <th>svd8</th>\n",
       "      <th>svd9</th>\n",
       "      <th>svd10</th>\n",
       "      <th>...</th>\n",
       "      <th>svd70</th>\n",
       "      <th>svd71</th>\n",
       "      <th>svd72</th>\n",
       "      <th>svd73</th>\n",
       "      <th>svd74</th>\n",
       "      <th>svd75</th>\n",
       "      <th>svd76</th>\n",
       "      <th>svd77</th>\n",
       "      <th>svd78</th>\n",
       "      <th>svd79</th>\n",
       "    </tr>\n",
       "  </thead>\n",
       "  <tbody>\n",
       "    <tr>\n",
       "      <th>0</th>\n",
       "      <td>5.860690</td>\n",
       "      <td>2.284791</td>\n",
       "      <td>0.400613</td>\n",
       "      <td>-2.047690</td>\n",
       "      <td>-1.921106</td>\n",
       "      <td>0.257161</td>\n",
       "      <td>0.141224</td>\n",
       "      <td>1.044548</td>\n",
       "      <td>-1.500667</td>\n",
       "      <td>-0.192149</td>\n",
       "      <td>...</td>\n",
       "      <td>0.050206</td>\n",
       "      <td>-0.227046</td>\n",
       "      <td>-0.166864</td>\n",
       "      <td>-0.041210</td>\n",
       "      <td>-0.104147</td>\n",
       "      <td>0.176049</td>\n",
       "      <td>-0.033400</td>\n",
       "      <td>0.164387</td>\n",
       "      <td>-0.198624</td>\n",
       "      <td>-0.002622</td>\n",
       "    </tr>\n",
       "    <tr>\n",
       "      <th>1</th>\n",
       "      <td>5.414994</td>\n",
       "      <td>-0.138018</td>\n",
       "      <td>-1.216137</td>\n",
       "      <td>1.523959</td>\n",
       "      <td>-0.350276</td>\n",
       "      <td>-1.610951</td>\n",
       "      <td>-0.685855</td>\n",
       "      <td>0.050043</td>\n",
       "      <td>2.115816</td>\n",
       "      <td>2.596983</td>\n",
       "      <td>...</td>\n",
       "      <td>0.133095</td>\n",
       "      <td>0.133786</td>\n",
       "      <td>0.279779</td>\n",
       "      <td>-0.251253</td>\n",
       "      <td>0.131960</td>\n",
       "      <td>-0.165306</td>\n",
       "      <td>-0.392031</td>\n",
       "      <td>-0.248289</td>\n",
       "      <td>-0.226464</td>\n",
       "      <td>0.051063</td>\n",
       "    </tr>\n",
       "    <tr>\n",
       "      <th>2</th>\n",
       "      <td>5.594409</td>\n",
       "      <td>2.655626</td>\n",
       "      <td>0.246532</td>\n",
       "      <td>-1.695302</td>\n",
       "      <td>-1.624716</td>\n",
       "      <td>-0.463115</td>\n",
       "      <td>-0.248818</td>\n",
       "      <td>0.178135</td>\n",
       "      <td>-0.336623</td>\n",
       "      <td>-0.667962</td>\n",
       "      <td>...</td>\n",
       "      <td>0.347896</td>\n",
       "      <td>-0.109072</td>\n",
       "      <td>-0.104064</td>\n",
       "      <td>-0.097918</td>\n",
       "      <td>0.086932</td>\n",
       "      <td>0.219050</td>\n",
       "      <td>0.005301</td>\n",
       "      <td>0.133161</td>\n",
       "      <td>-0.277176</td>\n",
       "      <td>-0.109505</td>\n",
       "    </tr>\n",
       "    <tr>\n",
       "      <th>3</th>\n",
       "      <td>5.172234</td>\n",
       "      <td>-0.770623</td>\n",
       "      <td>1.476583</td>\n",
       "      <td>0.680120</td>\n",
       "      <td>-0.141320</td>\n",
       "      <td>0.111859</td>\n",
       "      <td>2.144862</td>\n",
       "      <td>-0.862289</td>\n",
       "      <td>-1.791348</td>\n",
       "      <td>-0.988139</td>\n",
       "      <td>...</td>\n",
       "      <td>-0.941915</td>\n",
       "      <td>0.454812</td>\n",
       "      <td>0.130993</td>\n",
       "      <td>-0.771417</td>\n",
       "      <td>0.374406</td>\n",
       "      <td>0.473870</td>\n",
       "      <td>-0.097151</td>\n",
       "      <td>0.530386</td>\n",
       "      <td>-0.295799</td>\n",
       "      <td>-0.090091</td>\n",
       "    </tr>\n",
       "    <tr>\n",
       "      <th>4</th>\n",
       "      <td>5.455996</td>\n",
       "      <td>5.031450</td>\n",
       "      <td>1.397822</td>\n",
       "      <td>-0.292417</td>\n",
       "      <td>-1.556573</td>\n",
       "      <td>-0.248187</td>\n",
       "      <td>-0.579570</td>\n",
       "      <td>0.029379</td>\n",
       "      <td>-0.084205</td>\n",
       "      <td>-0.276990</td>\n",
       "      <td>...</td>\n",
       "      <td>-0.004192</td>\n",
       "      <td>0.087968</td>\n",
       "      <td>-0.128439</td>\n",
       "      <td>0.013173</td>\n",
       "      <td>-0.056702</td>\n",
       "      <td>-0.189072</td>\n",
       "      <td>-0.141733</td>\n",
       "      <td>-0.019693</td>\n",
       "      <td>0.092247</td>\n",
       "      <td>-0.103336</td>\n",
       "    </tr>\n",
       "  </tbody>\n",
       "</table>\n",
       "<p>5 rows × 79 columns</p>\n",
       "</div>"
      ],
      "text/plain": [
       "       svd1      svd2      svd3      svd4      svd5      svd6      svd7  \\\n",
       "0  5.860690  2.284791  0.400613 -2.047690 -1.921106  0.257161  0.141224   \n",
       "1  5.414994 -0.138018 -1.216137  1.523959 -0.350276 -1.610951 -0.685855   \n",
       "2  5.594409  2.655626  0.246532 -1.695302 -1.624716 -0.463115 -0.248818   \n",
       "3  5.172234 -0.770623  1.476583  0.680120 -0.141320  0.111859  2.144862   \n",
       "4  5.455996  5.031450  1.397822 -0.292417 -1.556573 -0.248187 -0.579570   \n",
       "\n",
       "       svd8      svd9     svd10  ...     svd70     svd71     svd72     svd73  \\\n",
       "0  1.044548 -1.500667 -0.192149  ...  0.050206 -0.227046 -0.166864 -0.041210   \n",
       "1  0.050043  2.115816  2.596983  ...  0.133095  0.133786  0.279779 -0.251253   \n",
       "2  0.178135 -0.336623 -0.667962  ...  0.347896 -0.109072 -0.104064 -0.097918   \n",
       "3 -0.862289 -1.791348 -0.988139  ... -0.941915  0.454812  0.130993 -0.771417   \n",
       "4  0.029379 -0.084205 -0.276990  ... -0.004192  0.087968 -0.128439  0.013173   \n",
       "\n",
       "      svd74     svd75     svd76     svd77     svd78     svd79  \n",
       "0 -0.104147  0.176049 -0.033400  0.164387 -0.198624 -0.002622  \n",
       "1  0.131960 -0.165306 -0.392031 -0.248289 -0.226464  0.051063  \n",
       "2  0.086932  0.219050  0.005301  0.133161 -0.277176 -0.109505  \n",
       "3  0.374406  0.473870 -0.097151  0.530386 -0.295799 -0.090091  \n",
       "4 -0.056702 -0.189072 -0.141733 -0.019693  0.092247 -0.103336  \n",
       "\n",
       "[5 rows x 79 columns]"
      ]
     },
     "execution_count": 5,
     "metadata": {},
     "output_type": "execute_result"
    }
   ],
   "source": [
    "# Convert to dataframe\n",
    "component_names = [f\"svd{i+1}\" for i in range(X_svd.shape[1])]\n",
    "X_svd = pd.DataFrame(X_svd, columns=component_names)\n",
    "\n",
    "X_svd.head()"
   ]
  },
  {
   "cell_type": "code",
   "execution_count": 6,
   "id": "bf032d5a",
   "metadata": {},
   "outputs": [
    {
     "data": {
      "text/plain": [
       "(1460, 79)"
      ]
     },
     "execution_count": 6,
     "metadata": {},
     "output_type": "execute_result"
    }
   ],
   "source": [
    "X_svd.shape"
   ]
  },
  {
   "cell_type": "code",
   "execution_count": 7,
   "id": "3d7e6c20",
   "metadata": {},
   "outputs": [
    {
     "data": {
      "text/plain": [
       "(1460, 79)"
      ]
     },
     "execution_count": 7,
     "metadata": {},
     "output_type": "execute_result"
    }
   ],
   "source": [
    "X.shape"
   ]
  },
  {
   "cell_type": "code",
   "execution_count": 8,
   "id": "c2773d6a",
   "metadata": {},
   "outputs": [],
   "source": [
    "def plot_variance(svd, width=8, dpi=100):\n",
    "    # Create figure\n",
    "    fig, axs = plt.subplots(1, 2)\n",
    "    n = len(X_svd.columns)\n",
    "    grid = np.arange(1, n + 1)\n",
    "    # Explained variance\n",
    "    evr = svd.explained_variance_ratio_\n",
    "    axs[0].bar(grid, evr)\n",
    "    axs[0].set(\n",
    "        xlabel=\"Component\", title=\"% Explained Variance\"\n",
    "    )\n",
    "    # Cumulative Variance\n",
    "    cv = np.cumsum(evr)\n",
    "    axs[1].plot(np.r_[0, grid], np.r_[0, cv], \"o-\")\n",
    "    axs[1].set(\n",
    "        xlabel=\"Component\", title=\"% Cumulative Variance\"\n",
    "    )\n",
    "    # Set up figure\n",
    "    fig.set(figwidth=8, dpi=100)\n",
    "    return axs"
   ]
  },
  {
   "cell_type": "code",
   "execution_count": 9,
   "id": "5e072815",
   "metadata": {},
   "outputs": [
    {
     "data": {
      "text/plain": [
       "array([<Axes: title={'center': '% Explained Variance'}, xlabel='Component'>,\n",
       "       <Axes: title={'center': '% Cumulative Variance'}, xlabel='Component'>],\n",
       "      dtype=object)"
      ]
     },
     "execution_count": 9,
     "metadata": {},
     "output_type": "execute_result"
    },
    {
     "data": {
      "image/png": "[encoded data removed]",
      "text/plain": [
       "<Figure size 800x480 with 2 Axes>"
      ]
     },
     "metadata": {},
     "output_type": "display_data"
    }
   ],
   "source": [
    "plot_variance(svd)"
   ]
  },
  {
   "cell_type": "markdown",
   "id": "fc1ec72a",
   "metadata": {},
   "source": [
    "# Comparing models\n",
    "\n",
    "we are going to compare two models one using the SVD and the other using the normal input space and compare them.\n",
    "\n",
    "Using all variables of SCD (In this case both model should be equal or very similar)\n",
    "Using variables that explain 80% of input space variance.\n",
    "\n",
    "This pipeline we will use:"
   ]
  },
  {
   "cell_type": "code",
   "execution_count": 10,
   "id": "91dbd162",
   "metadata": {},
   "outputs": [],
   "source": [
    "def transforming_modeling_scoring(X,y,n_estimators=369,cv=5, scoring='neg_mean_absolute_error'):\n",
    "\n",
    "    \n",
    "    numerical_col = [col for col in X.columns if str(X[col].dtypes)!='object' ]\n",
    "    numerical_col_imputed = [col for col in numerical_col if X[col].isnull().any()==True]\n",
    "\n",
    "    categorical_col = [col for col in X.columns if str(X[col].dtypes)=='object' ]\n",
    "    categorical_col_imputed = [col for col in categorical_col if X[col].isnull().any()==True]\n",
    "\n",
    "    numerical_transformer = Pipeline(\n",
    "    steps=[(\"scaler\", StandardScaler()), (\"imputer\", KNNImputer(n_neighbors=3))\n",
    "      ]\n",
    "        )\n",
    "\n",
    "\n",
    "    categorical_transformer =  Pipeline(steps=[\n",
    "        ('imputer', SimpleImputer(missing_values=pd.NA, strategy='most_frequent')),\n",
    "        ('onehot', OneHotEncoder(handle_unknown='ignore'))\n",
    "    ])\n",
    "\n",
    "    preprocessor = ColumnTransformer(transformers=\n",
    "        [(\"numerical_transformer\", numerical_transformer, numerical_col_imputed),\n",
    "        (\"categorical_transformer\", categorical_transformer, categorical_col)],remainder='passthrough')\n",
    "\n",
    "    # Define model\n",
    "    model = RandomForestRegressor(n_estimators=n_estimators,random_state=0,n_jobs=-1)\n",
    "\n",
    "    # Bundle preprocessing and modeling code in a pipeline\n",
    "    pipe = Pipeline(steps=[('preprocessor', preprocessor),\n",
    "                          ('model', model)\n",
    "                         ])\n",
    "\n",
    "    \n",
    "    scores = -1 * cross_val_score(pipe, X, y,cv=cv,scoring=scoring)\n",
    "\n",
    "    return scores"
   ]
  },
  {
   "cell_type": "code",
   "execution_count": 11,
   "id": "4b31fecc",
   "metadata": {},
   "outputs": [
    {
     "data": {
      "text/plain": [
       "17817.809139844823"
      ]
     },
     "execution_count": 11,
     "metadata": {},
     "output_type": "execute_result"
    }
   ],
   "source": [
    "score = transforming_modeling_scoring(X_svd,y)\n",
    "score = score.mean()\n",
    "score"
   ]
  },
  {
   "cell_type": "code",
   "execution_count": 12,
   "id": "a24d2e7b",
   "metadata": {},
   "outputs": [
    {
     "data": {
      "text/plain": [
       "17572.00848461224"
      ]
     },
     "execution_count": 12,
     "metadata": {},
     "output_type": "execute_result"
    }
   ],
   "source": [
    "score_without_svc = transforming_modeling_scoring(X,y)\n",
    "score_without_svc = score_without_svc.mean()\n",
    "score_without_svc"
   ]
  },
  {
   "cell_type": "code",
   "execution_count": null,
   "id": "ab756c3f",
   "metadata": {},
   "outputs": [],
   "source": []
  },
  {
   "cell_type": "markdown",
   "id": "f30b99a4",
   "metadata": {},
   "source": [
    "## we use only until we explain 80% variance input space"
   ]
  },
  {
   "cell_type": "code",
   "execution_count": 13,
   "id": "bd707a9e",
   "metadata": {},
   "outputs": [],
   "source": [
    "def number_components(svd,wanted_variance = 0.8):\n",
    "    variance_explain = 0\n",
    "    evr = svd.explained_variance_ratio_\n",
    "    number_components = 0\n",
    "    for variance in list(evr):\n",
    "        #print(variance_explain)\n",
    "        variance_explain = variance_explain + variance\n",
    "        number_components = number_components + 1\n",
    "        if variance_explain > wanted_variance - 0.001:\n",
    "            break\n",
    "    return variance_explain,number_components"
   ]
  },
  {
   "cell_type": "code",
   "execution_count": 14,
   "id": "838cf6ea",
   "metadata": {},
   "outputs": [
    {
     "name": "stdout",
     "output_type": "stream",
     "text": [
      "with 31 components we explain 80.52% of the variance\n"
     ]
    }
   ],
   "source": [
    "variance_explain,number_components = number_components(svd)\n",
    "print(f\"with {number_components} components we explain {round(100*variance_explain,2)}% of the variance\")"
   ]
  },
  {
   "cell_type": "code",
   "execution_count": 15,
   "id": "71bb3b88",
   "metadata": {},
   "outputs": [],
   "source": [
    "X_svd = X_svd[X_svd.columns[0:number_components]]"
   ]
  },
  {
   "cell_type": "code",
   "execution_count": 16,
   "id": "7066c472",
   "metadata": {},
   "outputs": [
    {
     "data": {
      "text/plain": [
       "17472.60851431117"
      ]
     },
     "execution_count": 16,
     "metadata": {},
     "output_type": "execute_result"
    }
   ],
   "source": [
    "score = transforming_modeling_scoring(X_svd,y)\n",
    "score_with_svd = score.mean()\n",
    "score_with_svd"
   ]
  },
  {
   "cell_type": "code",
   "execution_count": 17,
   "id": "e4912b62",
   "metadata": {},
   "outputs": [
    {
     "data": {
      "text/plain": [
       "-0.5656722189049402"
      ]
     },
     "execution_count": 17,
     "metadata": {},
     "output_type": "execute_result"
    }
   ],
   "source": [
    "porcetual_diff = 100*(score_with_svd - score_without_svc)/score_without_svc\n",
    "porcetual_diff"
   ]
  },
  {
   "cell_type": "code",
   "execution_count": 18,
   "id": "fde6538d",
   "metadata": {},
   "outputs": [
    {
     "name": "stdout",
     "output_type": "stream",
     "text": [
      "\n",
      "Notice that we unexpectently reduce by -0.57% \n",
      "the MAE evem though we reduce the number of columns. So SVD has\n",
      "31 vs 79 that we have at the beginning.\n",
      "reducing by 60.76% \n",
      "\n",
      "\n"
     ]
    }
   ],
   "source": [
    "text = str(f\"\"\"\n",
    "Notice that we unexpectently reduce by {round(porcetual_diff,2)}% \n",
    "the MAE evem though we reduce the number of columns. So SVD has\n",
    "{number_components} vs {len(X.columns)} that we have at the beginning.\n",
    "reducing by {round(100*(len(X.columns)-number_components)/len(X.columns),2)}% \n",
    "\n",
    "\"\"\")\n",
    "print(text)"
   ]
  },
  {
   "cell_type": "markdown",
   "id": "647f2f4d",
   "metadata": {},
   "source": [
    "This was highly unexpected. But this can be because we eliminate a little the noise of the data and because we use less feautures maybe the model is not overfitting so much. But it can also be a fluke! "
   ]
  },
  {
   "cell_type": "code",
   "execution_count": null,
   "id": "fd90ce2c",
   "metadata": {},
   "outputs": [],
   "source": []
  }
 ],
 "metadata": {
  "kernelspec": {
   "display_name": "Python 3 (ipykernel)",
   "language": "python",
   "name": "python3"
  },
  "language_info": {
   "codemirror_mode": {
    "name": "ipython",
    "version": 3
   },
   "file_extension": ".py",
   "mimetype": "text/x-python",
   "name": "python",
   "nbconvert_exporter": "python",
   "pygments_lexer": "ipython3",
   "version": "3.11.4"
  }
 },
 "nbformat": 4,
 "nbformat_minor": 5
}
