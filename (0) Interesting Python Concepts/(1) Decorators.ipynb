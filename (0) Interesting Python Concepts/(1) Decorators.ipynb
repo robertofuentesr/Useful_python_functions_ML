{
 "cells": [
  {
   "cell_type": "markdown",
   "id": "e44d898a",
   "metadata": {},
   "source": [
    "It is said that Python functions are first class citizens (https://en.wikipedia.org/wiki/First-class_citizen).\n",
    "\n",
    "So they can have several qualities that we are going to apply here!\n",
    "After we are done with those examples we are going to explore decorators.\n",
    "\n",
    "All of the notebook in this folder are to play with interesting concepts in Python. They are not by any means strickly needed to create machine learning models.\n",
    "\n",
    "## Functions assign to variables"
   ]
  },
  {
   "cell_type": "code",
   "execution_count": 1,
   "id": "8d25b9ec",
   "metadata": {},
   "outputs": [],
   "source": [
    "def greetings(name):\n",
    "    return \"hi \" + str(name)"
   ]
  },
  {
   "cell_type": "code",
   "execution_count": 2,
   "id": "3dba3395",
   "metadata": {},
   "outputs": [
    {
     "data": {
      "text/plain": [
       "'hi Pablo'"
      ]
     },
     "execution_count": 2,
     "metadata": {},
     "output_type": "execute_result"
    }
   ],
   "source": [
    "greetings(\"Pablo\")"
   ]
  },
  {
   "cell_type": "code",
   "execution_count": 3,
   "id": "e79306cd",
   "metadata": {},
   "outputs": [
    {
     "data": {
      "text/plain": [
       "'hi Roberto'"
      ]
     },
     "execution_count": 3,
     "metadata": {},
     "output_type": "execute_result"
    }
   ],
   "source": [
    "saying_hi = greetings\n",
    "saying_hi(\"Roberto\")"
   ]
  },
  {
   "cell_type": "markdown",
   "id": "8c0f1bee",
   "metadata": {},
   "source": [
    "Notice that saying_hi is a variable that is equal to the function greetings and after setting they equal saying_hi become the function itself!\n",
    "## Passing Functions as an argument"
   ]
  },
  {
   "cell_type": "code",
   "execution_count": 4,
   "id": "5d34aaf0",
   "metadata": {},
   "outputs": [
    {
     "data": {
      "text/plain": [
       "'hi tim'"
      ]
     },
     "execution_count": 4,
     "metadata": {},
     "output_type": "execute_result"
    }
   ],
   "source": [
    "def reveiving_function(function):\n",
    "    someone_else = \"tim\"\n",
    "    return function(someone_else)\n",
    "reveiving_function(saying_hi)"
   ]
  },
  {
   "cell_type": "markdown",
   "id": "2c7ea203",
   "metadata": {},
   "source": [
    "## Functions inside other functions"
   ]
  },
  {
   "cell_type": "code",
   "execution_count": 5,
   "id": "f0942f13",
   "metadata": {},
   "outputs": [
    {
     "data": {
      "text/plain": [
       "\"(cause) please don't jump ...(effect) mmm I think I will do that jump!\""
      ]
     },
     "execution_count": 5,
     "metadata": {},
     "output_type": "execute_result"
    }
   ],
   "source": [
    "def cause(action):\n",
    "    def effect(action):\n",
    "        return f\"...(effect) mmm I think I will do that {action}!\"\n",
    "    \n",
    "    return f\"(cause) please don't {action} {effect(action)}\"\n",
    "\n",
    "cause(\"jump\")"
   ]
  },
  {
   "cell_type": "markdown",
   "id": "ea6b83d3",
   "metadata": {},
   "source": [
    "Notice what is happening here, the function cause is called. The return function of cause is effect + some text giving by cause. \n",
    "## Closure"
   ]
  },
  {
   "cell_type": "code",
   "execution_count": 6,
   "id": "158d759b",
   "metadata": {},
   "outputs": [
    {
     "data": {
      "text/plain": [
       "\"(cause) please don't jump ...(effect) mmm I think I will do that jump!\""
      ]
     },
     "execution_count": 6,
     "metadata": {},
     "output_type": "execute_result"
    }
   ],
   "source": [
    "def cause_2(action):\n",
    "    def effect_2():\n",
    "        return f\"...(effect) mmm I think I will do that {action}!\"\n",
    "    \n",
    "    return f\"(cause) please don't {action} {effect_2()}\"\n",
    "\n",
    "cause_2(\"jump\")"
   ]
  },
  {
   "cell_type": "markdown",
   "id": "f10099a9",
   "metadata": {},
   "source": [
    "So now the nested function (effect_2) acts as the closure of the first function (cause_2). So the variable action can be access in effect_2"
   ]
  },
  {
   "cell_type": "code",
   "execution_count": 7,
   "id": "cb4804f6",
   "metadata": {},
   "outputs": [],
   "source": [
    "# other example\n",
    "def name_to_be_greeted(name):\n",
    "    def time_day(time):\n",
    "        if time == 'morning':\n",
    "            return print(f\"good morning {name}\")\n",
    "        else:\n",
    "            return print(f\"good afternoon {name}\") \n",
    "    return time_day"
   ]
  },
  {
   "cell_type": "code",
   "execution_count": 8,
   "id": "47ac4e48",
   "metadata": {},
   "outputs": [
    {
     "name": "stdout",
     "output_type": "stream",
     "text": [
      "good morning john\n",
      "good afternoon john\n",
      "good afternoon pedro\n"
     ]
    }
   ],
   "source": [
    "john_function = name_to_be_greeted(\"john\")\n",
    "john_function('morning')\n",
    "john_function('not morning')\n",
    "pedro_function = name_to_be_greeted(\"pedro\")\n",
    "pedro_function('night')"
   ]
  },
  {
   "cell_type": "markdown",
   "id": "0531c492",
   "metadata": {},
   "source": [
    "So notice that we run the function with John as a name and john_function is new define outer function with name as its parameter. \n",
    "So we called john_function with \"morning\" and notice that the variable john is still \"living\" inside the outer function and when the inner function is called the variable lives on and it greeting him correspondenly.\n",
    "\n",
    "## Decorators"
   ]
  },
  {
   "cell_type": "code",
   "execution_count": 9,
   "id": "af26232e",
   "metadata": {},
   "outputs": [],
   "source": [
    "def upper_case(function):\n",
    "    def wrapper():\n",
    "        func = function()\n",
    "        make_uppercase = func.upper()\n",
    "        return make_uppercase\n",
    "\n",
    "    return wrapper\n",
    "\n",
    "\n",
    "def d_string(function):\n",
    "    def wrapper():\n",
    "        func = function()\n",
    "        size = func.replace('l','d')\n",
    "        return size\n",
    "\n",
    "    return wrapper"
   ]
  },
  {
   "cell_type": "code",
   "execution_count": 10,
   "id": "0f806c60",
   "metadata": {},
   "outputs": [
    {
     "data": {
      "text/plain": [
       "'HEDDO STRANGER!'"
      ]
     },
     "execution_count": 10,
     "metadata": {},
     "output_type": "execute_result"
    }
   ],
   "source": [
    "# let us do something with decorators\n",
    "@upper_case\n",
    "@d_string\n",
    "def greeting():\n",
    "    return 'hello stranger!'\n",
    "\n",
    "greeting()"
   ]
  },
  {
   "cell_type": "markdown",
   "id": "172c51e7",
   "metadata": {},
   "source": [
    "Notice that the function greetings we apply two other functions in row, fist we apply the change of the l to the d, and then the upper case. So the function or added functionalities goes down to up!"
   ]
  },
  {
   "cell_type": "code",
   "execution_count": null,
   "id": "9d398757",
   "metadata": {},
   "outputs": [],
   "source": []
  }
 ],
 "metadata": {
  "kernelspec": {
   "display_name": "Python 3 (ipykernel)",
   "language": "python",
   "name": "python3"
  },
  "language_info": {
   "codemirror_mode": {
    "name": "ipython",
    "version": 3
   },
   "file_extension": ".py",
   "mimetype": "text/x-python",
   "name": "python",
   "nbconvert_exporter": "python",
   "pygments_lexer": "ipython3",
   "version": "3.11.4"
  }
 },
 "nbformat": 4,
 "nbformat_minor": 5
}
